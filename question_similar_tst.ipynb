{
  "nbformat": 4,
  "nbformat_minor": 0,
  "metadata": {
    "colab": {
      "provenance": [],
      "authorship_tag": "ABX9TyPHSLs4e0XP/rML2y4zgAGC",
      "include_colab_link": true
    },
    "kernelspec": {
      "name": "python3",
      "display_name": "Python 3"
    },
    "language_info": {
      "name": "python"
    },
    "widgets": {
      "application/vnd.jupyter.widget-state+json": {
        "81a96528616d41b19e3a18a787eb47d7": {
          "model_module": "@jupyter-widgets/controls",
          "model_name": "HBoxModel",
          "model_module_version": "1.5.0",
          "state": {
            "_view_name": "HBoxView",
            "_dom_classes": [],
            "_model_name": "HBoxModel",
            "_view_module": "@jupyter-widgets/controls",
            "_model_module_version": "1.5.0",
            "_view_count": null,
            "_view_module_version": "1.5.0",
            "box_style": "",
            "layout": "IPY_MODEL_a3d523f4aa94461bb7d1db9d609bc696",
            "_model_module": "@jupyter-widgets/controls",
            "children": [
              "IPY_MODEL_6a1e41fba0db4db6ae796f0ad558bce5",
              "IPY_MODEL_31ef59487b9746aeb839ab3960cbd04d",
              "IPY_MODEL_29222de7525d46b1808b303fb543d3e5"
            ]
          }
        },
        "a3d523f4aa94461bb7d1db9d609bc696": {
          "model_module": "@jupyter-widgets/base",
          "model_name": "LayoutModel",
          "model_module_version": "1.2.0",
          "state": {
            "_view_name": "LayoutView",
            "grid_template_rows": null,
            "right": null,
            "justify_content": null,
            "_view_module": "@jupyter-widgets/base",
            "overflow": null,
            "_model_module_version": "1.2.0",
            "_view_count": null,
            "flex_flow": null,
            "width": null,
            "min_width": null,
            "border": null,
            "align_items": null,
            "bottom": null,
            "_model_module": "@jupyter-widgets/base",
            "top": null,
            "grid_column": null,
            "overflow_y": null,
            "overflow_x": null,
            "grid_auto_flow": null,
            "grid_area": null,
            "grid_template_columns": null,
            "flex": null,
            "_model_name": "LayoutModel",
            "justify_items": null,
            "grid_row": null,
            "max_height": null,
            "align_content": null,
            "visibility": null,
            "align_self": null,
            "height": null,
            "min_height": null,
            "padding": null,
            "grid_auto_rows": null,
            "grid_gap": null,
            "max_width": null,
            "order": null,
            "_view_module_version": "1.2.0",
            "grid_template_areas": null,
            "object_position": null,
            "object_fit": null,
            "grid_auto_columns": null,
            "margin": null,
            "display": null,
            "left": null
          }
        },
        "6a1e41fba0db4db6ae796f0ad558bce5": {
          "model_module": "@jupyter-widgets/controls",
          "model_name": "HTMLModel",
          "model_module_version": "1.5.0",
          "state": {
            "_view_name": "HTMLView",
            "style": "IPY_MODEL_c3e31992c3b6412c9c2d67876ad92934",
            "_dom_classes": [],
            "description": "",
            "_model_name": "HTMLModel",
            "placeholder": "​",
            "_view_module": "@jupyter-widgets/controls",
            "_model_module_version": "1.5.0",
            "value": "Downloading: 100%",
            "_view_count": null,
            "_view_module_version": "1.5.0",
            "description_tooltip": null,
            "_model_module": "@jupyter-widgets/controls",
            "layout": "IPY_MODEL_0ac10371c8ee4fa1811d244e31a77f70"
          }
        },
        "31ef59487b9746aeb839ab3960cbd04d": {
          "model_module": "@jupyter-widgets/controls",
          "model_name": "FloatProgressModel",
          "model_module_version": "1.5.0",
          "state": {
            "_view_name": "ProgressView",
            "style": "IPY_MODEL_8a49745e42bb42569a6f4b8ee7c9e6bd",
            "_dom_classes": [],
            "description": "",
            "_model_name": "FloatProgressModel",
            "bar_style": "success",
            "max": 519,
            "_view_module": "@jupyter-widgets/controls",
            "_model_module_version": "1.5.0",
            "value": 519,
            "_view_count": null,
            "_view_module_version": "1.5.0",
            "orientation": "horizontal",
            "min": 0,
            "description_tooltip": null,
            "_model_module": "@jupyter-widgets/controls",
            "layout": "IPY_MODEL_ab29c30fc4fe4032977336268141c681"
          }
        },
        "29222de7525d46b1808b303fb543d3e5": {
          "model_module": "@jupyter-widgets/controls",
          "model_name": "HTMLModel",
          "model_module_version": "1.5.0",
          "state": {
            "_view_name": "HTMLView",
            "style": "IPY_MODEL_39a2c5bfc15548208d79d64c40585d8d",
            "_dom_classes": [],
            "description": "",
            "_model_name": "HTMLModel",
            "placeholder": "​",
            "_view_module": "@jupyter-widgets/controls",
            "_model_module_version": "1.5.0",
            "value": " 519/519 [00:00&lt;00:00, 9.89kB/s]",
            "_view_count": null,
            "_view_module_version": "1.5.0",
            "description_tooltip": null,
            "_model_module": "@jupyter-widgets/controls",
            "layout": "IPY_MODEL_bdf2271c2ff54a4bb39cab3da888af7d"
          }
        },
        "c3e31992c3b6412c9c2d67876ad92934": {
          "model_module": "@jupyter-widgets/controls",
          "model_name": "DescriptionStyleModel",
          "model_module_version": "1.5.0",
          "state": {
            "_view_name": "StyleView",
            "_model_name": "DescriptionStyleModel",
            "description_width": "",
            "_view_module": "@jupyter-widgets/base",
            "_model_module_version": "1.5.0",
            "_view_count": null,
            "_view_module_version": "1.2.0",
            "_model_module": "@jupyter-widgets/controls"
          }
        },
        "0ac10371c8ee4fa1811d244e31a77f70": {
          "model_module": "@jupyter-widgets/base",
          "model_name": "LayoutModel",
          "model_module_version": "1.2.0",
          "state": {
            "_view_name": "LayoutView",
            "grid_template_rows": null,
            "right": null,
            "justify_content": null,
            "_view_module": "@jupyter-widgets/base",
            "overflow": null,
            "_model_module_version": "1.2.0",
            "_view_count": null,
            "flex_flow": null,
            "width": null,
            "min_width": null,
            "border": null,
            "align_items": null,
            "bottom": null,
            "_model_module": "@jupyter-widgets/base",
            "top": null,
            "grid_column": null,
            "overflow_y": null,
            "overflow_x": null,
            "grid_auto_flow": null,
            "grid_area": null,
            "grid_template_columns": null,
            "flex": null,
            "_model_name": "LayoutModel",
            "justify_items": null,
            "grid_row": null,
            "max_height": null,
            "align_content": null,
            "visibility": null,
            "align_self": null,
            "height": null,
            "min_height": null,
            "padding": null,
            "grid_auto_rows": null,
            "grid_gap": null,
            "max_width": null,
            "order": null,
            "_view_module_version": "1.2.0",
            "grid_template_areas": null,
            "object_position": null,
            "object_fit": null,
            "grid_auto_columns": null,
            "margin": null,
            "display": null,
            "left": null
          }
        },
        "8a49745e42bb42569a6f4b8ee7c9e6bd": {
          "model_module": "@jupyter-widgets/controls",
          "model_name": "ProgressStyleModel",
          "model_module_version": "1.5.0",
          "state": {
            "_view_name": "StyleView",
            "_model_name": "ProgressStyleModel",
            "description_width": "",
            "_view_module": "@jupyter-widgets/base",
            "_model_module_version": "1.5.0",
            "_view_count": null,
            "_view_module_version": "1.2.0",
            "bar_color": null,
            "_model_module": "@jupyter-widgets/controls"
          }
        },
        "ab29c30fc4fe4032977336268141c681": {
          "model_module": "@jupyter-widgets/base",
          "model_name": "LayoutModel",
          "model_module_version": "1.2.0",
          "state": {
            "_view_name": "LayoutView",
            "grid_template_rows": null,
            "right": null,
            "justify_content": null,
            "_view_module": "@jupyter-widgets/base",
            "overflow": null,
            "_model_module_version": "1.2.0",
            "_view_count": null,
            "flex_flow": null,
            "width": null,
            "min_width": null,
            "border": null,
            "align_items": null,
            "bottom": null,
            "_model_module": "@jupyter-widgets/base",
            "top": null,
            "grid_column": null,
            "overflow_y": null,
            "overflow_x": null,
            "grid_auto_flow": null,
            "grid_area": null,
            "grid_template_columns": null,
            "flex": null,
            "_model_name": "LayoutModel",
            "justify_items": null,
            "grid_row": null,
            "max_height": null,
            "align_content": null,
            "visibility": null,
            "align_self": null,
            "height": null,
            "min_height": null,
            "padding": null,
            "grid_auto_rows": null,
            "grid_gap": null,
            "max_width": null,
            "order": null,
            "_view_module_version": "1.2.0",
            "grid_template_areas": null,
            "object_position": null,
            "object_fit": null,
            "grid_auto_columns": null,
            "margin": null,
            "display": null,
            "left": null
          }
        },
        "39a2c5bfc15548208d79d64c40585d8d": {
          "model_module": "@jupyter-widgets/controls",
          "model_name": "DescriptionStyleModel",
          "model_module_version": "1.5.0",
          "state": {
            "_view_name": "StyleView",
            "_model_name": "DescriptionStyleModel",
            "description_width": "",
            "_view_module": "@jupyter-widgets/base",
            "_model_module_version": "1.5.0",
            "_view_count": null,
            "_view_module_version": "1.2.0",
            "_model_module": "@jupyter-widgets/controls"
          }
        },
        "bdf2271c2ff54a4bb39cab3da888af7d": {
          "model_module": "@jupyter-widgets/base",
          "model_name": "LayoutModel",
          "model_module_version": "1.2.0",
          "state": {
            "_view_name": "LayoutView",
            "grid_template_rows": null,
            "right": null,
            "justify_content": null,
            "_view_module": "@jupyter-widgets/base",
            "overflow": null,
            "_model_module_version": "1.2.0",
            "_view_count": null,
            "flex_flow": null,
            "width": null,
            "min_width": null,
            "border": null,
            "align_items": null,
            "bottom": null,
            "_model_module": "@jupyter-widgets/base",
            "top": null,
            "grid_column": null,
            "overflow_y": null,
            "overflow_x": null,
            "grid_auto_flow": null,
            "grid_area": null,
            "grid_template_columns": null,
            "flex": null,
            "_model_name": "LayoutModel",
            "justify_items": null,
            "grid_row": null,
            "max_height": null,
            "align_content": null,
            "visibility": null,
            "align_self": null,
            "height": null,
            "min_height": null,
            "padding": null,
            "grid_auto_rows": null,
            "grid_gap": null,
            "max_width": null,
            "order": null,
            "_view_module_version": "1.2.0",
            "grid_template_areas": null,
            "object_position": null,
            "object_fit": null,
            "grid_auto_columns": null,
            "margin": null,
            "display": null,
            "left": null
          }
        },
        "163a7f980ad74e5781503317db0a04d5": {
          "model_module": "@jupyter-widgets/controls",
          "model_name": "HBoxModel",
          "model_module_version": "1.5.0",
          "state": {
            "_view_name": "HBoxView",
            "_dom_classes": [],
            "_model_name": "HBoxModel",
            "_view_module": "@jupyter-widgets/controls",
            "_model_module_version": "1.5.0",
            "_view_count": null,
            "_view_module_version": "1.5.0",
            "box_style": "",
            "layout": "IPY_MODEL_83d3985e4c774f7080b5adc45440cd65",
            "_model_module": "@jupyter-widgets/controls",
            "children": [
              "IPY_MODEL_6ea18f99cdd64737b976a5e4074651e4",
              "IPY_MODEL_e869a85c7b5248658581cc5988b0db43",
              "IPY_MODEL_5c671b2a69d4436aa8f98a7d0907c6ca"
            ]
          }
        },
        "83d3985e4c774f7080b5adc45440cd65": {
          "model_module": "@jupyter-widgets/base",
          "model_name": "LayoutModel",
          "model_module_version": "1.2.0",
          "state": {
            "_view_name": "LayoutView",
            "grid_template_rows": null,
            "right": null,
            "justify_content": null,
            "_view_module": "@jupyter-widgets/base",
            "overflow": null,
            "_model_module_version": "1.2.0",
            "_view_count": null,
            "flex_flow": null,
            "width": null,
            "min_width": null,
            "border": null,
            "align_items": null,
            "bottom": null,
            "_model_module": "@jupyter-widgets/base",
            "top": null,
            "grid_column": null,
            "overflow_y": null,
            "overflow_x": null,
            "grid_auto_flow": null,
            "grid_area": null,
            "grid_template_columns": null,
            "flex": null,
            "_model_name": "LayoutModel",
            "justify_items": null,
            "grid_row": null,
            "max_height": null,
            "align_content": null,
            "visibility": null,
            "align_self": null,
            "height": null,
            "min_height": null,
            "padding": null,
            "grid_auto_rows": null,
            "grid_gap": null,
            "max_width": null,
            "order": null,
            "_view_module_version": "1.2.0",
            "grid_template_areas": null,
            "object_position": null,
            "object_fit": null,
            "grid_auto_columns": null,
            "margin": null,
            "display": null,
            "left": null
          }
        },
        "6ea18f99cdd64737b976a5e4074651e4": {
          "model_module": "@jupyter-widgets/controls",
          "model_name": "HTMLModel",
          "model_module_version": "1.5.0",
          "state": {
            "_view_name": "HTMLView",
            "style": "IPY_MODEL_8bee688ee9f741189eb3aad5003d90e0",
            "_dom_classes": [],
            "description": "",
            "_model_name": "HTMLModel",
            "placeholder": "​",
            "_view_module": "@jupyter-widgets/controls",
            "_model_module_version": "1.5.0",
            "value": "Downloading: 100%",
            "_view_count": null,
            "_view_module_version": "1.5.0",
            "description_tooltip": null,
            "_model_module": "@jupyter-widgets/controls",
            "layout": "IPY_MODEL_dd439d22f8ec469fa54a2c191a3621af"
          }
        },
        "e869a85c7b5248658581cc5988b0db43": {
          "model_module": "@jupyter-widgets/controls",
          "model_name": "FloatProgressModel",
          "model_module_version": "1.5.0",
          "state": {
            "_view_name": "ProgressView",
            "style": "IPY_MODEL_98c0ac52514b47e89e23832c9da0987e",
            "_dom_classes": [],
            "description": "",
            "_model_name": "FloatProgressModel",
            "bar_style": "success",
            "max": 651449935,
            "_view_module": "@jupyter-widgets/controls",
            "_model_module_version": "1.5.0",
            "value": 651449935,
            "_view_count": null,
            "_view_module_version": "1.5.0",
            "orientation": "horizontal",
            "min": 0,
            "description_tooltip": null,
            "_model_module": "@jupyter-widgets/controls",
            "layout": "IPY_MODEL_c12c414baa42427eb6d2e9aac3d2ad42"
          }
        },
        "5c671b2a69d4436aa8f98a7d0907c6ca": {
          "model_module": "@jupyter-widgets/controls",
          "model_name": "HTMLModel",
          "model_module_version": "1.5.0",
          "state": {
            "_view_name": "HTMLView",
            "style": "IPY_MODEL_129d3ddd07574ad69836fbe1e95812e9",
            "_dom_classes": [],
            "description": "",
            "_model_name": "HTMLModel",
            "placeholder": "​",
            "_view_module": "@jupyter-widgets/controls",
            "_model_module_version": "1.5.0",
            "value": " 621M/621M [00:14&lt;00:00, 46.1MB/s]",
            "_view_count": null,
            "_view_module_version": "1.5.0",
            "description_tooltip": null,
            "_model_module": "@jupyter-widgets/controls",
            "layout": "IPY_MODEL_3b9369aef6384a42934b5d24f17bc91b"
          }
        },
        "8bee688ee9f741189eb3aad5003d90e0": {
          "model_module": "@jupyter-widgets/controls",
          "model_name": "DescriptionStyleModel",
          "model_module_version": "1.5.0",
          "state": {
            "_view_name": "StyleView",
            "_model_name": "DescriptionStyleModel",
            "description_width": "",
            "_view_module": "@jupyter-widgets/base",
            "_model_module_version": "1.5.0",
            "_view_count": null,
            "_view_module_version": "1.2.0",
            "_model_module": "@jupyter-widgets/controls"
          }
        },
        "dd439d22f8ec469fa54a2c191a3621af": {
          "model_module": "@jupyter-widgets/base",
          "model_name": "LayoutModel",
          "model_module_version": "1.2.0",
          "state": {
            "_view_name": "LayoutView",
            "grid_template_rows": null,
            "right": null,
            "justify_content": null,
            "_view_module": "@jupyter-widgets/base",
            "overflow": null,
            "_model_module_version": "1.2.0",
            "_view_count": null,
            "flex_flow": null,
            "width": null,
            "min_width": null,
            "border": null,
            "align_items": null,
            "bottom": null,
            "_model_module": "@jupyter-widgets/base",
            "top": null,
            "grid_column": null,
            "overflow_y": null,
            "overflow_x": null,
            "grid_auto_flow": null,
            "grid_area": null,
            "grid_template_columns": null,
            "flex": null,
            "_model_name": "LayoutModel",
            "justify_items": null,
            "grid_row": null,
            "max_height": null,
            "align_content": null,
            "visibility": null,
            "align_self": null,
            "height": null,
            "min_height": null,
            "padding": null,
            "grid_auto_rows": null,
            "grid_gap": null,
            "max_width": null,
            "order": null,
            "_view_module_version": "1.2.0",
            "grid_template_areas": null,
            "object_position": null,
            "object_fit": null,
            "grid_auto_columns": null,
            "margin": null,
            "display": null,
            "left": null
          }
        },
        "98c0ac52514b47e89e23832c9da0987e": {
          "model_module": "@jupyter-widgets/controls",
          "model_name": "ProgressStyleModel",
          "model_module_version": "1.5.0",
          "state": {
            "_view_name": "StyleView",
            "_model_name": "ProgressStyleModel",
            "description_width": "",
            "_view_module": "@jupyter-widgets/base",
            "_model_module_version": "1.5.0",
            "_view_count": null,
            "_view_module_version": "1.2.0",
            "bar_color": null,
            "_model_module": "@jupyter-widgets/controls"
          }
        },
        "c12c414baa42427eb6d2e9aac3d2ad42": {
          "model_module": "@jupyter-widgets/base",
          "model_name": "LayoutModel",
          "model_module_version": "1.2.0",
          "state": {
            "_view_name": "LayoutView",
            "grid_template_rows": null,
            "right": null,
            "justify_content": null,
            "_view_module": "@jupyter-widgets/base",
            "overflow": null,
            "_model_module_version": "1.2.0",
            "_view_count": null,
            "flex_flow": null,
            "width": null,
            "min_width": null,
            "border": null,
            "align_items": null,
            "bottom": null,
            "_model_module": "@jupyter-widgets/base",
            "top": null,
            "grid_column": null,
            "overflow_y": null,
            "overflow_x": null,
            "grid_auto_flow": null,
            "grid_area": null,
            "grid_template_columns": null,
            "flex": null,
            "_model_name": "LayoutModel",
            "justify_items": null,
            "grid_row": null,
            "max_height": null,
            "align_content": null,
            "visibility": null,
            "align_self": null,
            "height": null,
            "min_height": null,
            "padding": null,
            "grid_auto_rows": null,
            "grid_gap": null,
            "max_width": null,
            "order": null,
            "_view_module_version": "1.2.0",
            "grid_template_areas": null,
            "object_position": null,
            "object_fit": null,
            "grid_auto_columns": null,
            "margin": null,
            "display": null,
            "left": null
          }
        },
        "129d3ddd07574ad69836fbe1e95812e9": {
          "model_module": "@jupyter-widgets/controls",
          "model_name": "DescriptionStyleModel",
          "model_module_version": "1.5.0",
          "state": {
            "_view_name": "StyleView",
            "_model_name": "DescriptionStyleModel",
            "description_width": "",
            "_view_module": "@jupyter-widgets/base",
            "_model_module_version": "1.5.0",
            "_view_count": null,
            "_view_module_version": "1.2.0",
            "_model_module": "@jupyter-widgets/controls"
          }
        },
        "3b9369aef6384a42934b5d24f17bc91b": {
          "model_module": "@jupyter-widgets/base",
          "model_name": "LayoutModel",
          "model_module_version": "1.2.0",
          "state": {
            "_view_name": "LayoutView",
            "grid_template_rows": null,
            "right": null,
            "justify_content": null,
            "_view_module": "@jupyter-widgets/base",
            "overflow": null,
            "_model_module_version": "1.2.0",
            "_view_count": null,
            "flex_flow": null,
            "width": null,
            "min_width": null,
            "border": null,
            "align_items": null,
            "bottom": null,
            "_model_module": "@jupyter-widgets/base",
            "top": null,
            "grid_column": null,
            "overflow_y": null,
            "overflow_x": null,
            "grid_auto_flow": null,
            "grid_area": null,
            "grid_template_columns": null,
            "flex": null,
            "_model_name": "LayoutModel",
            "justify_items": null,
            "grid_row": null,
            "max_height": null,
            "align_content": null,
            "visibility": null,
            "align_self": null,
            "height": null,
            "min_height": null,
            "padding": null,
            "grid_auto_rows": null,
            "grid_gap": null,
            "max_width": null,
            "order": null,
            "_view_module_version": "1.2.0",
            "grid_template_areas": null,
            "object_position": null,
            "object_fit": null,
            "grid_auto_columns": null,
            "margin": null,
            "display": null,
            "left": null
          }
        },
        "a74e817224654a1f865fec9937fc2093": {
          "model_module": "@jupyter-widgets/controls",
          "model_name": "HBoxModel",
          "model_module_version": "1.5.0",
          "state": {
            "_view_name": "HBoxView",
            "_dom_classes": [],
            "_model_name": "HBoxModel",
            "_view_module": "@jupyter-widgets/controls",
            "_model_module_version": "1.5.0",
            "_view_count": null,
            "_view_module_version": "1.5.0",
            "box_style": "",
            "layout": "IPY_MODEL_87864fd67b064fabaf8b17eadae87609",
            "_model_module": "@jupyter-widgets/controls",
            "children": [
              "IPY_MODEL_e102fd1f90ba41c2b4cb3b409a93a7ad",
              "IPY_MODEL_d62c3219525948eda3de37c286046717",
              "IPY_MODEL_41671ac16b414ab7a760de39d5f3ed4f"
            ]
          }
        },
        "87864fd67b064fabaf8b17eadae87609": {
          "model_module": "@jupyter-widgets/base",
          "model_name": "LayoutModel",
          "model_module_version": "1.2.0",
          "state": {
            "_view_name": "LayoutView",
            "grid_template_rows": null,
            "right": null,
            "justify_content": null,
            "_view_module": "@jupyter-widgets/base",
            "overflow": null,
            "_model_module_version": "1.2.0",
            "_view_count": null,
            "flex_flow": null,
            "width": null,
            "min_width": null,
            "border": null,
            "align_items": null,
            "bottom": null,
            "_model_module": "@jupyter-widgets/base",
            "top": null,
            "grid_column": null,
            "overflow_y": null,
            "overflow_x": null,
            "grid_auto_flow": null,
            "grid_area": null,
            "grid_template_columns": null,
            "flex": null,
            "_model_name": "LayoutModel",
            "justify_items": null,
            "grid_row": null,
            "max_height": null,
            "align_content": null,
            "visibility": null,
            "align_self": null,
            "height": null,
            "min_height": null,
            "padding": null,
            "grid_auto_rows": null,
            "grid_gap": null,
            "max_width": null,
            "order": null,
            "_view_module_version": "1.2.0",
            "grid_template_areas": null,
            "object_position": null,
            "object_fit": null,
            "grid_auto_columns": null,
            "margin": null,
            "display": null,
            "left": null
          }
        },
        "e102fd1f90ba41c2b4cb3b409a93a7ad": {
          "model_module": "@jupyter-widgets/controls",
          "model_name": "HTMLModel",
          "model_module_version": "1.5.0",
          "state": {
            "_view_name": "HTMLView",
            "style": "IPY_MODEL_4d073777f0ce4528aee12a52e1bdd9c7",
            "_dom_classes": [],
            "description": "",
            "_model_name": "HTMLModel",
            "placeholder": "​",
            "_view_module": "@jupyter-widgets/controls",
            "_model_module_version": "1.5.0",
            "value": "Downloading: 100%",
            "_view_count": null,
            "_view_module_version": "1.5.0",
            "description_tooltip": null,
            "_model_module": "@jupyter-widgets/controls",
            "layout": "IPY_MODEL_c5171a42f8aa481aa97767b0f6bc73b3"
          }
        },
        "d62c3219525948eda3de37c286046717": {
          "model_module": "@jupyter-widgets/controls",
          "model_name": "FloatProgressModel",
          "model_module_version": "1.5.0",
          "state": {
            "_view_name": "ProgressView",
            "style": "IPY_MODEL_013e99e7f60644f69031b52a2a8f7ea2",
            "_dom_classes": [],
            "description": "",
            "_model_name": "FloatProgressModel",
            "bar_style": "success",
            "max": 404,
            "_view_module": "@jupyter-widgets/controls",
            "_model_module_version": "1.5.0",
            "value": 404,
            "_view_count": null,
            "_view_module_version": "1.5.0",
            "orientation": "horizontal",
            "min": 0,
            "description_tooltip": null,
            "_model_module": "@jupyter-widgets/controls",
            "layout": "IPY_MODEL_83e8b15b2dcc4a7e9d6ca0d6316eec5e"
          }
        },
        "41671ac16b414ab7a760de39d5f3ed4f": {
          "model_module": "@jupyter-widgets/controls",
          "model_name": "HTMLModel",
          "model_module_version": "1.5.0",
          "state": {
            "_view_name": "HTMLView",
            "style": "IPY_MODEL_b1d7f4ae09b5442081398d219238a108",
            "_dom_classes": [],
            "description": "",
            "_model_name": "HTMLModel",
            "placeholder": "​",
            "_view_module": "@jupyter-widgets/controls",
            "_model_module_version": "1.5.0",
            "value": " 404/404 [00:00&lt;00:00, 9.99kB/s]",
            "_view_count": null,
            "_view_module_version": "1.5.0",
            "description_tooltip": null,
            "_model_module": "@jupyter-widgets/controls",
            "layout": "IPY_MODEL_19a73a52ee8e48ca9cfc5c6701dd4664"
          }
        },
        "4d073777f0ce4528aee12a52e1bdd9c7": {
          "model_module": "@jupyter-widgets/controls",
          "model_name": "DescriptionStyleModel",
          "model_module_version": "1.5.0",
          "state": {
            "_view_name": "StyleView",
            "_model_name": "DescriptionStyleModel",
            "description_width": "",
            "_view_module": "@jupyter-widgets/base",
            "_model_module_version": "1.5.0",
            "_view_count": null,
            "_view_module_version": "1.2.0",
            "_model_module": "@jupyter-widgets/controls"
          }
        },
        "c5171a42f8aa481aa97767b0f6bc73b3": {
          "model_module": "@jupyter-widgets/base",
          "model_name": "LayoutModel",
          "model_module_version": "1.2.0",
          "state": {
            "_view_name": "LayoutView",
            "grid_template_rows": null,
            "right": null,
            "justify_content": null,
            "_view_module": "@jupyter-widgets/base",
            "overflow": null,
            "_model_module_version": "1.2.0",
            "_view_count": null,
            "flex_flow": null,
            "width": null,
            "min_width": null,
            "border": null,
            "align_items": null,
            "bottom": null,
            "_model_module": "@jupyter-widgets/base",
            "top": null,
            "grid_column": null,
            "overflow_y": null,
            "overflow_x": null,
            "grid_auto_flow": null,
            "grid_area": null,
            "grid_template_columns": null,
            "flex": null,
            "_model_name": "LayoutModel",
            "justify_items": null,
            "grid_row": null,
            "max_height": null,
            "align_content": null,
            "visibility": null,
            "align_self": null,
            "height": null,
            "min_height": null,
            "padding": null,
            "grid_auto_rows": null,
            "grid_gap": null,
            "max_width": null,
            "order": null,
            "_view_module_version": "1.2.0",
            "grid_template_areas": null,
            "object_position": null,
            "object_fit": null,
            "grid_auto_columns": null,
            "margin": null,
            "display": null,
            "left": null
          }
        },
        "013e99e7f60644f69031b52a2a8f7ea2": {
          "model_module": "@jupyter-widgets/controls",
          "model_name": "ProgressStyleModel",
          "model_module_version": "1.5.0",
          "state": {
            "_view_name": "StyleView",
            "_model_name": "ProgressStyleModel",
            "description_width": "",
            "_view_module": "@jupyter-widgets/base",
            "_model_module_version": "1.5.0",
            "_view_count": null,
            "_view_module_version": "1.2.0",
            "bar_color": null,
            "_model_module": "@jupyter-widgets/controls"
          }
        },
        "83e8b15b2dcc4a7e9d6ca0d6316eec5e": {
          "model_module": "@jupyter-widgets/base",
          "model_name": "LayoutModel",
          "model_module_version": "1.2.0",
          "state": {
            "_view_name": "LayoutView",
            "grid_template_rows": null,
            "right": null,
            "justify_content": null,
            "_view_module": "@jupyter-widgets/base",
            "overflow": null,
            "_model_module_version": "1.2.0",
            "_view_count": null,
            "flex_flow": null,
            "width": null,
            "min_width": null,
            "border": null,
            "align_items": null,
            "bottom": null,
            "_model_module": "@jupyter-widgets/base",
            "top": null,
            "grid_column": null,
            "overflow_y": null,
            "overflow_x": null,
            "grid_auto_flow": null,
            "grid_area": null,
            "grid_template_columns": null,
            "flex": null,
            "_model_name": "LayoutModel",
            "justify_items": null,
            "grid_row": null,
            "max_height": null,
            "align_content": null,
            "visibility": null,
            "align_self": null,
            "height": null,
            "min_height": null,
            "padding": null,
            "grid_auto_rows": null,
            "grid_gap": null,
            "max_width": null,
            "order": null,
            "_view_module_version": "1.2.0",
            "grid_template_areas": null,
            "object_position": null,
            "object_fit": null,
            "grid_auto_columns": null,
            "margin": null,
            "display": null,
            "left": null
          }
        },
        "b1d7f4ae09b5442081398d219238a108": {
          "model_module": "@jupyter-widgets/controls",
          "model_name": "DescriptionStyleModel",
          "model_module_version": "1.5.0",
          "state": {
            "_view_name": "StyleView",
            "_model_name": "DescriptionStyleModel",
            "description_width": "",
            "_view_module": "@jupyter-widgets/base",
            "_model_module_version": "1.5.0",
            "_view_count": null,
            "_view_module_version": "1.2.0",
            "_model_module": "@jupyter-widgets/controls"
          }
        },
        "19a73a52ee8e48ca9cfc5c6701dd4664": {
          "model_module": "@jupyter-widgets/base",
          "model_name": "LayoutModel",
          "model_module_version": "1.2.0",
          "state": {
            "_view_name": "LayoutView",
            "grid_template_rows": null,
            "right": null,
            "justify_content": null,
            "_view_module": "@jupyter-widgets/base",
            "overflow": null,
            "_model_module_version": "1.2.0",
            "_view_count": null,
            "flex_flow": null,
            "width": null,
            "min_width": null,
            "border": null,
            "align_items": null,
            "bottom": null,
            "_model_module": "@jupyter-widgets/base",
            "top": null,
            "grid_column": null,
            "overflow_y": null,
            "overflow_x": null,
            "grid_auto_flow": null,
            "grid_area": null,
            "grid_template_columns": null,
            "flex": null,
            "_model_name": "LayoutModel",
            "justify_items": null,
            "grid_row": null,
            "max_height": null,
            "align_content": null,
            "visibility": null,
            "align_self": null,
            "height": null,
            "min_height": null,
            "padding": null,
            "grid_auto_rows": null,
            "grid_gap": null,
            "max_width": null,
            "order": null,
            "_view_module_version": "1.2.0",
            "grid_template_areas": null,
            "object_position": null,
            "object_fit": null,
            "grid_auto_columns": null,
            "margin": null,
            "display": null,
            "left": null
          }
        },
        "98e7ac1e0dce482d86ed1ce43fb025ce": {
          "model_module": "@jupyter-widgets/controls",
          "model_name": "HBoxModel",
          "model_module_version": "1.5.0",
          "state": {
            "_view_name": "HBoxView",
            "_dom_classes": [],
            "_model_name": "HBoxModel",
            "_view_module": "@jupyter-widgets/controls",
            "_model_module_version": "1.5.0",
            "_view_count": null,
            "_view_module_version": "1.5.0",
            "box_style": "",
            "layout": "IPY_MODEL_38fc69489bb64b9a939470ef725b04be",
            "_model_module": "@jupyter-widgets/controls",
            "children": [
              "IPY_MODEL_e925c590a5634f95807e54a10f118c32",
              "IPY_MODEL_021e6a986e6345e5a7fedcd26e9d94bc",
              "IPY_MODEL_d8b5a637077a48dc9c78ed0e3c3ccd46"
            ]
          }
        },
        "38fc69489bb64b9a939470ef725b04be": {
          "model_module": "@jupyter-widgets/base",
          "model_name": "LayoutModel",
          "model_module_version": "1.2.0",
          "state": {
            "_view_name": "LayoutView",
            "grid_template_rows": null,
            "right": null,
            "justify_content": null,
            "_view_module": "@jupyter-widgets/base",
            "overflow": null,
            "_model_module_version": "1.2.0",
            "_view_count": null,
            "flex_flow": null,
            "width": null,
            "min_width": null,
            "border": null,
            "align_items": null,
            "bottom": null,
            "_model_module": "@jupyter-widgets/base",
            "top": null,
            "grid_column": null,
            "overflow_y": null,
            "overflow_x": null,
            "grid_auto_flow": null,
            "grid_area": null,
            "grid_template_columns": null,
            "flex": null,
            "_model_name": "LayoutModel",
            "justify_items": null,
            "grid_row": null,
            "max_height": null,
            "align_content": null,
            "visibility": null,
            "align_self": null,
            "height": null,
            "min_height": null,
            "padding": null,
            "grid_auto_rows": null,
            "grid_gap": null,
            "max_width": null,
            "order": null,
            "_view_module_version": "1.2.0",
            "grid_template_areas": null,
            "object_position": null,
            "object_fit": null,
            "grid_auto_columns": null,
            "margin": null,
            "display": null,
            "left": null
          }
        },
        "e925c590a5634f95807e54a10f118c32": {
          "model_module": "@jupyter-widgets/controls",
          "model_name": "HTMLModel",
          "model_module_version": "1.5.0",
          "state": {
            "_view_name": "HTMLView",
            "style": "IPY_MODEL_bb240c26b57b4021b50392a6e82076a1",
            "_dom_classes": [],
            "description": "",
            "_model_name": "HTMLModel",
            "placeholder": "​",
            "_view_module": "@jupyter-widgets/controls",
            "_model_module_version": "1.5.0",
            "value": "Downloading: 100%",
            "_view_count": null,
            "_view_module_version": "1.5.0",
            "description_tooltip": null,
            "_model_module": "@jupyter-widgets/controls",
            "layout": "IPY_MODEL_49aeba71ec794d3dae568244bb49d5f9"
          }
        },
        "021e6a986e6345e5a7fedcd26e9d94bc": {
          "model_module": "@jupyter-widgets/controls",
          "model_name": "FloatProgressModel",
          "model_module_version": "1.5.0",
          "state": {
            "_view_name": "ProgressView",
            "style": "IPY_MODEL_bb65a7c66068491ca8eede5d067b87a9",
            "_dom_classes": [],
            "description": "",
            "_model_name": "FloatProgressModel",
            "bar_style": "success",
            "max": 1198122,
            "_view_module": "@jupyter-widgets/controls",
            "_model_module_version": "1.5.0",
            "value": 1198122,
            "_view_count": null,
            "_view_module_version": "1.5.0",
            "orientation": "horizontal",
            "min": 0,
            "description_tooltip": null,
            "_model_module": "@jupyter-widgets/controls",
            "layout": "IPY_MODEL_f031f608d64e41468709d730a2de7e53"
          }
        },
        "d8b5a637077a48dc9c78ed0e3c3ccd46": {
          "model_module": "@jupyter-widgets/controls",
          "model_name": "HTMLModel",
          "model_module_version": "1.5.0",
          "state": {
            "_view_name": "HTMLView",
            "style": "IPY_MODEL_ec1fc00662ad4e4a97c97f593d7d89e6",
            "_dom_classes": [],
            "description": "",
            "_model_name": "HTMLModel",
            "placeholder": "​",
            "_view_module": "@jupyter-widgets/controls",
            "_model_module_version": "1.5.0",
            "value": " 1.14M/1.14M [00:01&lt;00:00, 1.09MB/s]",
            "_view_count": null,
            "_view_module_version": "1.5.0",
            "description_tooltip": null,
            "_model_module": "@jupyter-widgets/controls",
            "layout": "IPY_MODEL_4d9a558eb0664bcd9c25021c88f7773f"
          }
        },
        "bb240c26b57b4021b50392a6e82076a1": {
          "model_module": "@jupyter-widgets/controls",
          "model_name": "DescriptionStyleModel",
          "model_module_version": "1.5.0",
          "state": {
            "_view_name": "StyleView",
            "_model_name": "DescriptionStyleModel",
            "description_width": "",
            "_view_module": "@jupyter-widgets/base",
            "_model_module_version": "1.5.0",
            "_view_count": null,
            "_view_module_version": "1.2.0",
            "_model_module": "@jupyter-widgets/controls"
          }
        },
        "49aeba71ec794d3dae568244bb49d5f9": {
          "model_module": "@jupyter-widgets/base",
          "model_name": "LayoutModel",
          "model_module_version": "1.2.0",
          "state": {
            "_view_name": "LayoutView",
            "grid_template_rows": null,
            "right": null,
            "justify_content": null,
            "_view_module": "@jupyter-widgets/base",
            "overflow": null,
            "_model_module_version": "1.2.0",
            "_view_count": null,
            "flex_flow": null,
            "width": null,
            "min_width": null,
            "border": null,
            "align_items": null,
            "bottom": null,
            "_model_module": "@jupyter-widgets/base",
            "top": null,
            "grid_column": null,
            "overflow_y": null,
            "overflow_x": null,
            "grid_auto_flow": null,
            "grid_area": null,
            "grid_template_columns": null,
            "flex": null,
            "_model_name": "LayoutModel",
            "justify_items": null,
            "grid_row": null,
            "max_height": null,
            "align_content": null,
            "visibility": null,
            "align_self": null,
            "height": null,
            "min_height": null,
            "padding": null,
            "grid_auto_rows": null,
            "grid_gap": null,
            "max_width": null,
            "order": null,
            "_view_module_version": "1.2.0",
            "grid_template_areas": null,
            "object_position": null,
            "object_fit": null,
            "grid_auto_columns": null,
            "margin": null,
            "display": null,
            "left": null
          }
        },
        "bb65a7c66068491ca8eede5d067b87a9": {
          "model_module": "@jupyter-widgets/controls",
          "model_name": "ProgressStyleModel",
          "model_module_version": "1.5.0",
          "state": {
            "_view_name": "StyleView",
            "_model_name": "ProgressStyleModel",
            "description_width": "",
            "_view_module": "@jupyter-widgets/base",
            "_model_module_version": "1.5.0",
            "_view_count": null,
            "_view_module_version": "1.2.0",
            "bar_color": null,
            "_model_module": "@jupyter-widgets/controls"
          }
        },
        "f031f608d64e41468709d730a2de7e53": {
          "model_module": "@jupyter-widgets/base",
          "model_name": "LayoutModel",
          "model_module_version": "1.2.0",
          "state": {
            "_view_name": "LayoutView",
            "grid_template_rows": null,
            "right": null,
            "justify_content": null,
            "_view_module": "@jupyter-widgets/base",
            "overflow": null,
            "_model_module_version": "1.2.0",
            "_view_count": null,
            "flex_flow": null,
            "width": null,
            "min_width": null,
            "border": null,
            "align_items": null,
            "bottom": null,
            "_model_module": "@jupyter-widgets/base",
            "top": null,
            "grid_column": null,
            "overflow_y": null,
            "overflow_x": null,
            "grid_auto_flow": null,
            "grid_area": null,
            "grid_template_columns": null,
            "flex": null,
            "_model_name": "LayoutModel",
            "justify_items": null,
            "grid_row": null,
            "max_height": null,
            "align_content": null,
            "visibility": null,
            "align_self": null,
            "height": null,
            "min_height": null,
            "padding": null,
            "grid_auto_rows": null,
            "grid_gap": null,
            "max_width": null,
            "order": null,
            "_view_module_version": "1.2.0",
            "grid_template_areas": null,
            "object_position": null,
            "object_fit": null,
            "grid_auto_columns": null,
            "margin": null,
            "display": null,
            "left": null
          }
        },
        "ec1fc00662ad4e4a97c97f593d7d89e6": {
          "model_module": "@jupyter-widgets/controls",
          "model_name": "DescriptionStyleModel",
          "model_module_version": "1.5.0",
          "state": {
            "_view_name": "StyleView",
            "_model_name": "DescriptionStyleModel",
            "description_width": "",
            "_view_module": "@jupyter-widgets/base",
            "_model_module_version": "1.5.0",
            "_view_count": null,
            "_view_module_version": "1.2.0",
            "_model_module": "@jupyter-widgets/controls"
          }
        },
        "4d9a558eb0664bcd9c25021c88f7773f": {
          "model_module": "@jupyter-widgets/base",
          "model_name": "LayoutModel",
          "model_module_version": "1.2.0",
          "state": {
            "_view_name": "LayoutView",
            "grid_template_rows": null,
            "right": null,
            "justify_content": null,
            "_view_module": "@jupyter-widgets/base",
            "overflow": null,
            "_model_module_version": "1.2.0",
            "_view_count": null,
            "flex_flow": null,
            "width": null,
            "min_width": null,
            "border": null,
            "align_items": null,
            "bottom": null,
            "_model_module": "@jupyter-widgets/base",
            "top": null,
            "grid_column": null,
            "overflow_y": null,
            "overflow_x": null,
            "grid_auto_flow": null,
            "grid_area": null,
            "grid_template_columns": null,
            "flex": null,
            "_model_name": "LayoutModel",
            "justify_items": null,
            "grid_row": null,
            "max_height": null,
            "align_content": null,
            "visibility": null,
            "align_self": null,
            "height": null,
            "min_height": null,
            "padding": null,
            "grid_auto_rows": null,
            "grid_gap": null,
            "max_width": null,
            "order": null,
            "_view_module_version": "1.2.0",
            "grid_template_areas": null,
            "object_position": null,
            "object_fit": null,
            "grid_auto_columns": null,
            "margin": null,
            "display": null,
            "left": null
          }
        },
        "4618b936df5c4f16860946bf22419a09": {
          "model_module": "@jupyter-widgets/controls",
          "model_name": "HBoxModel",
          "model_module_version": "1.5.0",
          "state": {
            "_view_name": "HBoxView",
            "_dom_classes": [],
            "_model_name": "HBoxModel",
            "_view_module": "@jupyter-widgets/controls",
            "_model_module_version": "1.5.0",
            "_view_count": null,
            "_view_module_version": "1.5.0",
            "box_style": "",
            "layout": "IPY_MODEL_c04d5927f45a44ebbed38d0a144646c2",
            "_model_module": "@jupyter-widgets/controls",
            "children": [
              "IPY_MODEL_39a1870a80df4bbe84f1b1c974dbf28a",
              "IPY_MODEL_3a6a5a4427a345fbb887ce4f5909ad0b",
              "IPY_MODEL_c73bf5f5429e4ebba28b524f4c8b8f6c"
            ]
          }
        },
        "c04d5927f45a44ebbed38d0a144646c2": {
          "model_module": "@jupyter-widgets/base",
          "model_name": "LayoutModel",
          "model_module_version": "1.2.0",
          "state": {
            "_view_name": "LayoutView",
            "grid_template_rows": null,
            "right": null,
            "justify_content": null,
            "_view_module": "@jupyter-widgets/base",
            "overflow": null,
            "_model_module_version": "1.2.0",
            "_view_count": null,
            "flex_flow": null,
            "width": null,
            "min_width": null,
            "border": null,
            "align_items": null,
            "bottom": null,
            "_model_module": "@jupyter-widgets/base",
            "top": null,
            "grid_column": null,
            "overflow_y": null,
            "overflow_x": null,
            "grid_auto_flow": null,
            "grid_area": null,
            "grid_template_columns": null,
            "flex": null,
            "_model_name": "LayoutModel",
            "justify_items": null,
            "grid_row": null,
            "max_height": null,
            "align_content": null,
            "visibility": null,
            "align_self": null,
            "height": null,
            "min_height": null,
            "padding": null,
            "grid_auto_rows": null,
            "grid_gap": null,
            "max_width": null,
            "order": null,
            "_view_module_version": "1.2.0",
            "grid_template_areas": null,
            "object_position": null,
            "object_fit": null,
            "grid_auto_columns": null,
            "margin": null,
            "display": null,
            "left": null
          }
        },
        "39a1870a80df4bbe84f1b1c974dbf28a": {
          "model_module": "@jupyter-widgets/controls",
          "model_name": "HTMLModel",
          "model_module_version": "1.5.0",
          "state": {
            "_view_name": "HTMLView",
            "style": "IPY_MODEL_8dcd8890c2eb475b976688dba6a645f7",
            "_dom_classes": [],
            "description": "",
            "_model_name": "HTMLModel",
            "placeholder": "​",
            "_view_module": "@jupyter-widgets/controls",
            "_model_module_version": "1.5.0",
            "value": "Downloading: 100%",
            "_view_count": null,
            "_view_module_version": "1.5.0",
            "description_tooltip": null,
            "_model_module": "@jupyter-widgets/controls",
            "layout": "IPY_MODEL_9411d72bbab845ab9d9474a2e317c9aa"
          }
        },
        "3a6a5a4427a345fbb887ce4f5909ad0b": {
          "model_module": "@jupyter-widgets/controls",
          "model_name": "FloatProgressModel",
          "model_module_version": "1.5.0",
          "state": {
            "_view_name": "ProgressView",
            "style": "IPY_MODEL_75289033368d413ab16d6e1d60966bf1",
            "_dom_classes": [],
            "description": "",
            "_model_name": "FloatProgressModel",
            "bar_style": "success",
            "max": 112,
            "_view_module": "@jupyter-widgets/controls",
            "_model_module_version": "1.5.0",
            "value": 112,
            "_view_count": null,
            "_view_module_version": "1.5.0",
            "orientation": "horizontal",
            "min": 0,
            "description_tooltip": null,
            "_model_module": "@jupyter-widgets/controls",
            "layout": "IPY_MODEL_f65d3f8b678e4890a57f50e363f008d4"
          }
        },
        "c73bf5f5429e4ebba28b524f4c8b8f6c": {
          "model_module": "@jupyter-widgets/controls",
          "model_name": "HTMLModel",
          "model_module_version": "1.5.0",
          "state": {
            "_view_name": "HTMLView",
            "style": "IPY_MODEL_50e0f6c02d52431da6eddfdb8480b8c7",
            "_dom_classes": [],
            "description": "",
            "_model_name": "HTMLModel",
            "placeholder": "​",
            "_view_module": "@jupyter-widgets/controls",
            "_model_module_version": "1.5.0",
            "value": " 112/112 [00:00&lt;00:00, 2.42kB/s]",
            "_view_count": null,
            "_view_module_version": "1.5.0",
            "description_tooltip": null,
            "_model_module": "@jupyter-widgets/controls",
            "layout": "IPY_MODEL_9695d26269b94d60a11f6b637aecf3f7"
          }
        },
        "8dcd8890c2eb475b976688dba6a645f7": {
          "model_module": "@jupyter-widgets/controls",
          "model_name": "DescriptionStyleModel",
          "model_module_version": "1.5.0",
          "state": {
            "_view_name": "StyleView",
            "_model_name": "DescriptionStyleModel",
            "description_width": "",
            "_view_module": "@jupyter-widgets/base",
            "_model_module_version": "1.5.0",
            "_view_count": null,
            "_view_module_version": "1.2.0",
            "_model_module": "@jupyter-widgets/controls"
          }
        },
        "9411d72bbab845ab9d9474a2e317c9aa": {
          "model_module": "@jupyter-widgets/base",
          "model_name": "LayoutModel",
          "model_module_version": "1.2.0",
          "state": {
            "_view_name": "LayoutView",
            "grid_template_rows": null,
            "right": null,
            "justify_content": null,
            "_view_module": "@jupyter-widgets/base",
            "overflow": null,
            "_model_module_version": "1.2.0",
            "_view_count": null,
            "flex_flow": null,
            "width": null,
            "min_width": null,
            "border": null,
            "align_items": null,
            "bottom": null,
            "_model_module": "@jupyter-widgets/base",
            "top": null,
            "grid_column": null,
            "overflow_y": null,
            "overflow_x": null,
            "grid_auto_flow": null,
            "grid_area": null,
            "grid_template_columns": null,
            "flex": null,
            "_model_name": "LayoutModel",
            "justify_items": null,
            "grid_row": null,
            "max_height": null,
            "align_content": null,
            "visibility": null,
            "align_self": null,
            "height": null,
            "min_height": null,
            "padding": null,
            "grid_auto_rows": null,
            "grid_gap": null,
            "max_width": null,
            "order": null,
            "_view_module_version": "1.2.0",
            "grid_template_areas": null,
            "object_position": null,
            "object_fit": null,
            "grid_auto_columns": null,
            "margin": null,
            "display": null,
            "left": null
          }
        },
        "75289033368d413ab16d6e1d60966bf1": {
          "model_module": "@jupyter-widgets/controls",
          "model_name": "ProgressStyleModel",
          "model_module_version": "1.5.0",
          "state": {
            "_view_name": "StyleView",
            "_model_name": "ProgressStyleModel",
            "description_width": "",
            "_view_module": "@jupyter-widgets/base",
            "_model_module_version": "1.5.0",
            "_view_count": null,
            "_view_module_version": "1.2.0",
            "bar_color": null,
            "_model_module": "@jupyter-widgets/controls"
          }
        },
        "f65d3f8b678e4890a57f50e363f008d4": {
          "model_module": "@jupyter-widgets/base",
          "model_name": "LayoutModel",
          "model_module_version": "1.2.0",
          "state": {
            "_view_name": "LayoutView",
            "grid_template_rows": null,
            "right": null,
            "justify_content": null,
            "_view_module": "@jupyter-widgets/base",
            "overflow": null,
            "_model_module_version": "1.2.0",
            "_view_count": null,
            "flex_flow": null,
            "width": null,
            "min_width": null,
            "border": null,
            "align_items": null,
            "bottom": null,
            "_model_module": "@jupyter-widgets/base",
            "top": null,
            "grid_column": null,
            "overflow_y": null,
            "overflow_x": null,
            "grid_auto_flow": null,
            "grid_area": null,
            "grid_template_columns": null,
            "flex": null,
            "_model_name": "LayoutModel",
            "justify_items": null,
            "grid_row": null,
            "max_height": null,
            "align_content": null,
            "visibility": null,
            "align_self": null,
            "height": null,
            "min_height": null,
            "padding": null,
            "grid_auto_rows": null,
            "grid_gap": null,
            "max_width": null,
            "order": null,
            "_view_module_version": "1.2.0",
            "grid_template_areas": null,
            "object_position": null,
            "object_fit": null,
            "grid_auto_columns": null,
            "margin": null,
            "display": null,
            "left": null
          }
        },
        "50e0f6c02d52431da6eddfdb8480b8c7": {
          "model_module": "@jupyter-widgets/controls",
          "model_name": "DescriptionStyleModel",
          "model_module_version": "1.5.0",
          "state": {
            "_view_name": "StyleView",
            "_model_name": "DescriptionStyleModel",
            "description_width": "",
            "_view_module": "@jupyter-widgets/base",
            "_model_module_version": "1.5.0",
            "_view_count": null,
            "_view_module_version": "1.2.0",
            "_model_module": "@jupyter-widgets/controls"
          }
        },
        "9695d26269b94d60a11f6b637aecf3f7": {
          "model_module": "@jupyter-widgets/base",
          "model_name": "LayoutModel",
          "model_module_version": "1.2.0",
          "state": {
            "_view_name": "LayoutView",
            "grid_template_rows": null,
            "right": null,
            "justify_content": null,
            "_view_module": "@jupyter-widgets/base",
            "overflow": null,
            "_model_module_version": "1.2.0",
            "_view_count": null,
            "flex_flow": null,
            "width": null,
            "min_width": null,
            "border": null,
            "align_items": null,
            "bottom": null,
            "_model_module": "@jupyter-widgets/base",
            "top": null,
            "grid_column": null,
            "overflow_y": null,
            "overflow_x": null,
            "grid_auto_flow": null,
            "grid_area": null,
            "grid_template_columns": null,
            "flex": null,
            "_model_name": "LayoutModel",
            "justify_items": null,
            "grid_row": null,
            "max_height": null,
            "align_content": null,
            "visibility": null,
            "align_self": null,
            "height": null,
            "min_height": null,
            "padding": null,
            "grid_auto_rows": null,
            "grid_gap": null,
            "max_width": null,
            "order": null,
            "_view_module_version": "1.2.0",
            "grid_template_areas": null,
            "object_position": null,
            "object_fit": null,
            "grid_auto_columns": null,
            "margin": null,
            "display": null,
            "left": null
          }
        },
        "d0eb957898fc48169b2842c406c40eb2": {
          "model_module": "@jupyter-widgets/controls",
          "model_name": "HBoxModel",
          "model_module_version": "1.5.0",
          "state": {
            "_view_name": "HBoxView",
            "_dom_classes": [],
            "_model_name": "HBoxModel",
            "_view_module": "@jupyter-widgets/controls",
            "_model_module_version": "1.5.0",
            "_view_count": null,
            "_view_module_version": "1.5.0",
            "box_style": "",
            "layout": "IPY_MODEL_95936cc4a25b4dbb8fa60c563c8b29a2",
            "_model_module": "@jupyter-widgets/controls",
            "children": [
              "IPY_MODEL_5548e7c964fe4877bf15c60d1a79567a",
              "IPY_MODEL_b7d0981339b94e00a3f3e9f8dc6542ff",
              "IPY_MODEL_42a7fb5f4e6846d3929287e74d53200f"
            ]
          }
        },
        "95936cc4a25b4dbb8fa60c563c8b29a2": {
          "model_module": "@jupyter-widgets/base",
          "model_name": "LayoutModel",
          "model_module_version": "1.2.0",
          "state": {
            "_view_name": "LayoutView",
            "grid_template_rows": null,
            "right": null,
            "justify_content": null,
            "_view_module": "@jupyter-widgets/base",
            "overflow": null,
            "_model_module_version": "1.2.0",
            "_view_count": null,
            "flex_flow": null,
            "width": null,
            "min_width": null,
            "border": null,
            "align_items": null,
            "bottom": null,
            "_model_module": "@jupyter-widgets/base",
            "top": null,
            "grid_column": null,
            "overflow_y": null,
            "overflow_x": null,
            "grid_auto_flow": null,
            "grid_area": null,
            "grid_template_columns": null,
            "flex": null,
            "_model_name": "LayoutModel",
            "justify_items": null,
            "grid_row": null,
            "max_height": null,
            "align_content": null,
            "visibility": null,
            "align_self": null,
            "height": null,
            "min_height": null,
            "padding": null,
            "grid_auto_rows": null,
            "grid_gap": null,
            "max_width": null,
            "order": null,
            "_view_module_version": "1.2.0",
            "grid_template_areas": null,
            "object_position": null,
            "object_fit": null,
            "grid_auto_columns": null,
            "margin": null,
            "display": null,
            "left": null
          }
        },
        "5548e7c964fe4877bf15c60d1a79567a": {
          "model_module": "@jupyter-widgets/controls",
          "model_name": "HTMLModel",
          "model_module_version": "1.5.0",
          "state": {
            "_view_name": "HTMLView",
            "style": "IPY_MODEL_72f18d6cb5174ce388e4b80709619d2b",
            "_dom_classes": [],
            "description": "",
            "_model_name": "HTMLModel",
            "placeholder": "​",
            "_view_module": "@jupyter-widgets/controls",
            "_model_module_version": "1.5.0",
            "value": "Batches: 100%",
            "_view_count": null,
            "_view_module_version": "1.5.0",
            "description_tooltip": null,
            "_model_module": "@jupyter-widgets/controls",
            "layout": "IPY_MODEL_732a6e943c314010bad6c7dab9f5df0f"
          }
        },
        "b7d0981339b94e00a3f3e9f8dc6542ff": {
          "model_module": "@jupyter-widgets/controls",
          "model_name": "FloatProgressModel",
          "model_module_version": "1.5.0",
          "state": {
            "_view_name": "ProgressView",
            "style": "IPY_MODEL_3da7a04c17ff43389fc76f6bf7206818",
            "_dom_classes": [],
            "description": "",
            "_model_name": "FloatProgressModel",
            "bar_style": "success",
            "max": 1,
            "_view_module": "@jupyter-widgets/controls",
            "_model_module_version": "1.5.0",
            "value": 1,
            "_view_count": null,
            "_view_module_version": "1.5.0",
            "orientation": "horizontal",
            "min": 0,
            "description_tooltip": null,
            "_model_module": "@jupyter-widgets/controls",
            "layout": "IPY_MODEL_345176c638904568a11b4bb8b5a6b7b8"
          }
        },
        "42a7fb5f4e6846d3929287e74d53200f": {
          "model_module": "@jupyter-widgets/controls",
          "model_name": "HTMLModel",
          "model_module_version": "1.5.0",
          "state": {
            "_view_name": "HTMLView",
            "style": "IPY_MODEL_565981ffe48b4579aa4e95a0fabb3d29",
            "_dom_classes": [],
            "description": "",
            "_model_name": "HTMLModel",
            "placeholder": "​",
            "_view_module": "@jupyter-widgets/controls",
            "_model_module_version": "1.5.0",
            "value": " 1/1 [00:00&lt;00:00,  3.53it/s]",
            "_view_count": null,
            "_view_module_version": "1.5.0",
            "description_tooltip": null,
            "_model_module": "@jupyter-widgets/controls",
            "layout": "IPY_MODEL_a5949434e86c4ee29d3bef87dba1ce1b"
          }
        },
        "72f18d6cb5174ce388e4b80709619d2b": {
          "model_module": "@jupyter-widgets/controls",
          "model_name": "DescriptionStyleModel",
          "model_module_version": "1.5.0",
          "state": {
            "_view_name": "StyleView",
            "_model_name": "DescriptionStyleModel",
            "description_width": "",
            "_view_module": "@jupyter-widgets/base",
            "_model_module_version": "1.5.0",
            "_view_count": null,
            "_view_module_version": "1.2.0",
            "_model_module": "@jupyter-widgets/controls"
          }
        },
        "732a6e943c314010bad6c7dab9f5df0f": {
          "model_module": "@jupyter-widgets/base",
          "model_name": "LayoutModel",
          "model_module_version": "1.2.0",
          "state": {
            "_view_name": "LayoutView",
            "grid_template_rows": null,
            "right": null,
            "justify_content": null,
            "_view_module": "@jupyter-widgets/base",
            "overflow": null,
            "_model_module_version": "1.2.0",
            "_view_count": null,
            "flex_flow": null,
            "width": null,
            "min_width": null,
            "border": null,
            "align_items": null,
            "bottom": null,
            "_model_module": "@jupyter-widgets/base",
            "top": null,
            "grid_column": null,
            "overflow_y": null,
            "overflow_x": null,
            "grid_auto_flow": null,
            "grid_area": null,
            "grid_template_columns": null,
            "flex": null,
            "_model_name": "LayoutModel",
            "justify_items": null,
            "grid_row": null,
            "max_height": null,
            "align_content": null,
            "visibility": null,
            "align_self": null,
            "height": null,
            "min_height": null,
            "padding": null,
            "grid_auto_rows": null,
            "grid_gap": null,
            "max_width": null,
            "order": null,
            "_view_module_version": "1.2.0",
            "grid_template_areas": null,
            "object_position": null,
            "object_fit": null,
            "grid_auto_columns": null,
            "margin": null,
            "display": null,
            "left": null
          }
        },
        "3da7a04c17ff43389fc76f6bf7206818": {
          "model_module": "@jupyter-widgets/controls",
          "model_name": "ProgressStyleModel",
          "model_module_version": "1.5.0",
          "state": {
            "_view_name": "StyleView",
            "_model_name": "ProgressStyleModel",
            "description_width": "",
            "_view_module": "@jupyter-widgets/base",
            "_model_module_version": "1.5.0",
            "_view_count": null,
            "_view_module_version": "1.2.0",
            "bar_color": null,
            "_model_module": "@jupyter-widgets/controls"
          }
        },
        "345176c638904568a11b4bb8b5a6b7b8": {
          "model_module": "@jupyter-widgets/base",
          "model_name": "LayoutModel",
          "model_module_version": "1.2.0",
          "state": {
            "_view_name": "LayoutView",
            "grid_template_rows": null,
            "right": null,
            "justify_content": null,
            "_view_module": "@jupyter-widgets/base",
            "overflow": null,
            "_model_module_version": "1.2.0",
            "_view_count": null,
            "flex_flow": null,
            "width": null,
            "min_width": null,
            "border": null,
            "align_items": null,
            "bottom": null,
            "_model_module": "@jupyter-widgets/base",
            "top": null,
            "grid_column": null,
            "overflow_y": null,
            "overflow_x": null,
            "grid_auto_flow": null,
            "grid_area": null,
            "grid_template_columns": null,
            "flex": null,
            "_model_name": "LayoutModel",
            "justify_items": null,
            "grid_row": null,
            "max_height": null,
            "align_content": null,
            "visibility": null,
            "align_self": null,
            "height": null,
            "min_height": null,
            "padding": null,
            "grid_auto_rows": null,
            "grid_gap": null,
            "max_width": null,
            "order": null,
            "_view_module_version": "1.2.0",
            "grid_template_areas": null,
            "object_position": null,
            "object_fit": null,
            "grid_auto_columns": null,
            "margin": null,
            "display": null,
            "left": null
          }
        },
        "565981ffe48b4579aa4e95a0fabb3d29": {
          "model_module": "@jupyter-widgets/controls",
          "model_name": "DescriptionStyleModel",
          "model_module_version": "1.5.0",
          "state": {
            "_view_name": "StyleView",
            "_model_name": "DescriptionStyleModel",
            "description_width": "",
            "_view_module": "@jupyter-widgets/base",
            "_model_module_version": "1.5.0",
            "_view_count": null,
            "_view_module_version": "1.2.0",
            "_model_module": "@jupyter-widgets/controls"
          }
        },
        "a5949434e86c4ee29d3bef87dba1ce1b": {
          "model_module": "@jupyter-widgets/base",
          "model_name": "LayoutModel",
          "model_module_version": "1.2.0",
          "state": {
            "_view_name": "LayoutView",
            "grid_template_rows": null,
            "right": null,
            "justify_content": null,
            "_view_module": "@jupyter-widgets/base",
            "overflow": null,
            "_model_module_version": "1.2.0",
            "_view_count": null,
            "flex_flow": null,
            "width": null,
            "min_width": null,
            "border": null,
            "align_items": null,
            "bottom": null,
            "_model_module": "@jupyter-widgets/base",
            "top": null,
            "grid_column": null,
            "overflow_y": null,
            "overflow_x": null,
            "grid_auto_flow": null,
            "grid_area": null,
            "grid_template_columns": null,
            "flex": null,
            "_model_name": "LayoutModel",
            "justify_items": null,
            "grid_row": null,
            "max_height": null,
            "align_content": null,
            "visibility": null,
            "align_self": null,
            "height": null,
            "min_height": null,
            "padding": null,
            "grid_auto_rows": null,
            "grid_gap": null,
            "max_width": null,
            "order": null,
            "_view_module_version": "1.2.0",
            "grid_template_areas": null,
            "object_position": null,
            "object_fit": null,
            "grid_auto_columns": null,
            "margin": null,
            "display": null,
            "left": null
          }
        }
      }
    }
  },
  "cells": [
    {
      "cell_type": "markdown",
      "metadata": {
        "id": "view-in-github",
        "colab_type": "text"
      },
      "source": [
        "<a href=\"https://colab.research.google.com/github/jasmine400/recommender/blob/main/question_similar_tst.ipynb\" target=\"_parent\"><img src=\"https://colab.research.google.com/assets/colab-badge.svg\" alt=\"Open In Colab\"/></a>"
      ]
    },
    {
      "cell_type": "code",
      "execution_count": null,
      "metadata": {
        "id": "DQeIt-RY-2s4"
      },
      "outputs": [],
      "source": [
        "import pandas as pd\n",
        "import numpy as np\n",
        "from sklearn.feature_extraction.text import CountVectorizer\n",
        "from sklearn.metrics.pairwise import cosine_similarity"
      ]
    },
    {
      "cell_type": "code",
      "source": [
        "!pip install -qU sentence-transformers\n",
        "!pip install -qU wikipedia-api\n",
        "!pip install -qU hazm\n",
        "!pip install -qU clean-text[gpl]\n",
        "!pip install -qU emoji"
      ],
      "metadata": {
        "colab": {
          "base_uri": "https://localhost:8080/"
        },
        "id": "8d-PKokeTxJ-",
        "outputId": "030b408f-abd6-4d08-b8e5-8423f195bc9b"
      },
      "execution_count": null,
      "outputs": [
        {
          "output_type": "stream",
          "name": "stdout",
          "text": [
            "\u001b[K     |████████████████████████████████| 79 kB 2.6 MB/s \n",
            "\u001b[K     |████████████████████████████████| 3.8 MB 8.8 MB/s \n",
            "\u001b[K     |████████████████████████████████| 1.2 MB 32.7 MB/s \n",
            "\u001b[K     |████████████████████████████████| 67 kB 4.0 MB/s \n",
            "\u001b[K     |████████████████████████████████| 6.5 MB 14.7 MB/s \n",
            "\u001b[K     |████████████████████████████████| 596 kB 45.1 MB/s \n",
            "\u001b[K     |████████████████████████████████| 895 kB 43.5 MB/s \n",
            "\u001b[?25h  Building wheel for sentence-transformers (setup.py) ... \u001b[?25l\u001b[?25hdone\n",
            "  Building wheel for wikipedia-api (setup.py) ... \u001b[?25l\u001b[?25hdone\n",
            "\u001b[K     |████████████████████████████████| 316 kB 3.9 MB/s \n",
            "\u001b[K     |████████████████████████████████| 1.4 MB 50.4 MB/s \n",
            "\u001b[K     |████████████████████████████████| 233 kB 44.9 MB/s \n",
            "\u001b[?25h  Building wheel for nltk (setup.py) ... \u001b[?25l\u001b[?25hdone\n",
            "  Building wheel for libwapiti (setup.py) ... \u001b[?25l\u001b[?25hdone\n",
            "\u001b[K     |████████████████████████████████| 53 kB 1.2 MB/s \n",
            "\u001b[K     |████████████████████████████████| 175 kB 7.2 MB/s \n",
            "\u001b[K     |████████████████████████████████| 235 kB 54.1 MB/s \n",
            "\u001b[?25h  Building wheel for emoji (setup.py) ... \u001b[?25l\u001b[?25hdone\n"
          ]
        }
      ]
    },
    {
      "cell_type": "code",
      "source": [
        "!mkdir resources\n",
        "!wget -q \"https://github.com/sobhe/hazm/releases/download/v0.5/resources-0.5.zip\" -P resources\n",
        "!unzip -qq resources/resources-0.5.zip -d resources"
      ],
      "metadata": {
        "id": "l0nq8HzFT2vx"
      },
      "execution_count": null,
      "outputs": []
    },
    {
      "cell_type": "code",
      "source": [
        "!rm -rf /content/4ccae468eb73bf6c4f4de3075ddb5336\n",
        "!rm -rf /content/preproc\n",
        "!rm preprocessing.py utils.py\n",
        "!mkdir -p /content/preproc\n",
        "!git clone https://gist.github.com/4ccae468eb73bf6c4f4de3075ddb5336.git /content/preproc/\n",
        "!mv /content/preproc/* /content/\n",
        "!rm -rf /content/preproc"
      ],
      "metadata": {
        "colab": {
          "base_uri": "https://localhost:8080/"
        },
        "id": "MZJfp5JVT4mA",
        "outputId": "407f6990-7c44-4628-a50f-14c84f92c71e"
      },
      "execution_count": null,
      "outputs": [
        {
          "output_type": "stream",
          "name": "stdout",
          "text": [
            "rm: cannot remove 'preprocessing.py': No such file or directory\n",
            "rm: cannot remove 'utils.py': No such file or directory\n",
            "Cloning into '/content/preproc'...\n",
            "remote: Enumerating objects: 7, done.\u001b[K\n",
            "remote: Total 7 (delta 0), reused 0 (delta 0), pack-reused 7\u001b[K\n",
            "Unpacking objects: 100% (7/7), done.\n"
          ]
        }
      ]
    },
    {
      "cell_type": "code",
      "source": [
        "from transformers import BertConfig, BertTokenizer\n",
        "\n",
        "from preprocessing import cleaning\n",
        "from IPython import display\n",
        "\n",
        "import numpy as np\n",
        "import pandas as pd\n",
        "\n",
        "import hazm\n",
        "import requests\n",
        "import time\n",
        "\n",
        "import torch\n",
        "from sentence_transformers import models, SentenceTransformer, util\n",
        "from sklearn.cluster import KMeans"
      ],
      "metadata": {
        "id": "FDcddkk-T7jw"
      },
      "execution_count": null,
      "outputs": []
    },
    {
      "cell_type": "code",
      "source": [
        "def rtl_print(outputs, font_size=\"15px\", n_to_br=False):\n",
        "    outputs = outputs if isinstance(outputs, list) else [outputs]\n",
        "    if n_to_br:\n",
        "        outputs = [output.replace('\\n', '<br/>') for output in outputs]\n",
        "\n",
        "    outputs = [f'<p style=\"text-align: right; direction: rtl; margin-right: 10px; font-size: {font_size};\">{output}</p>' for output in outputs]\n",
        "    display.display(display.HTML(' '.join(outputs)))\n",
        "\n",
        "\n",
        "def load_st_model(model_name_or_path):\n",
        "    word_embedding_model = models.Transformer(model_name_or_path)\n",
        "    pooling_model = models.Pooling(\n",
        "        word_embedding_model.get_word_embedding_dimension(),\n",
        "        pooling_mode_mean_tokens=True,\n",
        "        pooling_mode_cls_token=False,\n",
        "        pooling_mode_max_tokens=False)\n",
        "\n",
        "    model = SentenceTransformer(modules=[word_embedding_model, pooling_model])\n",
        "    return model"
      ],
      "metadata": {
        "id": "D-Boxdp6T9_f"
      },
      "execution_count": null,
      "outputs": []
    },
    {
      "cell_type": "code",
      "source": [
        "# Load the Sentence-Transformer\n",
        "embedder = load_st_model('m3hrdadfi/bert-fa-base-uncased-wikinli-mean-tokens')"
      ],
      "metadata": {
        "colab": {
          "base_uri": "https://localhost:8080/",
          "height": 177,
          "referenced_widgets": [
            "81a96528616d41b19e3a18a787eb47d7",
            "a3d523f4aa94461bb7d1db9d609bc696",
            "6a1e41fba0db4db6ae796f0ad558bce5",
            "31ef59487b9746aeb839ab3960cbd04d",
            "29222de7525d46b1808b303fb543d3e5",
            "c3e31992c3b6412c9c2d67876ad92934",
            "0ac10371c8ee4fa1811d244e31a77f70",
            "8a49745e42bb42569a6f4b8ee7c9e6bd",
            "ab29c30fc4fe4032977336268141c681",
            "39a2c5bfc15548208d79d64c40585d8d",
            "bdf2271c2ff54a4bb39cab3da888af7d",
            "163a7f980ad74e5781503317db0a04d5",
            "83d3985e4c774f7080b5adc45440cd65",
            "6ea18f99cdd64737b976a5e4074651e4",
            "e869a85c7b5248658581cc5988b0db43",
            "5c671b2a69d4436aa8f98a7d0907c6ca",
            "8bee688ee9f741189eb3aad5003d90e0",
            "dd439d22f8ec469fa54a2c191a3621af",
            "98c0ac52514b47e89e23832c9da0987e",
            "c12c414baa42427eb6d2e9aac3d2ad42",
            "129d3ddd07574ad69836fbe1e95812e9",
            "3b9369aef6384a42934b5d24f17bc91b",
            "a74e817224654a1f865fec9937fc2093",
            "87864fd67b064fabaf8b17eadae87609",
            "e102fd1f90ba41c2b4cb3b409a93a7ad",
            "d62c3219525948eda3de37c286046717",
            "41671ac16b414ab7a760de39d5f3ed4f",
            "4d073777f0ce4528aee12a52e1bdd9c7",
            "c5171a42f8aa481aa97767b0f6bc73b3",
            "013e99e7f60644f69031b52a2a8f7ea2",
            "83e8b15b2dcc4a7e9d6ca0d6316eec5e",
            "b1d7f4ae09b5442081398d219238a108",
            "19a73a52ee8e48ca9cfc5c6701dd4664",
            "98e7ac1e0dce482d86ed1ce43fb025ce",
            "38fc69489bb64b9a939470ef725b04be",
            "e925c590a5634f95807e54a10f118c32",
            "021e6a986e6345e5a7fedcd26e9d94bc",
            "d8b5a637077a48dc9c78ed0e3c3ccd46",
            "bb240c26b57b4021b50392a6e82076a1",
            "49aeba71ec794d3dae568244bb49d5f9",
            "bb65a7c66068491ca8eede5d067b87a9",
            "f031f608d64e41468709d730a2de7e53",
            "ec1fc00662ad4e4a97c97f593d7d89e6",
            "4d9a558eb0664bcd9c25021c88f7773f",
            "4618b936df5c4f16860946bf22419a09",
            "c04d5927f45a44ebbed38d0a144646c2",
            "39a1870a80df4bbe84f1b1c974dbf28a",
            "3a6a5a4427a345fbb887ce4f5909ad0b",
            "c73bf5f5429e4ebba28b524f4c8b8f6c",
            "8dcd8890c2eb475b976688dba6a645f7",
            "9411d72bbab845ab9d9474a2e317c9aa",
            "75289033368d413ab16d6e1d60966bf1",
            "f65d3f8b678e4890a57f50e363f008d4",
            "50e0f6c02d52431da6eddfdb8480b8c7",
            "9695d26269b94d60a11f6b637aecf3f7"
          ]
        },
        "id": "FYSv6GPZT_4g",
        "outputId": "777c7c74-f791-41d5-890a-78d844f42b3f"
      },
      "execution_count": null,
      "outputs": [
        {
          "output_type": "display_data",
          "data": {
            "application/vnd.jupyter.widget-view+json": {
              "model_id": "81a96528616d41b19e3a18a787eb47d7",
              "version_minor": 0,
              "version_major": 2
            },
            "text/plain": [
              "Downloading:   0%|          | 0.00/519 [00:00<?, ?B/s]"
            ]
          },
          "metadata": {}
        },
        {
          "output_type": "display_data",
          "data": {
            "application/vnd.jupyter.widget-view+json": {
              "model_id": "163a7f980ad74e5781503317db0a04d5",
              "version_minor": 0,
              "version_major": 2
            },
            "text/plain": [
              "Downloading:   0%|          | 0.00/621M [00:00<?, ?B/s]"
            ]
          },
          "metadata": {}
        },
        {
          "output_type": "display_data",
          "data": {
            "application/vnd.jupyter.widget-view+json": {
              "model_id": "a74e817224654a1f865fec9937fc2093",
              "version_minor": 0,
              "version_major": 2
            },
            "text/plain": [
              "Downloading:   0%|          | 0.00/404 [00:00<?, ?B/s]"
            ]
          },
          "metadata": {}
        },
        {
          "output_type": "display_data",
          "data": {
            "application/vnd.jupyter.widget-view+json": {
              "model_id": "98e7ac1e0dce482d86ed1ce43fb025ce",
              "version_minor": 0,
              "version_major": 2
            },
            "text/plain": [
              "Downloading:   0%|          | 0.00/1.14M [00:00<?, ?B/s]"
            ]
          },
          "metadata": {}
        },
        {
          "output_type": "display_data",
          "data": {
            "application/vnd.jupyter.widget-view+json": {
              "model_id": "4618b936df5c4f16860946bf22419a09",
              "version_minor": 0,
              "version_major": 2
            },
            "text/plain": [
              "Downloading:   0%|          | 0.00/112 [00:00<?, ?B/s]"
            ]
          },
          "metadata": {}
        }
      ]
    },
    {
      "cell_type": "code",
      "source": [
        "#confif bert model\n",
        "config = BertConfig.from_pretrained(\n",
        "    'm3hrdadfi/bert-fa-base-uncased-wikinli-mean-tokens', **{\n",
        "\n",
        "    })\n",
        "print(config.to_json_string())"
      ],
      "metadata": {
        "colab": {
          "base_uri": "https://localhost:8080/"
        },
        "id": "1UzZqmuuUBh3",
        "outputId": "294fd7a0-8ad5-4e32-ae9b-bddc2b534255"
      },
      "execution_count": null,
      "outputs": [
        {
          "output_type": "stream",
          "name": "stdout",
          "text": [
            "{\n",
            "  \"_name_or_path\": \"HooshvareLab/bert-fa-base-uncased\",\n",
            "  \"architectures\": [\n",
            "    \"BertModel\"\n",
            "  ],\n",
            "  \"attention_probs_dropout_prob\": 0.1,\n",
            "  \"classifier_dropout\": null,\n",
            "  \"gradient_checkpointing\": false,\n",
            "  \"hidden_act\": \"gelu\",\n",
            "  \"hidden_dropout_prob\": 0.1,\n",
            "  \"hidden_size\": 768,\n",
            "  \"initializer_range\": 0.02,\n",
            "  \"intermediate_size\": 3072,\n",
            "  \"layer_norm_eps\": 1e-12,\n",
            "  \"max_position_embeddings\": 512,\n",
            "  \"model_type\": \"bert\",\n",
            "  \"num_attention_heads\": 12,\n",
            "  \"num_hidden_layers\": 12,\n",
            "  \"pad_token_id\": 0,\n",
            "  \"position_embedding_type\": \"absolute\",\n",
            "  \"transformers_version\": \"4.17.0\",\n",
            "  \"type_vocab_size\": 2,\n",
            "  \"use_cache\": true,\n",
            "  \"vocab_size\": 100000\n",
            "}\n",
            "\n"
          ]
        }
      ]
    },
    {
      "cell_type": "code",
      "source": [
        "corpus=[' دادن خمس سهام اهدایی به فرزند در زمان کودکی ']"
      ],
      "metadata": {
        "id": "PP_qEB-bUPYH"
      },
      "execution_count": null,
      "outputs": []
    },
    {
      "cell_type": "code",
      "source": [
        "corpus_embeddings = embedder.encode(corpus, show_progress_bar=True)"
      ],
      "metadata": {
        "colab": {
          "base_uri": "https://localhost:8080/",
          "height": 49,
          "referenced_widgets": [
            "d0eb957898fc48169b2842c406c40eb2",
            "95936cc4a25b4dbb8fa60c563c8b29a2",
            "5548e7c964fe4877bf15c60d1a79567a",
            "b7d0981339b94e00a3f3e9f8dc6542ff",
            "42a7fb5f4e6846d3929287e74d53200f",
            "72f18d6cb5174ce388e4b80709619d2b",
            "732a6e943c314010bad6c7dab9f5df0f",
            "3da7a04c17ff43389fc76f6bf7206818",
            "345176c638904568a11b4bb8b5a6b7b8",
            "565981ffe48b4579aa4e95a0fabb3d29",
            "a5949434e86c4ee29d3bef87dba1ce1b"
          ]
        },
        "id": "kW1rVVDnULk1",
        "outputId": "247bd367-059b-4efa-bd6d-3a13d454c4d4"
      },
      "execution_count": null,
      "outputs": [
        {
          "output_type": "display_data",
          "data": {
            "application/vnd.jupyter.widget-view+json": {
              "model_id": "d0eb957898fc48169b2842c406c40eb2",
              "version_minor": 0,
              "version_major": 2
            },
            "text/plain": [
              "Batches:   0%|          | 0/1 [00:00<?, ?it/s]"
            ]
          },
          "metadata": {}
        }
      ]
    },
    {
      "cell_type": "code",
      "source": [
        "#access google drive\n",
        "from google.colab import drive\n",
        "drive.mount('/content/gdrive')"
      ],
      "metadata": {
        "colab": {
          "base_uri": "https://localhost:8080/"
        },
        "id": "XlWGymrC_Dw_",
        "outputId": "fb834072-dc88-45cf-de0b-0421363d9e7d"
      },
      "execution_count": null,
      "outputs": [
        {
          "output_type": "stream",
          "name": "stdout",
          "text": [
            "Mounted at /content/gdrive\n"
          ]
        }
      ]
    },
    {
      "cell_type": "code",
      "source": [
        "#access google drive\n",
        "%cd /content/gdrive/My\\ Drive/parsa_clusters\n",
        "!ls"
      ],
      "metadata": {
        "colab": {
          "base_uri": "https://localhost:8080/"
        },
        "id": "buATvE_R_FV4",
        "outputId": "1bef3225-6d10-4c01-e977-21f68edcf7bb"
      },
      "execution_count": null,
      "outputs": [
        {
          "output_type": "stream",
          "name": "stdout",
          "text": [
            "/content/gdrive/My Drive/parsa_clusters\n",
            "0.csv\t    145.pickle\t191.csv     236.pickle\t282.csv     57.pickle\n",
            "0.pickle    146.csv\t191.pickle  237.csv\t282.pickle  58.csv\n",
            "100.csv     146.pickle\t192.csv     237.pickle\t283.csv     58.pickle\n",
            "100.pickle  147.csv\t192.pickle  238.csv\t283.pickle  59.csv\n",
            "101.csv     147.pickle\t193.csv     238.pickle\t284.csv     59.pickle\n",
            "101.pickle  148.csv\t193.pickle  239.csv\t284.pickle  5.csv\n",
            "102.csv     148.pickle\t194.csv     239.pickle\t285.csv     5.pickle\n",
            "102.pickle  149.csv\t194.pickle  23.csv\t285.pickle  60.csv\n",
            "103.csv     149.pickle\t195.csv     23.pickle\t286.csv     60.pickle\n",
            "103.pickle  14.csv\t195.pickle  240.csv\t286.pickle  61.csv\n",
            "104.csv     14.pickle\t196.csv     240.pickle\t287.csv     61.pickle\n",
            "104.pickle  150.csv\t196.pickle  241.csv\t287.pickle  62.csv\n",
            "105.csv     150.pickle\t197.csv     241.pickle\t288.csv     62.pickle\n",
            "105.pickle  151.csv\t197.pickle  242.csv\t288.pickle  63.csv\n",
            "106.csv     151.pickle\t198.csv     242.pickle\t289.csv     63.pickle\n",
            "106.pickle  152.csv\t198.pickle  243.csv\t289.pickle  64.csv\n",
            "107.csv     152.pickle\t199.csv     243.pickle\t28.csv\t    64.pickle\n",
            "107.pickle  153.csv\t199.pickle  244.csv\t28.pickle   65.csv\n",
            "108.csv     153.pickle\t19.csv\t    244.pickle\t290.csv     65.pickle\n",
            "108.pickle  154.csv\t19.pickle   245.csv\t290.pickle  66.csv\n",
            "109.csv     154.pickle\t1.csv\t    245.pickle\t291.csv     66.pickle\n",
            "109.pickle  155.csv\t1.pickle    246.csv\t291.pickle  67.csv\n",
            "10.csv\t    155.pickle\t200.csv     246.pickle\t292.csv     67.pickle\n",
            "10.pickle   156.csv\t200.pickle  247.csv\t292.pickle  68.csv\n",
            "110.csv     156.pickle\t201.csv     247.pickle\t293.csv     68.pickle\n",
            "110.pickle  157.csv\t201.pickle  248.csv\t293.pickle  69.csv\n",
            "111.csv     157.pickle\t202.csv     248.pickle\t294.csv     69.pickle\n",
            "111.pickle  158.csv\t202.pickle  249.csv\t294.pickle  6.csv\n",
            "112.csv     158.pickle\t203.csv     249.pickle\t295.csv     6.pickle\n",
            "112.pickle  159.csv\t203.pickle  24.csv\t295.pickle  70.csv\n",
            "113.csv     159.pickle\t204.csv     24.pickle\t296.csv     70.pickle\n",
            "113.pickle  15.csv\t204.pickle  250.csv\t296.pickle  71.csv\n",
            "114.csv     15.pickle\t205.csv     250.pickle\t297.csv     71.pickle\n",
            "114.pickle  160.csv\t205.pickle  251.csv\t297.pickle  72.csv\n",
            "115.csv     160.pickle\t206.csv     251.pickle\t298.csv     72.pickle\n",
            "115.pickle  161.csv\t206.pickle  252.csv\t298.pickle  73.csv\n",
            "116.csv     161.pickle\t207.csv     252.pickle\t299.csv     73.pickle\n",
            "116.pickle  162.csv\t207.pickle  253.csv\t299.pickle  74.csv\n",
            "117.csv     162.pickle\t208.csv     253.pickle\t29.csv\t    74.pickle\n",
            "117.pickle  163.csv\t208.pickle  254.csv\t29.pickle   75.csv\n",
            "118.csv     163.pickle\t209.csv     254.pickle\t2.csv\t    75.pickle\n",
            "118.pickle  164.csv\t209.pickle  255.csv\t2.pickle    76.csv\n",
            "119.csv     164.pickle\t20.csv\t    255.pickle\t30.csv\t    76.pickle\n",
            "119.pickle  165.csv\t20.pickle   256.csv\t30.pickle   77.csv\n",
            "11.csv\t    165.pickle\t210.csv     256.pickle\t31.csv\t    77.pickle\n",
            "11.pickle   166.csv\t210.pickle  257.csv\t31.pickle   78.csv\n",
            "120.csv     166.pickle\t211.csv     257.pickle\t32.csv\t    78.pickle\n",
            "120.pickle  167.csv\t211.pickle  258.csv\t32.pickle   79.csv\n",
            "121.csv     167.pickle\t212.csv     258.pickle\t33.csv\t    79.pickle\n",
            "121.pickle  168.csv\t212.pickle  259.csv\t33.pickle   7.csv\n",
            "122.csv     168.pickle\t213.csv     259.pickle\t34.csv\t    7.pickle\n",
            "122.pickle  169.csv\t213.pickle  25.csv\t34.pickle   80.csv\n",
            "123.csv     169.pickle\t214.csv     25.pickle\t35.csv\t    80.pickle\n",
            "123.pickle  16.csv\t214.pickle  260.csv\t35.pickle   81.csv\n",
            "124.csv     16.pickle\t215.csv     260.pickle\t36.csv\t    81.pickle\n",
            "124.pickle  170.csv\t215.pickle  261.csv\t36.pickle   82.csv\n",
            "125.csv     170.pickle\t216.csv     261.pickle\t37.csv\t    82.pickle\n",
            "125.pickle  171.csv\t216.pickle  262.csv\t37.pickle   83.csv\n",
            "126.csv     171.pickle\t217.csv     262.pickle\t38.csv\t    83.pickle\n",
            "126.pickle  172.csv\t217.pickle  263.csv\t38.pickle   84.csv\n",
            "127.csv     172.pickle\t218.csv     263.pickle\t39.csv\t    84.pickle\n",
            "127.pickle  173.csv\t218.pickle  264.csv\t39.pickle   85.csv\n",
            "128.csv     173.pickle\t219.csv     264.pickle\t3.csv\t    85.pickle\n",
            "128.pickle  174.csv\t219.pickle  265.csv\t3.pickle    86.csv\n",
            "129.csv     174.pickle\t21.csv\t    265.pickle\t40.csv\t    86.pickle\n",
            "129.pickle  175.csv\t21.pickle   266.csv\t40.pickle   87.csv\n",
            "12.csv\t    175.pickle\t220.csv     266.pickle\t41.csv\t    87.pickle\n",
            "12.pickle   176.csv\t220.pickle  267.csv\t41.pickle   88.csv\n",
            "130.csv     176.pickle\t221.csv     267.pickle\t42.csv\t    88.pickle\n",
            "130.pickle  177.csv\t221.pickle  268.csv\t42.pickle   89.csv\n",
            "131.csv     177.pickle\t222.csv     268.pickle\t43.csv\t    89.pickle\n",
            "131.pickle  178.csv\t222.pickle  269.csv\t43.pickle   8.csv\n",
            "132.csv     178.pickle\t223.csv     269.pickle\t44.csv\t    8.pickle\n",
            "132.pickle  179.csv\t223.pickle  26.csv\t44.pickle   90.csv\n",
            "133.csv     179.pickle\t224.csv     26.pickle\t45.csv\t    90.pickle\n",
            "133.pickle  17.csv\t224.pickle  270.csv\t45.pickle   91.csv\n",
            "134.csv     17.pickle\t225.csv     270.pickle\t46.csv\t    91.pickle\n",
            "134.pickle  180.csv\t225.pickle  271.csv\t46.pickle   92.csv\n",
            "135.csv     180.pickle\t226.csv     271.pickle\t47.csv\t    92.pickle\n",
            "135.pickle  181.csv\t226.pickle  272.csv\t47.pickle   93.csv\n",
            "136.csv     181.pickle\t227.csv     272.pickle\t48.csv\t    93.pickle\n",
            "136.pickle  182.csv\t227.pickle  273.csv\t48.pickle   94.csv\n",
            "137.csv     182.pickle\t228.csv     273.pickle\t49.csv\t    94.pickle\n",
            "137.pickle  183.csv\t228.pickle  274.csv\t49.pickle   95.csv\n",
            "138.csv     183.pickle\t229.csv     274.pickle\t4.csv\t    95.pickle\n",
            "138.pickle  184.csv\t229.pickle  275.csv\t4.pickle    96.csv\n",
            "139.csv     184.pickle\t22.csv\t    275.pickle\t50.csv\t    96.pickle\n",
            "139.pickle  185.csv\t22.pickle   276.csv\t50.pickle   97.csv\n",
            "13.csv\t    185.pickle\t230.csv     276.pickle\t51.csv\t    97.pickle\n",
            "13.pickle   186.csv\t230.pickle  277.csv\t51.pickle   98.csv\n",
            "140.csv     186.pickle\t231.csv     277.pickle\t52.csv\t    98.pickle\n",
            "140.pickle  187.csv\t231.pickle  278.csv\t52.pickle   99.csv\n",
            "141.csv     187.pickle\t232.csv     278.pickle\t53.csv\t    99.pickle\n",
            "141.pickle  188.csv\t232.pickle  279.csv\t53.pickle   9.csv\n",
            "142.csv     188.pickle\t233.csv     279.pickle\t54.csv\t    9.pickle\n",
            "142.pickle  189.csv\t233.pickle  27.csv\t54.pickle   centers.pickle\n",
            "143.csv     189.pickle\t234.csv     27.pickle\t55.csv\t    resources\n",
            "143.pickle  18.csv\t234.pickle  280.csv\t55.pickle\n",
            "144.csv     18.pickle\t235.csv     280.pickle\t56.csv\n",
            "144.pickle  190.csv\t235.pickle  281.csv\t56.pickle\n",
            "145.csv     190.pickle\t236.csv     281.pickle\t57.csv\n"
          ]
        }
      ]
    },
    {
      "cell_type": "code",
      "source": [
        "df = pd.read_csv('209.csv')"
      ],
      "metadata": {
        "id": "wan3l98ZAh4K"
      },
      "execution_count": null,
      "outputs": []
    },
    {
      "cell_type": "code",
      "source": [
        "df.head()"
      ],
      "metadata": {
        "colab": {
          "base_uri": "https://localhost:8080/",
          "height": 206
        },
        "id": "b_TUnB5JAkuO",
        "outputId": "a24b9b91-0935-46e8-cd0a-5c424aba4fd4"
      },
      "execution_count": null,
      "outputs": [
        {
          "output_type": "execute_result",
          "data": {
            "text/html": [
              "\n",
              "  <div id=\"df-6d964ffb-6c9b-44d4-9156-7202ccb26428\">\n",
              "    <div class=\"colab-df-container\">\n",
              "      <div>\n",
              "<style scoped>\n",
              "    .dataframe tbody tr th:only-of-type {\n",
              "        vertical-align: middle;\n",
              "    }\n",
              "\n",
              "    .dataframe tbody tr th {\n",
              "        vertical-align: top;\n",
              "    }\n",
              "\n",
              "    .dataframe thead th {\n",
              "        text-align: right;\n",
              "    }\n",
              "</style>\n",
              "<table border=\"1\" class=\"dataframe\">\n",
              "  <thead>\n",
              "    <tr style=\"text-align: right;\">\n",
              "      <th></th>\n",
              "      <th>Unnamed: 0</th>\n",
              "      <th>original_index</th>\n",
              "      <th>q&amp;a</th>\n",
              "      <th>q_fa_id</th>\n",
              "      <th>question</th>\n",
              "      <th>clusters</th>\n",
              "      <th>row_num</th>\n",
              "    </tr>\n",
              "  </thead>\n",
              "  <tbody>\n",
              "    <tr>\n",
              "      <th>0</th>\n",
              "      <td>2336</td>\n",
              "      <td>2336</td>\n",
              "      <td>یکی از دوستانم پتویی به خوابگاه دانشگاه سپرد ک...</td>\n",
              "      <td>1dlCAn8B7wsuAN6f4eP4</td>\n",
              "      <td>یکی از دوستانم پتویی به خوابگاه دانشگاه سپرد ک...</td>\n",
              "      <td>209</td>\n",
              "      <td>0</td>\n",
              "    </tr>\n",
              "    <tr>\n",
              "      <th>1</th>\n",
              "      <td>2391</td>\n",
              "      <td>2391</td>\n",
              "      <td>پدرم در یک سالن ورزشی کار می کند. استفاده شخصی...</td>\n",
              "      <td>1tlEAn8B7wsuAN6fBeSr</td>\n",
              "      <td>پدرم در یک سالن ورزشی کار می کند. استفاده شخصی...</td>\n",
              "      <td>209</td>\n",
              "      <td>1</td>\n",
              "    </tr>\n",
              "    <tr>\n",
              "      <th>2</th>\n",
              "      <td>2501</td>\n",
              "      <td>2501</td>\n",
              "      <td>مغازه‌ای اجاره کردم که دارای انشعاب آب است، ول...</td>\n",
              "      <td>jtlGAn8B7wsuAN6fw-f6</td>\n",
              "      <td>مغازه‌ای اجاره کردم که دارای انشعاب آب است، ول...</td>\n",
              "      <td>209</td>\n",
              "      <td>2</td>\n",
              "    </tr>\n",
              "    <tr>\n",
              "      <th>3</th>\n",
              "      <td>4399</td>\n",
              "      <td>4399</td>\n",
              "      <td>تکلیف پول جمع آوری شده توسط هیئتی که منحل شده...</td>\n",
              "      <td>F9kLAn8B7wsuAN6fu35u</td>\n",
              "      <td>تکلیف پول جمع آوری شده توسط هیئتی که منحل شده</td>\n",
              "      <td>209</td>\n",
              "      <td>3</td>\n",
              "    </tr>\n",
              "    <tr>\n",
              "      <th>4</th>\n",
              "      <td>5308</td>\n",
              "      <td>5308</td>\n",
              "      <td>کتاب امانتی که گم شده و نمی داند برای کدام کت...</td>\n",
              "      <td>ftkNAn8B7wsuAN6fFYIN</td>\n",
              "      <td>کتاب امانتی که گم شده و نمی داند برای کدام کت...</td>\n",
              "      <td>209</td>\n",
              "      <td>4</td>\n",
              "    </tr>\n",
              "  </tbody>\n",
              "</table>\n",
              "</div>\n",
              "      <button class=\"colab-df-convert\" onclick=\"convertToInteractive('df-6d964ffb-6c9b-44d4-9156-7202ccb26428')\"\n",
              "              title=\"Convert this dataframe to an interactive table.\"\n",
              "              style=\"display:none;\">\n",
              "        \n",
              "  <svg xmlns=\"http://www.w3.org/2000/svg\" height=\"24px\"viewBox=\"0 0 24 24\"\n",
              "       width=\"24px\">\n",
              "    <path d=\"M0 0h24v24H0V0z\" fill=\"none\"/>\n",
              "    <path d=\"M18.56 5.44l.94 2.06.94-2.06 2.06-.94-2.06-.94-.94-2.06-.94 2.06-2.06.94zm-11 1L8.5 8.5l.94-2.06 2.06-.94-2.06-.94L8.5 2.5l-.94 2.06-2.06.94zm10 10l.94 2.06.94-2.06 2.06-.94-2.06-.94-.94-2.06-.94 2.06-2.06.94z\"/><path d=\"M17.41 7.96l-1.37-1.37c-.4-.4-.92-.59-1.43-.59-.52 0-1.04.2-1.43.59L10.3 9.45l-7.72 7.72c-.78.78-.78 2.05 0 2.83L4 21.41c.39.39.9.59 1.41.59.51 0 1.02-.2 1.41-.59l7.78-7.78 2.81-2.81c.8-.78.8-2.07 0-2.86zM5.41 20L4 18.59l7.72-7.72 1.47 1.35L5.41 20z\"/>\n",
              "  </svg>\n",
              "      </button>\n",
              "      \n",
              "  <style>\n",
              "    .colab-df-container {\n",
              "      display:flex;\n",
              "      flex-wrap:wrap;\n",
              "      gap: 12px;\n",
              "    }\n",
              "\n",
              "    .colab-df-convert {\n",
              "      background-color: #E8F0FE;\n",
              "      border: none;\n",
              "      border-radius: 50%;\n",
              "      cursor: pointer;\n",
              "      display: none;\n",
              "      fill: #1967D2;\n",
              "      height: 32px;\n",
              "      padding: 0 0 0 0;\n",
              "      width: 32px;\n",
              "    }\n",
              "\n",
              "    .colab-df-convert:hover {\n",
              "      background-color: #E2EBFA;\n",
              "      box-shadow: 0px 1px 2px rgba(60, 64, 67, 0.3), 0px 1px 3px 1px rgba(60, 64, 67, 0.15);\n",
              "      fill: #174EA6;\n",
              "    }\n",
              "\n",
              "    [theme=dark] .colab-df-convert {\n",
              "      background-color: #3B4455;\n",
              "      fill: #D2E3FC;\n",
              "    }\n",
              "\n",
              "    [theme=dark] .colab-df-convert:hover {\n",
              "      background-color: #434B5C;\n",
              "      box-shadow: 0px 1px 3px 1px rgba(0, 0, 0, 0.15);\n",
              "      filter: drop-shadow(0px 1px 2px rgba(0, 0, 0, 0.3));\n",
              "      fill: #FFFFFF;\n",
              "    }\n",
              "  </style>\n",
              "\n",
              "      <script>\n",
              "        const buttonEl =\n",
              "          document.querySelector('#df-6d964ffb-6c9b-44d4-9156-7202ccb26428 button.colab-df-convert');\n",
              "        buttonEl.style.display =\n",
              "          google.colab.kernel.accessAllowed ? 'block' : 'none';\n",
              "\n",
              "        async function convertToInteractive(key) {\n",
              "          const element = document.querySelector('#df-6d964ffb-6c9b-44d4-9156-7202ccb26428');\n",
              "          const dataTable =\n",
              "            await google.colab.kernel.invokeFunction('convertToInteractive',\n",
              "                                                     [key], {});\n",
              "          if (!dataTable) return;\n",
              "\n",
              "          const docLinkHtml = 'Like what you see? Visit the ' +\n",
              "            '<a target=\"_blank\" href=https://colab.research.google.com/notebooks/data_table.ipynb>data table notebook</a>'\n",
              "            + ' to learn more about interactive tables.';\n",
              "          element.innerHTML = '';\n",
              "          dataTable['output_type'] = 'display_data';\n",
              "          await google.colab.output.renderOutput(dataTable, element);\n",
              "          const docLink = document.createElement('div');\n",
              "          docLink.innerHTML = docLinkHtml;\n",
              "          element.appendChild(docLink);\n",
              "        }\n",
              "      </script>\n",
              "    </div>\n",
              "  </div>\n",
              "  "
            ],
            "text/plain": [
              "   Unnamed: 0  original_index  \\\n",
              "0        2336            2336   \n",
              "1        2391            2391   \n",
              "2        2501            2501   \n",
              "3        4399            4399   \n",
              "4        5308            5308   \n",
              "\n",
              "                                                 q&a               q_fa_id  \\\n",
              "0  یکی از دوستانم پتویی به خوابگاه دانشگاه سپرد ک...  1dlCAn8B7wsuAN6f4eP4   \n",
              "1  پدرم در یک سالن ورزشی کار می کند. استفاده شخصی...  1tlEAn8B7wsuAN6fBeSr   \n",
              "2  مغازه‌ای اجاره کردم که دارای انشعاب آب است، ول...  jtlGAn8B7wsuAN6fw-f6   \n",
              "3   تکلیف پول جمع آوری شده توسط هیئتی که منحل شده...  F9kLAn8B7wsuAN6fu35u   \n",
              "4   کتاب امانتی که گم شده و نمی داند برای کدام کت...  ftkNAn8B7wsuAN6fFYIN   \n",
              "\n",
              "                                            question  clusters  row_num  \n",
              "0  یکی از دوستانم پتویی به خوابگاه دانشگاه سپرد ک...       209        0  \n",
              "1  پدرم در یک سالن ورزشی کار می کند. استفاده شخصی...       209        1  \n",
              "2  مغازه‌ای اجاره کردم که دارای انشعاب آب است، ول...       209        2  \n",
              "3      تکلیف پول جمع آوری شده توسط هیئتی که منحل شده       209        3  \n",
              "4   کتاب امانتی که گم شده و نمی داند برای کدام کت...       209        4  "
            ]
          },
          "metadata": {},
          "execution_count": 14
        }
      ]
    },
    {
      "cell_type": "code",
      "source": [
        "print(len(df))"
      ],
      "metadata": {
        "colab": {
          "base_uri": "https://localhost:8080/"
        },
        "id": "6q2hDwXUBJGB",
        "outputId": "40b200a0-6031-4b0d-a46c-6046ef55da8a"
      },
      "execution_count": null,
      "outputs": [
        {
          "output_type": "stream",
          "name": "stdout",
          "text": [
            "88\n"
          ]
        }
      ]
    },
    {
      "cell_type": "code",
      "source": [
        "import pickle\n",
        "\n",
        "pickle_in=open('209.pickle','rb')\n",
        "u=pickle.load(pickle_in)"
      ],
      "metadata": {
        "id": "Ez4RTPItA6B7"
      },
      "execution_count": null,
      "outputs": []
    },
    {
      "cell_type": "code",
      "source": [
        "print(u)\n",
        "print(u.shape)"
      ],
      "metadata": {
        "colab": {
          "base_uri": "https://localhost:8080/"
        },
        "id": "G-S0992GVlPy",
        "outputId": "eabb825c-1f21-4bba-c3eb-7ebf1d11d3d3"
      },
      "execution_count": null,
      "outputs": [
        {
          "output_type": "stream",
          "name": "stdout",
          "text": [
            "[[-5.4695594e-01  3.0213717e-01  1.4343424e+00 ... -1.8749633e-01\n",
            "  -6.4143288e-01 -4.6065682e-01]\n",
            " [ 2.2457790e-01  4.6777037e-01  4.0461478e-01 ... -3.7099230e-01\n",
            "   2.6795432e-01 -9.3467259e-01]\n",
            " [-1.0246397e-01  2.0316161e-01  1.2053478e+00 ... -4.6703598e-01\n",
            "  -1.1657699e-01 -5.8431464e-01]\n",
            " ...\n",
            " [-6.2457234e-01  5.4760098e-01  7.9778725e-01 ... -1.1421896e+00\n",
            "  -5.5662388e-01  6.7024551e-02]\n",
            " [ 2.2457790e-01  4.6777037e-01  4.0461478e-01 ... -3.7099230e-01\n",
            "   2.6795432e-01 -9.3467259e-01]\n",
            " [ 1.2760673e-01 -6.4966373e-02  9.0641159e-01 ... -2.3546387e-01\n",
            "  -3.4886464e-01  1.4293572e-03]]\n",
            "(88, 768)\n"
          ]
        }
      ]
    },
    {
      "cell_type": "code",
      "source": [
        "print(len(df))\n",
        "print(type(len(df)))"
      ],
      "metadata": {
        "colab": {
          "base_uri": "https://localhost:8080/"
        },
        "id": "7o48besFXVnL",
        "outputId": "fe38ab27-2f18-4db0-98d7-d71601f6143e"
      },
      "execution_count": null,
      "outputs": [
        {
          "output_type": "stream",
          "name": "stdout",
          "text": [
            "89\n",
            "<class 'int'>\n"
          ]
        }
      ]
    },
    {
      "cell_type": "code",
      "source": [
        "u = np.append(u, corpus_embeddings, axis = 0)"
      ],
      "metadata": {
        "id": "687jTMc5VwBZ"
      },
      "execution_count": null,
      "outputs": []
    },
    {
      "cell_type": "code",
      "source": [
        "print(u)\n",
        "print(u.shape)"
      ],
      "metadata": {
        "colab": {
          "base_uri": "https://localhost:8080/"
        },
        "id": "5BGUkFRSV7aa",
        "outputId": "08247451-8046-44a5-a8a0-7badbefcc07d"
      },
      "execution_count": null,
      "outputs": [
        {
          "output_type": "stream",
          "name": "stdout",
          "text": [
            "[[-5.4695594e-01  3.0213717e-01  1.4343424e+00 ... -1.8749633e-01\n",
            "  -6.4143288e-01 -4.6065682e-01]\n",
            " [ 2.2457790e-01  4.6777037e-01  4.0461478e-01 ... -3.7099230e-01\n",
            "   2.6795432e-01 -9.3467259e-01]\n",
            " [-1.0246397e-01  2.0316161e-01  1.2053478e+00 ... -4.6703598e-01\n",
            "  -1.1657699e-01 -5.8431464e-01]\n",
            " ...\n",
            " [ 2.2457790e-01  4.6777037e-01  4.0461478e-01 ... -3.7099230e-01\n",
            "   2.6795432e-01 -9.3467259e-01]\n",
            " [ 1.2760673e-01 -6.4966373e-02  9.0641159e-01 ... -2.3546387e-01\n",
            "  -3.4886464e-01  1.4293572e-03]\n",
            " [ 3.5950491e-01  5.9129280e-01  5.0455487e-01 ... -5.3720915e-01\n",
            "  -4.4278506e-02 -1.5489496e-01]]\n",
            "(89, 768)\n"
          ]
        }
      ]
    },
    {
      "cell_type": "code",
      "source": [
        "cosine_sim = cosine_similarity(u)"
      ],
      "metadata": {
        "id": "rV1Mbp5RBGQQ"
      },
      "execution_count": null,
      "outputs": []
    },
    {
      "cell_type": "code",
      "source": [
        "print(cosine_sim)\n",
        "print(cosine_sim.shape)"
      ],
      "metadata": {
        "colab": {
          "base_uri": "https://localhost:8080/"
        },
        "id": "B-mi-hU-BNDI",
        "outputId": "b160261d-0010-49a2-f7b9-36d77e960307"
      },
      "execution_count": null,
      "outputs": [
        {
          "output_type": "stream",
          "name": "stdout",
          "text": [
            "[[0.99999964 0.91148424 0.90832657 ... 0.88893044 0.85914993 0.7882883 ]\n",
            " [0.91148424 0.99999994 0.9493128  ... 0.8642168  0.8537967  0.7486001 ]\n",
            " [0.90832657 0.9493128  1.0000001  ... 0.86457753 0.8685935  0.76341283]\n",
            " ...\n",
            " [0.88893044 0.8642168  0.86457753 ... 0.99999976 0.9216119  0.7414044 ]\n",
            " [0.85914993 0.8537967  0.8685935  ... 0.9216119  0.99999994 0.76168096]\n",
            " [0.7882883  0.7486001  0.76341283 ... 0.7414044  0.76168096 1.        ]]\n",
            "(90, 90)\n"
          ]
        }
      ]
    },
    {
      "cell_type": "code",
      "source": [
        "question_index=len(df)\n",
        "similar_questions = list(enumerate(cosine_sim[question_index]))"
      ],
      "metadata": {
        "id": "WBffDv8kXBEY"
      },
      "execution_count": null,
      "outputs": []
    },
    {
      "cell_type": "code",
      "source": [
        "print(similar_questions)"
      ],
      "metadata": {
        "colab": {
          "base_uri": "https://localhost:8080/"
        },
        "id": "VLcEZMa8YAdZ",
        "outputId": "8614207a-20e6-4c4a-b8d1-47d8a9101a65"
      },
      "execution_count": null,
      "outputs": [
        {
          "output_type": "stream",
          "name": "stdout",
          "text": [
            "[(0, 0.7789553), (1, 0.77697), (2, 0.70415825), (3, 0.65682626), (4, 0.6665196), (5, 0.7024321), (6, 0.638595), (7, 0.7771417), (8, 0.7105598), (9, 0.7556522), (10, 0.84122723), (11, 0.738901), (12, 0.7080411), (13, 0.7876648), (14, 0.7511946), (15, 0.7581523), (16, 0.7199267), (17, 0.6805888), (18, 0.7338761), (19, 0.7040614), (20, 0.7141611), (21, 0.6179732), (22, 0.8086588), (23, 0.64564556), (24, 0.73328656), (25, 0.7345173), (26, 0.840538), (27, 0.80113524), (28, 0.6654245), (29, 0.7053929), (30, 0.8128777), (31, 0.7582425), (32, 0.7626153), (33, 0.7789681), (34, 0.80212426), (35, 0.78752434), (36, 0.7563779), (37, 0.7691169), (38, 0.7650509), (39, 0.65606827), (40, 0.694941), (41, 0.69817954), (42, 0.7410891), (43, 0.71316993), (44, 0.65872306), (45, 0.7016727), (46, 0.8137785), (47, 0.65575194), (48, 0.720351), (49, 0.8144953), (50, 0.7436936), (51, 0.64969426), (52, 0.7719743), (53, 0.6924851), (54, 0.71692383), (55, 0.6662154), (56, 0.77412903), (57, 0.6763332), (58, 0.60625935), (59, 0.7924472), (60, 0.78403056), (61, 0.6752509), (62, 0.6957693), (63, 0.75410944), (64, 0.73575974), (65, 0.67742074), (66, 0.6643803), (67, 0.7764347), (68, 0.7506178), (69, 0.67952096), (70, 0.76500475), (71, 0.8182774), (72, 0.7679452), (73, 0.7650509), (74, 0.6805888), (75, 0.78403056), (76, 0.7771417), (77, 0.71316993), (78, 0.7771417), (79, 0.77697), (80, 0.8137785), (81, 0.7141611), (82, 0.7650509), (83, 0.6805888), (84, 0.78403056), (85, 0.71316993), (86, 0.77697), (87, 0.8137785), (88, 1.0)]\n"
          ]
        }
      ]
    },
    {
      "cell_type": "code",
      "source": [
        "sorted_similar_questions = sorted(similar_questions, key=lambda x:x[1], reverse=True)"
      ],
      "metadata": {
        "id": "Ra04IGZBYm-V"
      },
      "execution_count": null,
      "outputs": []
    },
    {
      "cell_type": "code",
      "source": [
        "print(sorted_similar_questions)"
      ],
      "metadata": {
        "colab": {
          "base_uri": "https://localhost:8080/"
        },
        "id": "2HtQ-psDY-lQ",
        "outputId": "6d3f97f0-d7de-48b3-9934-f03aa9caf3ca"
      },
      "execution_count": null,
      "outputs": [
        {
          "output_type": "stream",
          "name": "stdout",
          "text": [
            "[(88, 1.0), (10, 0.84122723), (26, 0.840538), (71, 0.8182774), (49, 0.8144953), (46, 0.8137785), (80, 0.8137785), (87, 0.8137785), (30, 0.8128777), (22, 0.8086588), (34, 0.80212426), (27, 0.80113524), (59, 0.7924472), (13, 0.7876648), (35, 0.78752434), (60, 0.78403056), (75, 0.78403056), (84, 0.78403056), (33, 0.7789681), (0, 0.7789553), (7, 0.7771417), (76, 0.7771417), (78, 0.7771417), (1, 0.77697), (79, 0.77697), (86, 0.77697), (67, 0.7764347), (56, 0.77412903), (52, 0.7719743), (37, 0.7691169), (72, 0.7679452), (38, 0.7650509), (73, 0.7650509), (82, 0.7650509), (70, 0.76500475), (32, 0.7626153), (31, 0.7582425), (15, 0.7581523), (36, 0.7563779), (9, 0.7556522), (63, 0.75410944), (14, 0.7511946), (68, 0.7506178), (50, 0.7436936), (42, 0.7410891), (11, 0.738901), (64, 0.73575974), (25, 0.7345173), (18, 0.7338761), (24, 0.73328656), (48, 0.720351), (16, 0.7199267), (54, 0.71692383), (20, 0.7141611), (81, 0.7141611), (43, 0.71316993), (77, 0.71316993), (85, 0.71316993), (8, 0.7105598), (12, 0.7080411), (29, 0.7053929), (2, 0.70415825), (19, 0.7040614), (5, 0.7024321), (45, 0.7016727), (41, 0.69817954), (62, 0.6957693), (40, 0.694941), (53, 0.6924851), (17, 0.6805888), (74, 0.6805888), (83, 0.6805888), (69, 0.67952096), (65, 0.67742074), (57, 0.6763332), (61, 0.6752509), (4, 0.6665196), (55, 0.6662154), (28, 0.6654245), (66, 0.6643803), (44, 0.65872306), (3, 0.65682626), (39, 0.65606827), (47, 0.65575194), (51, 0.64969426), (23, 0.64564556), (6, 0.638595), (21, 0.6179732), (58, 0.60625935)]\n"
          ]
        }
      ]
    },
    {
      "cell_type": "code",
      "source": [
        "sorted_similar_questions.pop(0)"
      ],
      "metadata": {
        "colab": {
          "base_uri": "https://localhost:8080/"
        },
        "id": "h7eF1tOyaTV5",
        "outputId": "b885e95b-a216-4b57-810c-e86a1fda5a1f"
      },
      "execution_count": null,
      "outputs": [
        {
          "output_type": "execute_result",
          "data": {
            "text/plain": [
              "(88, 1.0)"
            ]
          },
          "metadata": {},
          "execution_count": 25
        }
      ]
    },
    {
      "cell_type": "code",
      "source": [
        "print(sorted_similar_questions)"
      ],
      "metadata": {
        "colab": {
          "base_uri": "https://localhost:8080/"
        },
        "id": "vBkV00zOaZQx",
        "outputId": "d400bc70-65a8-49d9-ef88-54e5849b93ab"
      },
      "execution_count": null,
      "outputs": [
        {
          "output_type": "stream",
          "name": "stdout",
          "text": [
            "[(10, 0.84122723), (26, 0.840538), (71, 0.8182774), (49, 0.8144953), (46, 0.8137785), (80, 0.8137785), (87, 0.8137785), (30, 0.8128777), (22, 0.8086588), (34, 0.80212426), (27, 0.80113524), (59, 0.7924472), (13, 0.7876648), (35, 0.78752434), (60, 0.78403056), (75, 0.78403056), (84, 0.78403056), (33, 0.7789681), (0, 0.7789553), (7, 0.7771417), (76, 0.7771417), (78, 0.7771417), (1, 0.77697), (79, 0.77697), (86, 0.77697), (67, 0.7764347), (56, 0.77412903), (52, 0.7719743), (37, 0.7691169), (72, 0.7679452), (38, 0.7650509), (73, 0.7650509), (82, 0.7650509), (70, 0.76500475), (32, 0.7626153), (31, 0.7582425), (15, 0.7581523), (36, 0.7563779), (9, 0.7556522), (63, 0.75410944), (14, 0.7511946), (68, 0.7506178), (50, 0.7436936), (42, 0.7410891), (11, 0.738901), (64, 0.73575974), (25, 0.7345173), (18, 0.7338761), (24, 0.73328656), (48, 0.720351), (16, 0.7199267), (54, 0.71692383), (20, 0.7141611), (81, 0.7141611), (43, 0.71316993), (77, 0.71316993), (85, 0.71316993), (8, 0.7105598), (12, 0.7080411), (29, 0.7053929), (2, 0.70415825), (19, 0.7040614), (5, 0.7024321), (45, 0.7016727), (41, 0.69817954), (62, 0.6957693), (40, 0.694941), (53, 0.6924851), (17, 0.6805888), (74, 0.6805888), (83, 0.6805888), (69, 0.67952096), (65, 0.67742074), (57, 0.6763332), (61, 0.6752509), (4, 0.6665196), (55, 0.6662154), (28, 0.6654245), (66, 0.6643803), (44, 0.65872306), (3, 0.65682626), (39, 0.65606827), (47, 0.65575194), (51, 0.64969426), (23, 0.64564556), (6, 0.638595), (21, 0.6179732), (58, 0.60625935)]\n"
          ]
        }
      ]
    },
    {
      "cell_type": "code",
      "source": [
        "array = [46,80,87]\n",
        "df.loc[df['row_num'].isin(array)]"
      ],
      "metadata": {
        "colab": {
          "base_uri": "https://localhost:8080/",
          "height": 143
        },
        "id": "8aHmbtXXuQKN",
        "outputId": "53d41bd9-d9ea-4090-f4d0-168aaf70fb51"
      },
      "execution_count": null,
      "outputs": [
        {
          "output_type": "execute_result",
          "data": {
            "text/html": [
              "\n",
              "  <div id=\"df-db02e51b-82c6-4e3c-bee7-ca6c08df5288\">\n",
              "    <div class=\"colab-df-container\">\n",
              "      <div>\n",
              "<style scoped>\n",
              "    .dataframe tbody tr th:only-of-type {\n",
              "        vertical-align: middle;\n",
              "    }\n",
              "\n",
              "    .dataframe tbody tr th {\n",
              "        vertical-align: top;\n",
              "    }\n",
              "\n",
              "    .dataframe thead th {\n",
              "        text-align: right;\n",
              "    }\n",
              "</style>\n",
              "<table border=\"1\" class=\"dataframe\">\n",
              "  <thead>\n",
              "    <tr style=\"text-align: right;\">\n",
              "      <th></th>\n",
              "      <th>Unnamed: 0</th>\n",
              "      <th>original_index</th>\n",
              "      <th>q&amp;a</th>\n",
              "      <th>q_fa_id</th>\n",
              "      <th>question</th>\n",
              "      <th>clusters</th>\n",
              "      <th>row_num</th>\n",
              "    </tr>\n",
              "  </thead>\n",
              "  <tbody>\n",
              "    <tr>\n",
              "      <th>46</th>\n",
              "      <td>27911</td>\n",
              "      <td>27911</td>\n",
              "      <td>پدرم چند سال پیش فوت کرد و در وصیت نامه خود مق...</td>\n",
              "      <td>YNoiA38B7wsuAN6fbsJx</td>\n",
              "      <td>پدرم چند سال پیش فوت کرد و در وصیت نامه خود مق...</td>\n",
              "      <td>209</td>\n",
              "      <td>46</td>\n",
              "    </tr>\n",
              "    <tr>\n",
              "      <th>80</th>\n",
              "      <td>35949</td>\n",
              "      <td>35949</td>\n",
              "      <td>پدرم چند سال پیش فوت کرد و در وصیت نامه خود مق...</td>\n",
              "      <td>YduuBH8B7wsuAN6f-Hlu</td>\n",
              "      <td>پدرم چند سال پیش فوت کرد و در وصیت نامه خود مق...</td>\n",
              "      <td>209</td>\n",
              "      <td>80</td>\n",
              "    </tr>\n",
              "    <tr>\n",
              "      <th>87</th>\n",
              "      <td>38512</td>\n",
              "      <td>38512</td>\n",
              "      <td>پدرم چند سال پیش فوت کرد و در وصیت نامه خود مق...</td>\n",
              "      <td>odtkBX8B7wsuAN6fI6Qp</td>\n",
              "      <td>پدرم چند سال پیش فوت کرد و در وصیت نامه خود مق...</td>\n",
              "      <td>209</td>\n",
              "      <td>87</td>\n",
              "    </tr>\n",
              "  </tbody>\n",
              "</table>\n",
              "</div>\n",
              "      <button class=\"colab-df-convert\" onclick=\"convertToInteractive('df-db02e51b-82c6-4e3c-bee7-ca6c08df5288')\"\n",
              "              title=\"Convert this dataframe to an interactive table.\"\n",
              "              style=\"display:none;\">\n",
              "        \n",
              "  <svg xmlns=\"http://www.w3.org/2000/svg\" height=\"24px\"viewBox=\"0 0 24 24\"\n",
              "       width=\"24px\">\n",
              "    <path d=\"M0 0h24v24H0V0z\" fill=\"none\"/>\n",
              "    <path d=\"M18.56 5.44l.94 2.06.94-2.06 2.06-.94-2.06-.94-.94-2.06-.94 2.06-2.06.94zm-11 1L8.5 8.5l.94-2.06 2.06-.94-2.06-.94L8.5 2.5l-.94 2.06-2.06.94zm10 10l.94 2.06.94-2.06 2.06-.94-2.06-.94-.94-2.06-.94 2.06-2.06.94z\"/><path d=\"M17.41 7.96l-1.37-1.37c-.4-.4-.92-.59-1.43-.59-.52 0-1.04.2-1.43.59L10.3 9.45l-7.72 7.72c-.78.78-.78 2.05 0 2.83L4 21.41c.39.39.9.59 1.41.59.51 0 1.02-.2 1.41-.59l7.78-7.78 2.81-2.81c.8-.78.8-2.07 0-2.86zM5.41 20L4 18.59l7.72-7.72 1.47 1.35L5.41 20z\"/>\n",
              "  </svg>\n",
              "      </button>\n",
              "      \n",
              "  <style>\n",
              "    .colab-df-container {\n",
              "      display:flex;\n",
              "      flex-wrap:wrap;\n",
              "      gap: 12px;\n",
              "    }\n",
              "\n",
              "    .colab-df-convert {\n",
              "      background-color: #E8F0FE;\n",
              "      border: none;\n",
              "      border-radius: 50%;\n",
              "      cursor: pointer;\n",
              "      display: none;\n",
              "      fill: #1967D2;\n",
              "      height: 32px;\n",
              "      padding: 0 0 0 0;\n",
              "      width: 32px;\n",
              "    }\n",
              "\n",
              "    .colab-df-convert:hover {\n",
              "      background-color: #E2EBFA;\n",
              "      box-shadow: 0px 1px 2px rgba(60, 64, 67, 0.3), 0px 1px 3px 1px rgba(60, 64, 67, 0.15);\n",
              "      fill: #174EA6;\n",
              "    }\n",
              "\n",
              "    [theme=dark] .colab-df-convert {\n",
              "      background-color: #3B4455;\n",
              "      fill: #D2E3FC;\n",
              "    }\n",
              "\n",
              "    [theme=dark] .colab-df-convert:hover {\n",
              "      background-color: #434B5C;\n",
              "      box-shadow: 0px 1px 3px 1px rgba(0, 0, 0, 0.15);\n",
              "      filter: drop-shadow(0px 1px 2px rgba(0, 0, 0, 0.3));\n",
              "      fill: #FFFFFF;\n",
              "    }\n",
              "  </style>\n",
              "\n",
              "      <script>\n",
              "        const buttonEl =\n",
              "          document.querySelector('#df-db02e51b-82c6-4e3c-bee7-ca6c08df5288 button.colab-df-convert');\n",
              "        buttonEl.style.display =\n",
              "          google.colab.kernel.accessAllowed ? 'block' : 'none';\n",
              "\n",
              "        async function convertToInteractive(key) {\n",
              "          const element = document.querySelector('#df-db02e51b-82c6-4e3c-bee7-ca6c08df5288');\n",
              "          const dataTable =\n",
              "            await google.colab.kernel.invokeFunction('convertToInteractive',\n",
              "                                                     [key], {});\n",
              "          if (!dataTable) return;\n",
              "\n",
              "          const docLinkHtml = 'Like what you see? Visit the ' +\n",
              "            '<a target=\"_blank\" href=https://colab.research.google.com/notebooks/data_table.ipynb>data table notebook</a>'\n",
              "            + ' to learn more about interactive tables.';\n",
              "          element.innerHTML = '';\n",
              "          dataTable['output_type'] = 'display_data';\n",
              "          await google.colab.output.renderOutput(dataTable, element);\n",
              "          const docLink = document.createElement('div');\n",
              "          docLink.innerHTML = docLinkHtml;\n",
              "          element.appendChild(docLink);\n",
              "        }\n",
              "      </script>\n",
              "    </div>\n",
              "  </div>\n",
              "  "
            ],
            "text/plain": [
              "    Unnamed: 0  original_index  \\\n",
              "46       27911           27911   \n",
              "80       35949           35949   \n",
              "87       38512           38512   \n",
              "\n",
              "                                                  q&a               q_fa_id  \\\n",
              "46  پدرم چند سال پیش فوت کرد و در وصیت نامه خود مق...  YNoiA38B7wsuAN6fbsJx   \n",
              "80  پدرم چند سال پیش فوت کرد و در وصیت نامه خود مق...  YduuBH8B7wsuAN6f-Hlu   \n",
              "87  پدرم چند سال پیش فوت کرد و در وصیت نامه خود مق...  odtkBX8B7wsuAN6fI6Qp   \n",
              "\n",
              "                                             question  clusters  row_num  \n",
              "46  پدرم چند سال پیش فوت کرد و در وصیت نامه خود مق...       209       46  \n",
              "80  پدرم چند سال پیش فوت کرد و در وصیت نامه خود مق...       209       80  \n",
              "87  پدرم چند سال پیش فوت کرد و در وصیت نامه خود مق...       209       87  "
            ]
          },
          "metadata": {},
          "execution_count": 28
        }
      ]
    },
    {
      "cell_type": "code",
      "source": [
        "def get_title_from_index(index):\n",
        "    return df[df.index == index][\"question\"].values[0]\n",
        "result=[]\n",
        "i=0\n",
        "for movie in sorted_similar_questions:\n",
        "    q=get_title_from_index(movie[0])\n",
        "    print(q)\n",
        "    result.append(q)\n",
        "\n",
        "    i=i+1\n",
        "    if i>15:\n",
        "        break\n"
      ],
      "metadata": {
        "colab": {
          "base_uri": "https://localhost:8080/"
        },
        "id": "bWAr-U6WZG-S",
        "outputId": "e2f65971-1d0e-46c0-e409-423a61cb53e3"
      },
      "execution_count": null,
      "outputs": [
        {
          "output_type": "stream",
          "name": "stdout",
          "text": [
            "پدرم زمینی را به همسر اولش هبه کرد و پس از فوت او این زمین را به نام من سند زد که از همسر دوم ایشان می باشم. آیا این عمل مشکل شرعی دارد؟  \n",
            "پدرم درباره مصرف یک سوم از اموالش وصیتی داشت و مادرم می‌گوید من وصی پدر هستم، آیا من می‌توانم سهم خود را از ثلث مطالبه کرده و با تشخیص خود صرف امور خیر کنم؟\n",
            "پدر ما دارای یک قطعه زمین بود که در زمان حیاتش به سه قسمت تقسیم شده بود و با رضایت خودش دو قسمت از آن سه قسمت توسط دو نفر از پسران ایشان ساخته شد که در آن زندگی می کردند.می خواهم بدانم که آیا در تقسیم میراث متوفی ، هر سه قطعه زمین باید محاسبه شود یا فقط همان یک قسمت باقیمانده باید طبق شرع بین دختران و پسران تقسیم شود؟\n",
            "در تصادفی که پدرم راننده و مقصر بود مادرم فوت کرد. دیه‌ای که بیمه خواهد داد به چه کسانی می‌رسد؟\n",
            "پدرم چند سال پیش فوت کرد و در وصیت نامه خود مقدار دو میلیون تومان را جهت تهیه جهیزیه برای هر یک از دخترها در نظر گرفت. اکنون بعد از گذشت 13 سال اقدام به تقسیم اموال شده است؟ آیا  این پول به نرخ امروز در نظر گرفته می‌شود؟\n",
            "پدرم چند سال پیش فوت کرد و در وصیت نامه خود مقدار دو میلیون تومان را جهت تهیه جهیزیه برای هر یک از دخترها در نظر گرفت. اکنون بعد از گذشت 13 سال اقدام به تقسیم اموال شده است؟ آیا  این پول به نرخ امروز در نظر گرفته می‌شود؟\n",
            "پدرم چند سال پیش فوت کرد و در وصیت نامه خود مقدار دو میلیون تومان را جهت تهیه جهیزیه برای هر یک از دخترها در نظر گرفت. اکنون بعد از گذشت 13 سال اقدام به تقسیم اموال شده است؟ آیا  این پول به نرخ امروز در نظر گرفته می‌شود؟\n",
            "من برای کاری، مقداری طلا از خاله‌‌ام قرض گرفتم. روزی که مادرم پول طلا را برای تحویل به خاله‌ام برد. خاله‌‌ام قبول نکرد و گفت با این مبلغ نمی‌‌توان آن طلایی که داشتم را خریداری کرد. آیا باید قیمت امروز طلا را به او بر گردانیم؟\n",
            "پدرم کنتور برق را دست‌کاری می‌کند، آیا استفاده ما از برق منزل حرام است؟\n",
            "ما سرایدار هستیم و در مدرسه زندگی می‌کنیم مدتی پیش یکی از مدیران خواستار رفتن ما شد ولی پدرم زیر بار نرفت. حال، از نظر شرع ماندن ما در آنجا چه حکمی دارد؟\n",
            "یک مغازه و دو دانگ خانه و ده میلیون تومان از پدرم به من ارث رسیده است. مغازه را کرایه داده‌ام. آیا مغازه یا کرایه‌ی آن خمس دارد؟ آیا اموالی که پدرم برایم خریده هم خمس دارند؟\n",
            "اگر پولی از پدرم را بدون اجازه او در بانک گذاشته و سودی دریافت کنم، آیا می‌توانم از آن سود استفاده نمایم؟ \n",
            "بنده از طرف دانشگاه مأمور شدم تا کارت هدیه‌هایی را به دانشجویان تحویل دهم، اما بعد از مدتی متوجه شدم تعدادی از کارتها مفقود شده است. اکنون آیا نسبت به آنها مدیونم؟\n",
            "خودم در منزل متعلق به همسرم سکونت دارم و خانه خودم را برای سکونت به رایگان در اختیار پدر و مادرم قرار دادم. آیا به خانه‌ام خمس تعلق می‌گیرد؟\n",
            "در مغازه‌ای، بدون تعیین حقوق مشغول به کار شدم. در پایان، صاحب کار، خیلی پایین‌تر از آنچه تصور می‌کردم به من دستمزد داد به همین خاطر، گوشی صاحب‌کارم را برداشتم. بعد از مدتی دوباره برای کار پیش همان شخص رفتم و او از موضوع مطلع شد و حقوق چند روزی که کار کرده بودم را نداد. حال تکلیف من چیست؟\n",
            "در مغازه‌ای، بدون تعیین حقوق مشغول به کار شدم. در پایان، صاحب کار، خیلی پایین‌تر از آنچه تصور می‌کردم به من دستمزد داد به همین خاطر، گوشی صاحب‌کارم را برداشتم. بعد از مدتی دوباره برای کار پیش همان شخص رفتم و او از موضوع مطلع شد و حقوق چند روزی که کار کرده بودم را نداد. حال تکلیف من چیست؟\n"
          ]
        }
      ]
    },
    {
      "cell_type": "code",
      "source": [],
      "metadata": {
        "id": "MmOAWMo-uzaH"
      },
      "execution_count": null,
      "outputs": []
    },
    {
      "cell_type": "code",
      "source": [
        "print(result)"
      ],
      "metadata": {
        "colab": {
          "base_uri": "https://localhost:8080/"
        },
        "id": "9q2UaB9nb62l",
        "outputId": "723dbf1f-37b4-4192-e4dd-2db56ae89984"
      },
      "execution_count": null,
      "outputs": [
        {
          "output_type": "stream",
          "name": "stdout",
          "text": [
            "['خمس سهام اهدایی به فرزند در زمان کودکی', 'سهم الارث فرزندی که از کودکی نزد پدر کار کرده', 'قرض ربوی دادن پدر به فرزندان از پول فرزند صغیر ', 'شخصی فوت کرده و سهمی از ارث او به پدرش می\\u200cرسد. پدر با آنکه می\\u200cداند به این اموال خمس تعلق گرفته، سهم خود را به عروس و نوه\\u200cهایش می\\u200cبخشد. آیا اکنون چیزی بر عهده پدر است؟', 'ارث بردن قاضی از پدرش که حکم اعدام او را صادر کرده', 'طلب حلالیت بابت خوردن بدون اجازه میوه دیگران در کودکی', 'دزدی از اموال پدر قبل از بلوغ', 'مسئول پرداخت اقساط وام تحصیلی دختر بعد از ازدواج ', 'حکم تهیّه ی جهیزیه دختر توسط پدر ', 'پس گرفتن باغی که جهت نصف کاری در اختیار فرزند قرار داده شده', 'وصیت به فرزند برای حج و انجام حج توسط فرزند به نیت خود', 'استفاده از منزل پدری با اظهار نارضایتی پدر', 'حق فسخ فرزند نسبت به مالی که پدرش به او هبه کرده و بعد فروخته', 'ارث زن از چاه و قنات', 'کسر مخارج بیماری متوفی از ماترکش ', 'تصرف پدر در مال پسری که به كما رفته براي مخارج بيماري فرزند']\n"
          ]
        }
      ]
    },
    {
      "cell_type": "code",
      "source": [
        "question_user_like = \"خمس سهام اهدایی به فرزند در زمان کودکی\"\n",
        "def get_index_from_title(title):\n",
        "    return df[df. == title][\"index\"].values[0]\n",
        "movie_index = get_index_from_title(movie_user_likes)"
      ],
      "metadata": {
        "id": "b-QG-OPVBZf2"
      },
      "execution_count": null,
      "outputs": []
    },
    {
      "cell_type": "code",
      "source": [
        "final = np.append(final, pooled, axis = 0)"
      ],
      "metadata": {
        "id": "6LwI7cQeCTEh"
      },
      "execution_count": null,
      "outputs": []
    }
  ]
}