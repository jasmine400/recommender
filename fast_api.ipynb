{
  "cells": [
    {
      "cell_type": "markdown",
      "metadata": {
        "id": "view-in-github",
        "colab_type": "text"
      },
      "source": [
        "<a href=\"https://colab.research.google.com/github/jasmine400/recommender/blob/main/fast_api.ipynb\" target=\"_parent\"><img src=\"https://colab.research.google.com/assets/colab-badge.svg\" alt=\"Open In Colab\"/></a>"
      ]
    },
    {
      "cell_type": "code",
      "execution_count": null,
      "metadata": {
        "colab": {
          "base_uri": "https://localhost:8080/"
        },
        "id": "FyhYEkzy2m1l",
        "outputId": "df40bf36-423a-4ef7-9a9f-c335adfbd255"
      },
      "outputs": [
        {
          "output_type": "stream",
          "name": "stdout",
          "text": [
            "Collecting fastapi\n",
            "  Downloading fastapi-0.75.0-py3-none-any.whl (54 kB)\n",
            "\u001b[?25l\r\u001b[K     |██████                          | 10 kB 19.4 MB/s eta 0:00:01\r\u001b[K     |████████████                    | 20 kB 14.8 MB/s eta 0:00:01\r\u001b[K     |██████████████████              | 30 kB 10.9 MB/s eta 0:00:01\r\u001b[K     |████████████████████████        | 40 kB 7.7 MB/s eta 0:00:01\r\u001b[K     |██████████████████████████████  | 51 kB 5.5 MB/s eta 0:00:01\r\u001b[K     |████████████████████████████████| 54 kB 1.7 MB/s \n",
            "\u001b[?25hRequirement already satisfied: nest-asyncio in /usr/local/lib/python3.7/dist-packages (1.5.4)\n",
            "Collecting pyngrok\n",
            "  Downloading pyngrok-5.1.0.tar.gz (745 kB)\n",
            "\u001b[K     |████████████████████████████████| 745 kB 10.7 MB/s \n",
            "\u001b[?25hCollecting uvicorn\n",
            "  Downloading uvicorn-0.17.6-py3-none-any.whl (53 kB)\n",
            "\u001b[K     |████████████████████████████████| 53 kB 1.9 MB/s \n",
            "\u001b[?25hCollecting starlette==0.17.1\n",
            "  Downloading starlette-0.17.1-py3-none-any.whl (58 kB)\n",
            "\u001b[K     |████████████████████████████████| 58 kB 5.5 MB/s \n",
            "\u001b[?25hCollecting pydantic!=1.7,!=1.7.1,!=1.7.2,!=1.7.3,!=1.8,!=1.8.1,<2.0.0,>=1.6.2\n",
            "  Downloading pydantic-1.9.0-cp37-cp37m-manylinux_2_17_x86_64.manylinux2014_x86_64.whl (10.9 MB)\n",
            "\u001b[K     |████████████████████████████████| 10.9 MB 34.3 MB/s \n",
            "\u001b[?25hCollecting anyio<4,>=3.0.0\n",
            "  Downloading anyio-3.5.0-py3-none-any.whl (79 kB)\n",
            "\u001b[K     |████████████████████████████████| 79 kB 7.3 MB/s \n",
            "\u001b[?25hRequirement already satisfied: typing-extensions in /usr/local/lib/python3.7/dist-packages (from starlette==0.17.1->fastapi) (3.10.0.2)\n",
            "Collecting sniffio>=1.1\n",
            "  Downloading sniffio-1.2.0-py3-none-any.whl (10 kB)\n",
            "Requirement already satisfied: idna>=2.8 in /usr/local/lib/python3.7/dist-packages (from anyio<4,>=3.0.0->starlette==0.17.1->fastapi) (2.10)\n",
            "Requirement already satisfied: PyYAML in /usr/local/lib/python3.7/dist-packages (from pyngrok) (3.13)\n",
            "Collecting h11>=0.8\n",
            "  Downloading h11-0.13.0-py3-none-any.whl (58 kB)\n",
            "\u001b[K     |████████████████████████████████| 58 kB 5.8 MB/s \n",
            "\u001b[?25hRequirement already satisfied: click>=7.0 in /usr/local/lib/python3.7/dist-packages (from uvicorn) (7.1.2)\n",
            "Collecting asgiref>=3.4.0\n",
            "  Downloading asgiref-3.5.0-py3-none-any.whl (22 kB)\n",
            "Building wheels for collected packages: pyngrok\n",
            "  Building wheel for pyngrok (setup.py) ... \u001b[?25l\u001b[?25hdone\n",
            "  Created wheel for pyngrok: filename=pyngrok-5.1.0-py3-none-any.whl size=19007 sha256=590a0caaf9c733c549353a67002f151c818d86efd76f661a17c84b90d84cd3bd\n",
            "  Stored in directory: /root/.cache/pip/wheels/bf/e6/af/ccf6598ecefecd44104069371795cb9b3afbcd16987f6ccfb3\n",
            "Successfully built pyngrok\n",
            "Installing collected packages: sniffio, anyio, starlette, pydantic, h11, asgiref, uvicorn, pyngrok, fastapi\n",
            "Successfully installed anyio-3.5.0 asgiref-3.5.0 fastapi-0.75.0 h11-0.13.0 pydantic-1.9.0 pyngrok-5.1.0 sniffio-1.2.0 starlette-0.17.1 uvicorn-0.17.6\n"
          ]
        }
      ],
      "source": [
        "pip install fastapi nest-asyncio pyngrok uvicorn"
      ]
    },
    {
      "cell_type": "markdown",
      "metadata": {
        "id": "cp_OSoqS29kV"
      },
      "source": [
        "#original"
      ]
    },
    {
      "cell_type": "code",
      "execution_count": null,
      "metadata": {
        "colab": {
          "base_uri": "https://localhost:8080/"
        },
        "id": "OTZVEPD63PCE",
        "outputId": "fdf03fe3-cd0e-4181-c7f4-8571a79b7a70"
      },
      "outputs": [
        {
          "output_type": "stream",
          "name": "stdout",
          "text": [
            ""
          ]
        },
        {
          "output_type": "stream",
          "name": "stderr",
          "text": [
            "INFO:     Started server process [60]\n",
            "INFO:     Waiting for application startup.\n",
            "INFO:     Application startup complete.\n",
            "INFO:     Uvicorn running on http://127.0.0.1:8000 (Press CTRL+C to quit)\n"
          ]
        },
        {
          "output_type": "stream",
          "name": "stdout",
          "text": [
            "Public URL: http://3c58-34-136-62-38.ngrok.io\n"
          ]
        },
        {
          "output_type": "stream",
          "name": "stderr",
          "text": [
            "INFO:     Shutting down\n",
            "INFO:     Waiting for application shutdown.\n",
            "INFO:     Application shutdown complete.\n",
            "INFO:     Finished server process [60]\n"
          ]
        }
      ],
      "source": [
        "from fastapi import FastAPI\n",
        "import nest_asyncio\n",
        "from pyngrok import ngrok\n",
        "import uvicorn\n",
        "\n",
        "app = FastAPI()\n",
        "\n",
        "@app.get('/index')\n",
        "async def home():\n",
        "  return \"Hello World\"\n",
        "\n",
        "ngrok_tunnel = ngrok.connect(8000)\n",
        "print('Public URL:', ngrok_tunnel.public_url)\n",
        "nest_asyncio.apply()\n",
        "uvicorn.run(app, port=8000)"
      ]
    },
    {
      "cell_type": "markdown",
      "metadata": {
        "id": "uvUcYyk73Foc"
      },
      "source": [
        "my project dependecies"
      ]
    },
    {
      "cell_type": "code",
      "execution_count": null,
      "metadata": {
        "colab": {
          "base_uri": "https://localhost:8080/"
        },
        "id": "fNF2plWp3KeM",
        "outputId": "3233fd3c-3882-47fc-c9f7-f8031023d51b"
      },
      "outputs": [
        {
          "output_type": "stream",
          "name": "stdout",
          "text": [
            "\u001b[K     |████████████████████████████████| 79 kB 2.8 MB/s \n",
            "\u001b[K     |████████████████████████████████| 3.8 MB 13.2 MB/s \n",
            "\u001b[K     |████████████████████████████████| 1.2 MB 59.2 MB/s \n",
            "\u001b[K     |████████████████████████████████| 67 kB 5.0 MB/s \n",
            "\u001b[K     |████████████████████████████████| 6.5 MB 33.9 MB/s \n",
            "\u001b[K     |████████████████████████████████| 895 kB 58.7 MB/s \n",
            "\u001b[K     |████████████████████████████████| 596 kB 59.0 MB/s \n",
            "\u001b[?25h  Building wheel for sentence-transformers (setup.py) ... \u001b[?25l\u001b[?25hdone\n",
            "  Building wheel for wikipedia-api (setup.py) ... \u001b[?25l\u001b[?25hdone\n",
            "\u001b[K     |████████████████████████████████| 316 kB 5.3 MB/s \n",
            "\u001b[K     |████████████████████████████████| 1.4 MB 53.8 MB/s \n",
            "\u001b[K     |████████████████████████████████| 233 kB 66.1 MB/s \n",
            "\u001b[?25h  Building wheel for nltk (setup.py) ... \u001b[?25l\u001b[?25hdone\n",
            "  Building wheel for libwapiti (setup.py) ... \u001b[?25l\u001b[?25hdone\n",
            "\u001b[K     |████████████████████████████████| 53 kB 1.0 MB/s \n",
            "\u001b[K     |████████████████████████████████| 175 kB 10.8 MB/s \n",
            "\u001b[K     |████████████████████████████████| 235 kB 56.4 MB/s \n",
            "\u001b[?25h  Building wheel for emoji (setup.py) ... \u001b[?25l\u001b[?25hdone\n"
          ]
        }
      ],
      "source": [
        "!pip install -qU sentence-transformers\n",
        "!pip install -qU wikipedia-api\n",
        "!pip install -qU hazm\n",
        "!pip install -qU clean-text[gpl]\n",
        "!pip install -qU emoji"
      ]
    },
    {
      "cell_type": "code",
      "execution_count": null,
      "metadata": {
        "id": "A4HcQfRZ3NW1"
      },
      "outputs": [],
      "source": [
        "!mkdir resources\n",
        "!wget -q \"https://github.com/sobhe/hazm/releases/download/v0.5/resources-0.5.zip\" -P resources\n",
        "!unzip -qq resources/resources-0.5.zip -d resources"
      ]
    },
    {
      "cell_type": "code",
      "execution_count": null,
      "metadata": {
        "colab": {
          "base_uri": "https://localhost:8080/"
        },
        "id": "JYs2xSbU3PyN",
        "outputId": "6e7a7083-d1b4-4a43-8d1b-5cb4dbd668de"
      },
      "outputs": [
        {
          "output_type": "stream",
          "name": "stdout",
          "text": [
            "rm: cannot remove 'preprocessing.py': No such file or directory\n",
            "rm: cannot remove 'utils.py': No such file or directory\n",
            "Cloning into '/content/preproc'...\n",
            "remote: Enumerating objects: 7, done.\u001b[K\n",
            "remote: Total 7 (delta 0), reused 0 (delta 0), pack-reused 7\u001b[K\n",
            "Unpacking objects: 100% (7/7), done.\n"
          ]
        }
      ],
      "source": [
        "!rm -rf /content/4ccae468eb73bf6c4f4de3075ddb5336\n",
        "!rm -rf /content/preproc\n",
        "!rm preprocessing.py utils.py\n",
        "!mkdir -p /content/preproc\n",
        "!git clone https://gist.github.com/4ccae468eb73bf6c4f4de3075ddb5336.git /content/preproc/\n",
        "!mv /content/preproc/* /content/\n",
        "!rm -rf /content/preproc"
      ]
    },
    {
      "cell_type": "code",
      "execution_count": null,
      "metadata": {
        "id": "1vT7C8Dc3SVc"
      },
      "outputs": [],
      "source": [
        "from transformers import BertConfig, BertTokenizer\n",
        "\n",
        "from preprocessing import cleaning\n",
        "from IPython import display\n",
        "\n",
        "import numpy as np\n",
        "import pandas as pd\n",
        "\n",
        "import hazm\n",
        "import requests\n",
        "import time\n",
        "\n",
        "import torch\n",
        "from sentence_transformers import models, SentenceTransformer, util\n",
        "from sklearn.cluster import KMeans\n",
        "\n",
        "import pickle\n",
        "\n",
        "from sklearn.metrics.pairwise import cosine_similarity"
      ]
    },
    {
      "cell_type": "code",
      "execution_count": null,
      "metadata": {
        "id": "KqqNSFbp3Ue0"
      },
      "outputs": [],
      "source": [
        "def rtl_print(outputs, font_size=\"15px\", n_to_br=False):\n",
        "    outputs = outputs if isinstance(outputs, list) else [outputs]\n",
        "    if n_to_br:\n",
        "        outputs = [output.replace('\\n', '<br/>') for output in outputs]\n",
        "\n",
        "    outputs = [f'<p style=\"text-align: right; direction: rtl; margin-right: 10px; font-size: {font_size};\">{output}</p>' for output in outputs]\n",
        "    display.display(display.HTML(' '.join(outputs)))\n",
        "\n",
        "\n",
        "def load_st_model(model_name_or_path):\n",
        "    word_embedding_model = models.Transformer(model_name_or_path)\n",
        "    pooling_model = models.Pooling(\n",
        "        word_embedding_model.get_word_embedding_dimension(),\n",
        "        pooling_mode_mean_tokens=True,\n",
        "        pooling_mode_cls_token=False,\n",
        "        pooling_mode_max_tokens=False)\n",
        "\n",
        "    model = SentenceTransformer(modules=[word_embedding_model, pooling_model])\n",
        "    return model"
      ]
    },
    {
      "cell_type": "code",
      "execution_count": null,
      "metadata": {
        "colab": {
          "base_uri": "https://localhost:8080/",
          "height": 177,
          "referenced_widgets": [
            "e598e2a164d041d9a88c17e89aaa8434",
            "1f236d3f8a8f46918a7d8faf4eb9c4df",
            "f632c05ea63346d2918411d53091dd60",
            "ef0abfca921e4332bc2e11d175d7ca59",
            "2eb8e716f39241e7a551edec89cdcdf4",
            "82cf4b76ed6747c58274fa89fc362307",
            "5b64acc8f91c41e6b9a75548cb7680ef",
            "de9ce36211a7421fb59696fbb61dbc89",
            "c47cbd636ea247bbbdb995ec8aed4073",
            "f1043504585d477fbe63bf7e94b157c7",
            "f42c3bc3874a4fee9995bffddcbc5c03",
            "eee424821bda4998bb47db05b4b56a4a",
            "6b21ab86ed074ee2bb9b94463662ad2d",
            "5295dfcaa542427baca2fb2d0e28f191",
            "ab0828624158430a82fd8eb9852a0906",
            "1c88d0f5d9554a178a6d965252909252",
            "6b70949cca7c4fccbb5773ee2d105ded",
            "0ffd4a7a9a034da3960b7df324af8324",
            "08f72618ead848cf8f0f317e68c44496",
            "9d61c526c84c45fb9fb346451023d698",
            "224412e97d594b92a5c1c02669eef554",
            "f2667df77fab409bbb605082d13d3b9a",
            "93c4a1eef4cd41e7bde6c7793d1746f6",
            "d8e272038b014606b1b0fd9e038b8d02",
            "1a99a35c060f4e6485988febbc5b22b2",
            "f08307e100584eb99077c7a2b8f6f072",
            "b5c12e5a5189432eace40593054a5b32",
            "d202c9c05044418dbca5ae73d4440f7c",
            "444604de41884994921dae82b4a4d600",
            "74cc5da00f814759bcefad84c76bccf8",
            "969fe59531204f1b9286f474eac81d4b",
            "4dc621b930e344ddad8df1c6f20d3e6a",
            "4ad369606825407d852e1c8fa6a978e1",
            "e4144f9000844fdc9d076fd36bd8d957",
            "9f0a16e25c034c1c88bdaab9530d4cce",
            "2e46e611190a478299424e05b62b34e4",
            "505c710a525d4064bbf9d9db9fd79e86",
            "9fc2d3e7cf2d4bcea3d1ebb2d30c89d9",
            "c62d417c7378408d9da32ed1ac9ea41b",
            "26cc6a12b95b423289f130cc06e20bfd",
            "444b0c19009845bd867f6394ca732ce8",
            "ae423476b2a449ab96ea29ee8253ab78",
            "f059052068cd48f381271487776d28c9",
            "e4bf096308f944fb92d32e53d1e8b610",
            "9f8e8374e18c4322a73d69c6159c23c3",
            "4f903a5c760e4874a527c574f53fd300",
            "1d7aa17b15c549b9a35bbfe5e0a044d7",
            "fd589f9e169340d09b6c81b59407abbe",
            "8a9ec05a27e04fe59b1afa6e4bb61e3d",
            "f007290342ba490fbaffc729b5ff361f",
            "b091b227b4ee44b6886c8c22893563b8",
            "1c27cfb8a80f4c24817b5df7c4c48d64",
            "3927c2ac7aa6472abf409a033aa5485e",
            "7c05631e26a74845a80a677af049aa40",
            "90bf41efb08e4b20a651bc90b50ae5bf"
          ]
        },
        "id": "wAlq-b-I3XNU",
        "outputId": "0654f588-4ae1-49b3-a6bb-5670e52cbd8e"
      },
      "outputs": [
        {
          "output_type": "display_data",
          "data": {
            "text/plain": [
              "Downloading:   0%|          | 0.00/519 [00:00<?, ?B/s]"
            ],
            "application/vnd.jupyter.widget-view+json": {
              "version_major": 2,
              "version_minor": 0,
              "model_id": "e598e2a164d041d9a88c17e89aaa8434"
            }
          },
          "metadata": {}
        },
        {
          "output_type": "display_data",
          "data": {
            "text/plain": [
              "Downloading:   0%|          | 0.00/621M [00:00<?, ?B/s]"
            ],
            "application/vnd.jupyter.widget-view+json": {
              "version_major": 2,
              "version_minor": 0,
              "model_id": "eee424821bda4998bb47db05b4b56a4a"
            }
          },
          "metadata": {}
        },
        {
          "output_type": "display_data",
          "data": {
            "text/plain": [
              "Downloading:   0%|          | 0.00/404 [00:00<?, ?B/s]"
            ],
            "application/vnd.jupyter.widget-view+json": {
              "version_major": 2,
              "version_minor": 0,
              "model_id": "93c4a1eef4cd41e7bde6c7793d1746f6"
            }
          },
          "metadata": {}
        },
        {
          "output_type": "display_data",
          "data": {
            "text/plain": [
              "Downloading:   0%|          | 0.00/1.14M [00:00<?, ?B/s]"
            ],
            "application/vnd.jupyter.widget-view+json": {
              "version_major": 2,
              "version_minor": 0,
              "model_id": "e4144f9000844fdc9d076fd36bd8d957"
            }
          },
          "metadata": {}
        },
        {
          "output_type": "display_data",
          "data": {
            "text/plain": [
              "Downloading:   0%|          | 0.00/112 [00:00<?, ?B/s]"
            ],
            "application/vnd.jupyter.widget-view+json": {
              "version_major": 2,
              "version_minor": 0,
              "model_id": "9f8e8374e18c4322a73d69c6159c23c3"
            }
          },
          "metadata": {}
        }
      ],
      "source": [
        "# Load the Sentence-Transformer\n",
        "embedder = load_st_model('m3hrdadfi/bert-fa-base-uncased-wikinli-mean-tokens')"
      ]
    },
    {
      "cell_type": "code",
      "execution_count": null,
      "metadata": {
        "colab": {
          "base_uri": "https://localhost:8080/"
        },
        "id": "LTJ-dFao3Zh_",
        "outputId": "a9512026-b484-48aa-c9e4-797f25f22d6e"
      },
      "outputs": [
        {
          "output_type": "stream",
          "name": "stdout",
          "text": [
            "{\n",
            "  \"_name_or_path\": \"HooshvareLab/bert-fa-base-uncased\",\n",
            "  \"architectures\": [\n",
            "    \"BertModel\"\n",
            "  ],\n",
            "  \"attention_probs_dropout_prob\": 0.1,\n",
            "  \"classifier_dropout\": null,\n",
            "  \"gradient_checkpointing\": false,\n",
            "  \"hidden_act\": \"gelu\",\n",
            "  \"hidden_dropout_prob\": 0.1,\n",
            "  \"hidden_size\": 768,\n",
            "  \"initializer_range\": 0.02,\n",
            "  \"intermediate_size\": 3072,\n",
            "  \"layer_norm_eps\": 1e-12,\n",
            "  \"max_position_embeddings\": 512,\n",
            "  \"model_type\": \"bert\",\n",
            "  \"num_attention_heads\": 12,\n",
            "  \"num_hidden_layers\": 12,\n",
            "  \"pad_token_id\": 0,\n",
            "  \"position_embedding_type\": \"absolute\",\n",
            "  \"transformers_version\": \"4.17.0\",\n",
            "  \"type_vocab_size\": 2,\n",
            "  \"use_cache\": true,\n",
            "  \"vocab_size\": 100000\n",
            "}\n",
            "\n"
          ]
        }
      ],
      "source": [
        "#confif bert model\n",
        "config = BertConfig.from_pretrained(\n",
        "    'm3hrdadfi/bert-fa-base-uncased-wikinli-mean-tokens', **{\n",
        "\n",
        "    })\n",
        "print(config.to_json_string())"
      ]
    },
    {
      "cell_type": "code",
      "execution_count": null,
      "metadata": {
        "colab": {
          "base_uri": "https://localhost:8080/"
        },
        "id": "d_hLkPDi3bUT",
        "outputId": "89fce031-38b3-4fe4-a316-891b3cde793f"
      },
      "outputs": [
        {
          "output_type": "stream",
          "name": "stdout",
          "text": [
            "Mounted at /content/gdrive\n"
          ]
        }
      ],
      "source": [
        "#access google drive\n",
        "from google.colab import drive\n",
        "drive.mount('/content/gdrive')"
      ]
    },
    {
      "cell_type": "code",
      "execution_count": null,
      "metadata": {
        "colab": {
          "base_uri": "https://localhost:8080/"
        },
        "id": "RZqZ-Pv93c8t",
        "outputId": "8a0678d0-1572-44e2-9c2a-90bd3f10004f"
      },
      "outputs": [
        {
          "output_type": "stream",
          "name": "stdout",
          "text": [
            "/content/gdrive/My Drive/parsa_clusters\n",
            "0.csv\t    146.csv\t192.csv     238.csv\t284.csv     5.csv\n",
            "0.pickle    146.pickle\t192.pickle  238.pickle\t284.pickle  5.pickle\n",
            "100.csv     147.csv\t193.csv     239.csv\t285.csv     60.csv\n",
            "100.pickle  147.pickle\t193.pickle  239.pickle\t285.pickle  60.pickle\n",
            "101.csv     148.csv\t194.csv     23.csv\t286.csv     61.csv\n",
            "101.pickle  148.pickle\t194.pickle  23.pickle\t286.pickle  61.pickle\n",
            "102.csv     149.csv\t195.csv     240.csv\t287.csv     62.csv\n",
            "102.pickle  149.pickle\t195.pickle  240.pickle\t287.pickle  62.pickle\n",
            "103.csv     14.csv\t196.csv     241.csv\t288.csv     63.csv\n",
            "103.pickle  14.pickle\t196.pickle  241.pickle\t288.pickle  63.pickle\n",
            "104.csv     150.csv\t197.csv     242.csv\t289.csv     64.csv\n",
            "104.pickle  150.pickle\t197.pickle  242.pickle\t289.pickle  64.pickle\n",
            "105.csv     151.csv\t198.csv     243.csv\t28.csv\t    65.csv\n",
            "105.pickle  151.pickle\t198.pickle  243.pickle\t28.pickle   65.pickle\n",
            "106.csv     152.csv\t199.csv     244.csv\t290.csv     66.csv\n",
            "106.pickle  152.pickle\t199.pickle  244.pickle\t290.pickle  66.pickle\n",
            "107.csv     153.csv\t19.csv\t    245.csv\t291.csv     67.csv\n",
            "107.pickle  153.pickle\t19.pickle   245.pickle\t291.pickle  67.pickle\n",
            "108.csv     154.csv\t1.csv\t    246.csv\t292.csv     68.csv\n",
            "108.pickle  154.pickle\t1.pickle    246.pickle\t292.pickle  68.pickle\n",
            "109.csv     155.csv\t200.csv     247.csv\t293.csv     69.csv\n",
            "109.pickle  155.pickle\t200.pickle  247.pickle\t293.pickle  69.pickle\n",
            "10.csv\t    156.csv\t201.csv     248.csv\t294.csv     6.csv\n",
            "10.pickle   156.pickle\t201.pickle  248.pickle\t294.pickle  6.pickle\n",
            "110.csv     157.csv\t202.csv     249.csv\t295.csv     70.csv\n",
            "110.pickle  157.pickle\t202.pickle  249.pickle\t295.pickle  70.pickle\n",
            "111.csv     158.csv\t203.csv     24.csv\t296.csv     71.csv\n",
            "111.pickle  158.pickle\t203.pickle  24.pickle\t296.pickle  71.pickle\n",
            "112.csv     159.csv\t204.csv     250.csv\t297.csv     72.csv\n",
            "112.pickle  159.pickle\t204.pickle  250.pickle\t297.pickle  72.pickle\n",
            "113.csv     15.csv\t205.csv     251.csv\t298.csv     73.csv\n",
            "113.pickle  15.pickle\t205.pickle  251.pickle\t298.pickle  73.pickle\n",
            "114.csv     160.csv\t206.csv     252.csv\t299.csv     74.csv\n",
            "114.pickle  160.pickle\t206.pickle  252.pickle\t299.pickle  74.pickle\n",
            "115.csv     161.csv\t207.csv     253.csv\t29.csv\t    75.csv\n",
            "115.pickle  161.pickle\t207.pickle  253.pickle\t29.pickle   75.pickle\n",
            "116.csv     162.csv\t208.csv     254.csv\t2.csv\t    76.csv\n",
            "116.pickle  162.pickle\t208.pickle  254.pickle\t2.pickle    76.pickle\n",
            "117.csv     163.csv\t209.csv     255.csv\t30.csv\t    77.csv\n",
            "117.pickle  163.pickle\t209.pickle  255.pickle\t30.pickle   77.pickle\n",
            "118.csv     164.csv\t20.csv\t    256.csv\t31.csv\t    78.csv\n",
            "118.pickle  164.pickle\t20.pickle   256.pickle\t31.pickle   78.pickle\n",
            "119.csv     165.csv\t210.csv     257.csv\t32.csv\t    79.csv\n",
            "119.pickle  165.pickle\t210.pickle  257.pickle\t32.pickle   79.pickle\n",
            "11.csv\t    166.csv\t211.csv     258.csv\t33.csv\t    7.csv\n",
            "11.pickle   166.pickle\t211.pickle  258.pickle\t33.pickle   7.pickle\n",
            "120.csv     167.csv\t212.csv     259.csv\t34.csv\t    80.csv\n",
            "120.pickle  167.pickle\t212.pickle  259.pickle\t34.pickle   80.pickle\n",
            "121.csv     168.csv\t213.csv     25.csv\t35.csv\t    81.csv\n",
            "121.pickle  168.pickle\t213.pickle  25.pickle\t35.pickle   81.pickle\n",
            "122.csv     169.csv\t214.csv     260.csv\t36.csv\t    82.csv\n",
            "122.pickle  169.pickle\t214.pickle  260.pickle\t36.pickle   82.pickle\n",
            "123.csv     16.csv\t215.csv     261.csv\t37.csv\t    83.csv\n",
            "123.pickle  16.pickle\t215.pickle  261.pickle\t37.pickle   83.pickle\n",
            "124.csv     170.csv\t216.csv     262.csv\t38.csv\t    84.csv\n",
            "124.pickle  170.pickle\t216.pickle  262.pickle\t38.pickle   84.pickle\n",
            "125.csv     171.csv\t217.csv     263.csv\t39.csv\t    85.csv\n",
            "125.pickle  171.pickle\t217.pickle  263.pickle\t39.pickle   85.pickle\n",
            "126.csv     172.csv\t218.csv     264.csv\t3.csv\t    86.csv\n",
            "126.pickle  172.pickle\t218.pickle  264.pickle\t3.pickle    86.pickle\n",
            "127.csv     173.csv\t219.csv     265.csv\t40.csv\t    87.csv\n",
            "127.pickle  173.pickle\t219.pickle  265.pickle\t40.pickle   87.pickle\n",
            "128.csv     174.csv\t21.csv\t    266.csv\t41.csv\t    88.csv\n",
            "128.pickle  174.pickle\t21.pickle   266.pickle\t41.pickle   88.pickle\n",
            "129.csv     175.csv\t220.csv     267.csv\t42.csv\t    89.csv\n",
            "129.pickle  175.pickle\t220.pickle  267.pickle\t42.pickle   89.pickle\n",
            "12.csv\t    176.csv\t221.csv     268.csv\t43.csv\t    8.csv\n",
            "12.pickle   176.pickle\t221.pickle  268.pickle\t43.pickle   8.pickle\n",
            "130.csv     177.csv\t222.csv     269.csv\t44.csv\t    90.csv\n",
            "130.pickle  177.pickle\t222.pickle  269.pickle\t44.pickle   90.pickle\n",
            "131.csv     178.csv\t223.csv     26.csv\t45.csv\t    91.csv\n",
            "131.pickle  178.pickle\t223.pickle  26.pickle\t45.pickle   91.pickle\n",
            "132.csv     179.csv\t224.csv     270.csv\t46.csv\t    92.csv\n",
            "132.pickle  179.pickle\t224.pickle  270.pickle\t46.pickle   92.pickle\n",
            "133.csv     17.csv\t225.csv     271.csv\t47.csv\t    93.csv\n",
            "133.pickle  17.pickle\t225.pickle  271.pickle\t47.pickle   93.pickle\n",
            "134.csv     180.csv\t226.csv     272.csv\t48.csv\t    94.csv\n",
            "134.pickle  180.pickle\t226.pickle  272.pickle\t48.pickle   94.pickle\n",
            "135.csv     181.csv\t227.csv     273.csv\t49.csv\t    95.csv\n",
            "135.pickle  181.pickle\t227.pickle  273.pickle\t49.pickle   95.pickle\n",
            "136.csv     182.csv\t228.csv     274.csv\t4.csv\t    96.csv\n",
            "136.pickle  182.pickle\t228.pickle  274.pickle\t4.pickle    96.pickle\n",
            "137.csv     183.csv\t229.csv     275.csv\t50.csv\t    97.csv\n",
            "137.pickle  183.pickle\t229.pickle  275.pickle\t50.pickle   97.pickle\n",
            "138.csv     184.csv\t22.csv\t    276.csv\t51.csv\t    98.csv\n",
            "138.pickle  184.pickle\t22.pickle   276.pickle\t51.pickle   98.pickle\n",
            "139.csv     185.csv\t230.csv     277.csv\t52.csv\t    99.csv\n",
            "139.pickle  185.pickle\t230.pickle  277.pickle\t52.pickle   99.pickle\n",
            "13.csv\t    186.csv\t231.csv     278.csv\t53.csv\t    9.csv\n",
            "13.pickle   186.pickle\t231.pickle  278.pickle\t53.pickle   9.pickle\n",
            "140.csv     187.csv\t232.csv     279.csv\t54.csv\t    centers.pickle\n",
            "140.pickle  187.pickle\t232.pickle  279.pickle\t54.pickle   dataap.json\n",
            "141.csv     188.csv\t233.csv     27.csv\t55.csv\t    data_full.json\n",
            "141.pickle  188.pickle\t233.pickle  27.pickle\t55.pickle   datap.json\n",
            "142.csv     189.csv\t234.csv     280.csv\t56.csv\t    data_tst2.json\n",
            "142.pickle  189.pickle\t234.pickle  280.pickle\t56.pickle   data_tst3.json\n",
            "143.csv     18.csv\t235.csv     281.csv\t57.csv\t    data_tst4.json\n",
            "143.pickle  18.pickle\t235.pickle  281.pickle\t57.pickle   data_tst.json\n",
            "144.csv     190.csv\t236.csv     282.csv\t58.csv\t    embeddings2.json\n",
            "144.pickle  190.pickle\t236.pickle  282.pickle\t58.pickle   embeddings.json\n",
            "145.csv     191.csv\t237.csv     283.csv\t59.csv\t    resources\n",
            "145.pickle  191.pickle\t237.pickle  283.pickle\t59.pickle   Untitled0.ipynb\n"
          ]
        }
      ],
      "source": [
        "#access google drive\n",
        "%cd /content/gdrive/My\\ Drive/parsa_clusters\n",
        "!ls"
      ]
    },
    {
      "cell_type": "markdown",
      "source": [
        "tst"
      ],
      "metadata": {
        "id": "gCafqKkTe7Ph"
      }
    },
    {
      "cell_type": "code",
      "source": [
        "import pandas as pd\n",
        "import pickle\n",
        "from sklearn.metrics.pairwise import cosine_similarity"
      ],
      "metadata": {
        "id": "SQGQyZ7qfUW5"
      },
      "execution_count": null,
      "outputs": []
    },
    {
      "cell_type": "code",
      "source": [
        "cluster_df = pd.read_csv('1.csv')\n",
        "\n",
        "pickle_in=open('1.pickle','rb')\n",
        "u=pickle.load(pickle_in)\n"
      ],
      "metadata": {
        "id": "XHXSfbF5e-jE"
      },
      "execution_count": null,
      "outputs": []
    },
    {
      "cell_type": "code",
      "source": [
        "print(u.shape)"
      ],
      "metadata": {
        "colab": {
          "base_uri": "https://localhost:8080/"
        },
        "id": "w3t3rx1Z987P",
        "outputId": "c0142392-017b-4d34-e15d-215fc88d673a"
      },
      "execution_count": null,
      "outputs": [
        {
          "output_type": "stream",
          "name": "stdout",
          "text": [
            "(188, 768)\n"
          ]
        }
      ]
    },
    {
      "cell_type": "code",
      "source": [
        "print(u)"
      ],
      "metadata": {
        "colab": {
          "base_uri": "https://localhost:8080/"
        },
        "id": "UFr4nKVR-Uj5",
        "outputId": "3814b843-5638-4cdb-8540-17bcf9fc3784"
      },
      "execution_count": null,
      "outputs": [
        {
          "output_type": "stream",
          "name": "stdout",
          "text": [
            "[[ 0.6189978  -0.32952324 -0.01990263 ... -0.39831793  1.0608387\n",
            "  -0.38568023]\n",
            " [ 0.85631394 -0.23119487 -0.51203614 ... -0.5004511   0.17760974\n",
            "   0.24035123]\n",
            " [ 0.6441729  -0.22126265 -0.488949   ... -0.23501642  0.12912978\n",
            "  -0.15014878]\n",
            " ...\n",
            " [ 0.9066231  -0.03476292 -0.29325193 ... -0.80109084  0.4444599\n",
            "  -0.1849869 ]\n",
            " [ 1.0431176  -0.3142238  -0.50786656 ... -0.54357123  0.41409647\n",
            "  -0.4164911 ]\n",
            " [ 0.74692315 -0.24940388  0.12288848 ...  0.09648114  0.589434\n",
            "   0.0979811 ]]\n"
          ]
        }
      ]
    },
    {
      "cell_type": "code",
      "source": [
        "print(len(u))\n",
        "print(len(cluster_df))"
      ],
      "metadata": {
        "colab": {
          "base_uri": "https://localhost:8080/"
        },
        "id": "W2HisiO_gdTH",
        "outputId": "4de6fc38-8ede-4cc9-89c7-e7d7a1446496"
      },
      "execution_count": null,
      "outputs": [
        {
          "output_type": "stream",
          "name": "stdout",
          "text": [
            "188\n",
            "188\n"
          ]
        }
      ]
    },
    {
      "cell_type": "code",
      "source": [
        "cosine_sim = cosine_similarity(u)\n",
        "question_index=len(cluster_df)-1\n",
        "similar_questions = list(enumerate(cosine_sim[question_index]))"
      ],
      "metadata": {
        "id": "c0v3CukVf0Oe"
      },
      "execution_count": null,
      "outputs": []
    },
    {
      "cell_type": "code",
      "source": [
        "sorted_similar_questions = sorted(similar_questions, key=lambda x:x[1], reverse=True)\n",
        "# sorted_similar_questions.pop(0)\n",
        "print(type(sorted_similar_questions[0]))\n",
        "if sorted_similar_questions[2][0]==187:\n",
        "  sel= sorted_similar_questions[2]\n",
        "  sorted_similar_questions.remove(sel)\n",
        "print(sorted_similar_questions)"
      ],
      "metadata": {
        "colab": {
          "base_uri": "https://localhost:8080/"
        },
        "id": "AlGD5V5xgP3Q",
        "outputId": "64153c86-28e8-4a0a-c9ad-3c8aa7018f8b"
      },
      "execution_count": null,
      "outputs": [
        {
          "output_type": "stream",
          "name": "stdout",
          "text": [
            "<class 'tuple'>\n",
            "[(63, 0.99999964), (164, 0.99999964), (31, 0.90641135), (123, 0.90641135), (151, 0.90641135), (91, 0.8937838), (113, 0.8937838), (173, 0.8937838), (51, 0.892116), (146, 0.892116), (82, 0.88894266), (140, 0.88894266), (16, 0.87561524), (111, 0.87561524), (115, 0.87561524), (5, 0.87441325), (34, 0.8702492), (122, 0.8702492), (137, 0.8702492), (28, 0.8619315), (54, 0.8619315), (77, 0.8619315), (30, 0.86164427), (121, 0.86164427), (75, 0.8575958), (8, 0.8554299), (139, 0.8554299), (182, 0.8554299), (24, 0.85349596), (74, 0.85349596), (102, 0.85349596), (38, 0.85247755), (129, 0.85247755), (131, 0.85247755), (56, 0.84964734), (98, 0.84964734), (27, 0.8495891), (100, 0.8495891), (168, 0.8495891), (68, 0.8487197), (23, 0.8485813), (104, 0.8485813), (169, 0.8485813), (89, 0.84811497), (92, 0.84811497), (144, 0.84811497), (35, 0.84453857), (107, 0.84453857), (170, 0.84453857), (48, 0.8438397), (61, 0.8424947), (152, 0.8424947), (184, 0.8424947), (32, 0.84034246), (132, 0.84034246), (179, 0.84034246), (40, 0.83868873), (124, 0.83868873), (177, 0.83868873), (25, 0.8374976), (116, 0.8374976), (2, 0.8326838), (72, 0.8326838), (101, 0.8326838), (1, 0.8294165), (128, 0.8294165), (153, 0.8294165), (15, 0.8274692), (114, 0.8274692), (174, 0.8274692), (96, 0.82574594), (117, 0.82574594), (175, 0.82574594), (43, 0.82569885), (47, 0.8248548), (44, 0.8242904), (142, 0.8242904), (65, 0.8234805), (29, 0.8217224), (118, 0.8217224), (176, 0.8217224), (17, 0.8215275), (160, 0.8215275), (36, 0.8196049), (125, 0.8196049), (148, 0.8196049), (57, 0.8172213), (67, 0.8172108), (110, 0.8172108), (20, 0.8166387), (71, 0.81638813), (112, 0.81638813), (172, 0.81638813), (64, 0.81580585), (6, 0.81562936), (161, 0.81562936), (186, 0.81562936), (12, 0.81328076), (94, 0.81328076), (166, 0.81328076), (50, 0.80780053), (81, 0.80780053), (135, 0.80780053), (62, 0.8052014), (76, 0.80502856), (147, 0.80502856), (3, 0.80408955), (158, 0.80408955), (165, 0.80408955), (19, 0.8040167), (149, 0.8040167), (79, 0.8027393), (97, 0.8022852), (145, 0.8022852), (167, 0.8022852), (9, 0.8019992), (46, 0.8003778), (4, 0.79604745), (52, 0.7952603), (106, 0.79420733), (93, 0.79412544), (157, 0.79412544), (185, 0.79412544), (26, 0.7928629), (141, 0.7928629), (22, 0.78986156), (99, 0.78986156), (103, 0.78986156), (11, 0.7880248), (85, 0.7880248), (163, 0.7880248), (87, 0.78725654), (53, 0.7857278), (80, 0.7857278), (150, 0.7857278), (42, 0.78322494), (133, 0.78322494), (180, 0.78322494), (39, 0.7828036), (88, 0.78217), (136, 0.78217), (181, 0.78217), (49, 0.7809775), (86, 0.7777946), (120, 0.7777946), (154, 0.7777946), (84, 0.7739141), (138, 0.7739141), (178, 0.7739141), (73, 0.7737428), (155, 0.7737428), (18, 0.77122426), (78, 0.77122426), (159, 0.77122426), (37, 0.77117515), (109, 0.77117515), (171, 0.77117515), (66, 0.77073896), (105, 0.77073896), (134, 0.77073896), (14, 0.7665986), (108, 0.7665986), (130, 0.7665986), (45, 0.76043916), (126, 0.76043916), (21, 0.75865465), (59, 0.75722194), (83, 0.75722194), (162, 0.75722194), (55, 0.75127816), (41, 0.7506653), (143, 0.7506653), (183, 0.7506653), (0, 0.750448), (13, 0.74614835), (58, 0.74614835), (95, 0.74614835), (33, 0.74409926), (69, 0.74409926), (156, 0.74409926), (10, 0.7437904), (7, 0.7415263), (70, 0.7415263), (127, 0.7415263), (60, 0.72349954), (90, 0.72349954), (119, 0.72349954)]\n"
          ]
        }
      ]
    },
    {
      "cell_type": "code",
      "source": [
        "cluster_df.head()"
      ],
      "metadata": {
        "colab": {
          "base_uri": "https://localhost:8080/",
          "height": 250
        },
        "id": "3NZvSkB2j3Zl",
        "outputId": "a7d9954d-06c5-442e-9693-dc0bf196e75c"
      },
      "execution_count": null,
      "outputs": [
        {
          "output_type": "execute_result",
          "data": {
            "text/plain": [
              "   Unnamed: 0  original_index  \\\n",
              "0        2181            2181   \n",
              "1        2349            2349   \n",
              "2        2424            2424   \n",
              "3        2459            2459   \n",
              "4        5595            5595   \n",
              "\n",
              "                                                 q&a               q_fa_id  \\\n",
              "0  در مورد ارزش کشته‌شدن عمرو بن عبدود توسط امام ...  _9k9An8B7wsuAN6fydoH   \n",
              "1  حسن بن علی بن ابی حمزه بطائنی کیست؟,\\r\\tپاسخ ب...  GNlDAn8B7wsuAN6fOuT8   \n",
              "2  تاریخ عقد و ازدواج حضرت علی(ع) و فاطمه زهرا(س)...  D9lFAn8B7wsuAN6fD-bO   \n",
              "3  چرا پیامبر اکرم(ص) از برشمردن انساب خویش قبل ا...  ntlFAn8B7wsuAN6fzOZV   \n",
              "4  نگذاشتن اسم پیامبر صلی الله علیه و آله و سلم ب...  8tkNAn8B7wsuAN6fgIO_   \n",
              "\n",
              "                                            question  clusters  row_num  \n",
              "0  در مورد ارزش کشته‌شدن عمرو بن عبدود توسط امام ...         1        0  \n",
              "1                حسن بن علی بن ابی حمزه بطائنی کیست؟         1        1  \n",
              "2  تاریخ عقد و ازدواج حضرت علی(ع) و فاطمه زهرا(س)...         1        2  \n",
              "3  چرا پیامبر اکرم(ص) از برشمردن انساب خویش قبل ا...         1        3  \n",
              "4  نگذاشتن اسم پیامبر صلی الله علیه و آله و سلم ب...         1        4  "
            ],
            "text/html": [
              "\n",
              "  <div id=\"df-6b90b94d-0fcb-4e29-9e74-f4245adf809a\">\n",
              "    <div class=\"colab-df-container\">\n",
              "      <div>\n",
              "<style scoped>\n",
              "    .dataframe tbody tr th:only-of-type {\n",
              "        vertical-align: middle;\n",
              "    }\n",
              "\n",
              "    .dataframe tbody tr th {\n",
              "        vertical-align: top;\n",
              "    }\n",
              "\n",
              "    .dataframe thead th {\n",
              "        text-align: right;\n",
              "    }\n",
              "</style>\n",
              "<table border=\"1\" class=\"dataframe\">\n",
              "  <thead>\n",
              "    <tr style=\"text-align: right;\">\n",
              "      <th></th>\n",
              "      <th>Unnamed: 0</th>\n",
              "      <th>original_index</th>\n",
              "      <th>q&amp;a</th>\n",
              "      <th>q_fa_id</th>\n",
              "      <th>question</th>\n",
              "      <th>clusters</th>\n",
              "      <th>row_num</th>\n",
              "    </tr>\n",
              "  </thead>\n",
              "  <tbody>\n",
              "    <tr>\n",
              "      <th>0</th>\n",
              "      <td>2181</td>\n",
              "      <td>2181</td>\n",
              "      <td>در مورد ارزش کشته‌شدن عمرو بن عبدود توسط امام ...</td>\n",
              "      <td>_9k9An8B7wsuAN6fydoH</td>\n",
              "      <td>در مورد ارزش کشته‌شدن عمرو بن عبدود توسط امام ...</td>\n",
              "      <td>1</td>\n",
              "      <td>0</td>\n",
              "    </tr>\n",
              "    <tr>\n",
              "      <th>1</th>\n",
              "      <td>2349</td>\n",
              "      <td>2349</td>\n",
              "      <td>حسن بن علی بن ابی حمزه بطائنی کیست؟,\\r\\tپاسخ ب...</td>\n",
              "      <td>GNlDAn8B7wsuAN6fOuT8</td>\n",
              "      <td>حسن بن علی بن ابی حمزه بطائنی کیست؟</td>\n",
              "      <td>1</td>\n",
              "      <td>1</td>\n",
              "    </tr>\n",
              "    <tr>\n",
              "      <th>2</th>\n",
              "      <td>2424</td>\n",
              "      <td>2424</td>\n",
              "      <td>تاریخ عقد و ازدواج حضرت علی(ع) و فاطمه زهرا(س)...</td>\n",
              "      <td>D9lFAn8B7wsuAN6fD-bO</td>\n",
              "      <td>تاریخ عقد و ازدواج حضرت علی(ع) و فاطمه زهرا(س)...</td>\n",
              "      <td>1</td>\n",
              "      <td>2</td>\n",
              "    </tr>\n",
              "    <tr>\n",
              "      <th>3</th>\n",
              "      <td>2459</td>\n",
              "      <td>2459</td>\n",
              "      <td>چرا پیامبر اکرم(ص) از برشمردن انساب خویش قبل ا...</td>\n",
              "      <td>ntlFAn8B7wsuAN6fzOZV</td>\n",
              "      <td>چرا پیامبر اکرم(ص) از برشمردن انساب خویش قبل ا...</td>\n",
              "      <td>1</td>\n",
              "      <td>3</td>\n",
              "    </tr>\n",
              "    <tr>\n",
              "      <th>4</th>\n",
              "      <td>5595</td>\n",
              "      <td>5595</td>\n",
              "      <td>نگذاشتن اسم پیامبر صلی الله علیه و آله و سلم ب...</td>\n",
              "      <td>8tkNAn8B7wsuAN6fgIO_</td>\n",
              "      <td>نگذاشتن اسم پیامبر صلی الله علیه و آله و سلم ب...</td>\n",
              "      <td>1</td>\n",
              "      <td>4</td>\n",
              "    </tr>\n",
              "  </tbody>\n",
              "</table>\n",
              "</div>\n",
              "      <button class=\"colab-df-convert\" onclick=\"convertToInteractive('df-6b90b94d-0fcb-4e29-9e74-f4245adf809a')\"\n",
              "              title=\"Convert this dataframe to an interactive table.\"\n",
              "              style=\"display:none;\">\n",
              "        \n",
              "  <svg xmlns=\"http://www.w3.org/2000/svg\" height=\"24px\"viewBox=\"0 0 24 24\"\n",
              "       width=\"24px\">\n",
              "    <path d=\"M0 0h24v24H0V0z\" fill=\"none\"/>\n",
              "    <path d=\"M18.56 5.44l.94 2.06.94-2.06 2.06-.94-2.06-.94-.94-2.06-.94 2.06-2.06.94zm-11 1L8.5 8.5l.94-2.06 2.06-.94-2.06-.94L8.5 2.5l-.94 2.06-2.06.94zm10 10l.94 2.06.94-2.06 2.06-.94-2.06-.94-.94-2.06-.94 2.06-2.06.94z\"/><path d=\"M17.41 7.96l-1.37-1.37c-.4-.4-.92-.59-1.43-.59-.52 0-1.04.2-1.43.59L10.3 9.45l-7.72 7.72c-.78.78-.78 2.05 0 2.83L4 21.41c.39.39.9.59 1.41.59.51 0 1.02-.2 1.41-.59l7.78-7.78 2.81-2.81c.8-.78.8-2.07 0-2.86zM5.41 20L4 18.59l7.72-7.72 1.47 1.35L5.41 20z\"/>\n",
              "  </svg>\n",
              "      </button>\n",
              "      \n",
              "  <style>\n",
              "    .colab-df-container {\n",
              "      display:flex;\n",
              "      flex-wrap:wrap;\n",
              "      gap: 12px;\n",
              "    }\n",
              "\n",
              "    .colab-df-convert {\n",
              "      background-color: #E8F0FE;\n",
              "      border: none;\n",
              "      border-radius: 50%;\n",
              "      cursor: pointer;\n",
              "      display: none;\n",
              "      fill: #1967D2;\n",
              "      height: 32px;\n",
              "      padding: 0 0 0 0;\n",
              "      width: 32px;\n",
              "    }\n",
              "\n",
              "    .colab-df-convert:hover {\n",
              "      background-color: #E2EBFA;\n",
              "      box-shadow: 0px 1px 2px rgba(60, 64, 67, 0.3), 0px 1px 3px 1px rgba(60, 64, 67, 0.15);\n",
              "      fill: #174EA6;\n",
              "    }\n",
              "\n",
              "    [theme=dark] .colab-df-convert {\n",
              "      background-color: #3B4455;\n",
              "      fill: #D2E3FC;\n",
              "    }\n",
              "\n",
              "    [theme=dark] .colab-df-convert:hover {\n",
              "      background-color: #434B5C;\n",
              "      box-shadow: 0px 1px 3px 1px rgba(0, 0, 0, 0.15);\n",
              "      filter: drop-shadow(0px 1px 2px rgba(0, 0, 0, 0.3));\n",
              "      fill: #FFFFFF;\n",
              "    }\n",
              "  </style>\n",
              "\n",
              "      <script>\n",
              "        const buttonEl =\n",
              "          document.querySelector('#df-6b90b94d-0fcb-4e29-9e74-f4245adf809a button.colab-df-convert');\n",
              "        buttonEl.style.display =\n",
              "          google.colab.kernel.accessAllowed ? 'block' : 'none';\n",
              "\n",
              "        async function convertToInteractive(key) {\n",
              "          const element = document.querySelector('#df-6b90b94d-0fcb-4e29-9e74-f4245adf809a');\n",
              "          const dataTable =\n",
              "            await google.colab.kernel.invokeFunction('convertToInteractive',\n",
              "                                                     [key], {});\n",
              "          if (!dataTable) return;\n",
              "\n",
              "          const docLinkHtml = 'Like what you see? Visit the ' +\n",
              "            '<a target=\"_blank\" href=https://colab.research.google.com/notebooks/data_table.ipynb>data table notebook</a>'\n",
              "            + ' to learn more about interactive tables.';\n",
              "          element.innerHTML = '';\n",
              "          dataTable['output_type'] = 'display_data';\n",
              "          await google.colab.output.renderOutput(dataTable, element);\n",
              "          const docLink = document.createElement('div');\n",
              "          docLink.innerHTML = docLinkHtml;\n",
              "          element.appendChild(docLink);\n",
              "        }\n",
              "      </script>\n",
              "    </div>\n",
              "  </div>\n",
              "  "
            ]
          },
          "metadata": {},
          "execution_count": 18
        }
      ]
    },
    {
      "cell_type": "code",
      "source": [
        "cluster_df['row_num']"
      ],
      "metadata": {
        "colab": {
          "base_uri": "https://localhost:8080/"
        },
        "id": "NH69sU1XkJRy",
        "outputId": "303c7427-61bb-4776-8813-dec4d92c08ce"
      },
      "execution_count": null,
      "outputs": [
        {
          "output_type": "execute_result",
          "data": {
            "text/plain": [
              "0        0\n",
              "1        1\n",
              "2        2\n",
              "3        3\n",
              "4        4\n",
              "      ... \n",
              "183    183\n",
              "184    184\n",
              "185    185\n",
              "186    186\n",
              "187    187\n",
              "Name: row_num, Length: 188, dtype: int64"
            ]
          },
          "metadata": {},
          "execution_count": 20
        }
      ]
    },
    {
      "cell_type": "markdown",
      "source": [
        "tst"
      ],
      "metadata": {
        "id": "-1Av_I11e8RL"
      }
    },
    {
      "cell_type": "code",
      "execution_count": null,
      "metadata": {
        "id": "_p8VtIw23fb8"
      },
      "outputs": [],
      "source": [
        "def corpus_embedding(corpus):\n",
        "  corpus_embeddings = embedder.encode(corpus, show_progress_bar=True)\n",
        "  return corpus_embeddings"
      ]
    },
    {
      "cell_type": "code",
      "execution_count": null,
      "metadata": {
        "id": "I068HsU63hcV"
      },
      "outputs": [],
      "source": [
        "#find similar centroids of clusters to full question but for now only one cluster(the most similar one)\n",
        "#first find Euclidean distance of input to centroids using NumPy then return index of the min distance as a cluster\n",
        "def find_full_question_clusters(full_question_embedding):\n",
        "  pickle_in=open('centers.pickle','rb')\n",
        "  centroid=pickle.load(pickle_in)\n",
        "  mini=[]\n",
        "  for i in centroid:\n",
        "    dist = np.linalg.norm(i - full_question_embedding)\n",
        "    mini.append(dist)\n",
        "  cl=min(mini)\n",
        "  cluster=mini.index(cl)\n",
        "  return cluster\n",
        ""
      ]
    },
    {
      "cell_type": "code",
      "execution_count": null,
      "metadata": {
        "id": "5IDoHtKG3i9d"
      },
      "outputs": [],
      "source": [
        "def get_title_from_index(index,df):\n",
        "    return df[df.index == index][\"question\"].values[0]"
      ]
    },
    {
      "cell_type": "code",
      "execution_count": null,
      "metadata": {
        "id": "Df4OnQ-x3ljD"
      },
      "outputs": [],
      "source": [
        "#find most similar question in similar clusters but for now find for only one cluster\n",
        "def find_most_similar_question_in_cluster(cluster_id,full_question_embedding):\n",
        "  name=str(cluster_id)\n",
        "  cluster_df = pd.read_csv('{}.csv'.format(name))\n",
        "\n",
        "  pickle_in=open('{}.pickle'.format(name),'rb')\n",
        "  u=pickle.load(pickle_in)\n",
        "  u = np.append(u, full_question_embedding, axis = 0)\n",
        "  cosine_sim = cosine_similarity(u)\n",
        "  question_index=len(cluster_df)\n",
        "  similar_questions = list(enumerate(cosine_sim[question_index]))\n",
        "  sorted_similar_questions = sorted(similar_questions, key=lambda x:x[1], reverse=True)\n",
        "  sorted_similar_questions.pop(0)\n",
        "  result=[]\n",
        "  i=0\n",
        "  for question in sorted_similar_questions:\n",
        "    q=get_title_from_index(question[0],cluster_df)\n",
        "    print(q)\n",
        "\n",
        "    result.append(q)\n",
        "\n",
        "    i=i+1\n",
        "    if i>15:\n",
        "        break\n",
        "  uniq = list(set(result))\n",
        "  return uniq"
      ]
    },
    {
      "cell_type": "code",
      "execution_count": null,
      "metadata": {
        "id": "ol1yTeCr3ogl"
      },
      "outputs": [],
      "source": [
        "def recommended_questions(full_question_str):\n",
        "  full_question=[]\n",
        "  full_question.append(full_question_str)\n",
        "  embedding=corpus_embedding(full_question)\n",
        "  cluster_of_input_question=find_full_question_clusters(embedding)\n",
        "  recommended_list=find_most_similar_question_in_cluster(cluster_of_input_question,embedding)\n",
        "  listToStr = ' '.join(map(str, recommended_list))\n",
        "  return listToStr\n"
      ]
    },
    {
      "cell_type": "code",
      "execution_count": null,
      "metadata": {
        "colab": {
          "base_uri": "https://localhost:8080/",
          "height": 347,
          "referenced_widgets": [
            "a783e629a62d45fba8628f1afa5e221b",
            "6bb9c297d49546fbb86cf9e1b45dde9e",
            "22de6170b64144f3926a6261540ea40a",
            "9d72ef25782b46c19da0f85f0e71c889",
            "57f81fd87a1044f6b6a3302863fe5965",
            "d983157b26eb43599412f19f33a00314",
            "059d6992191e4e61bff9601a7b650352",
            "712c86041f6249d48515df6fa600f860",
            "6f16e06ecce142d1829ec005cf7d9fe1",
            "9204a92f5c914b33ad76376a32c5a94e",
            "0b0b60244e634a0790612b906a48700a"
          ]
        },
        "id": "SnuicNTyF_Sn",
        "outputId": "9d6a58fa-72f3-4c5e-d96f-36b7a9284f09"
      },
      "outputs": [
        {
          "data": {
            "application/vnd.jupyter.widget-view+json": {
              "model_id": "a783e629a62d45fba8628f1afa5e221b",
              "version_major": 2,
              "version_minor": 0
            },
            "text/plain": [
              "Batches:   0%|          | 0/1 [00:00<?, ?it/s]"
            ]
          },
          "metadata": {},
          "output_type": "display_data"
        },
        {
          "name": "stdout",
          "output_type": "stream",
          "text": [
            "پدرم زمینی را به همسر اولش هبه کرد و پس از فوت او این زمین را به نام من سند زد که از همسر دوم ایشان می باشم. آیا این عمل مشکل شرعی دارد؟  \n",
            "پدرم درباره مصرف یک سوم از اموالش وصیتی داشت و مادرم می‌گوید من وصی پدر هستم، آیا من می‌توانم سهم خود را از ثلث مطالبه کرده و با تشخیص خود صرف امور خیر کنم؟\n",
            "پدر ما دارای یک قطعه زمین بود که در زمان حیاتش به سه قسمت تقسیم شده بود و با رضایت خودش دو قسمت از آن سه قسمت توسط دو نفر از پسران ایشان ساخته شد که در آن زندگی می کردند.می خواهم بدانم که آیا در تقسیم میراث متوفی ، هر سه قطعه زمین باید محاسبه شود یا فقط همان یک قسمت باقیمانده باید طبق شرع بین دختران و پسران تقسیم شود؟\n",
            "در تصادفی که پدرم راننده و مقصر بود مادرم فوت کرد. دیه‌ای که بیمه خواهد داد به چه کسانی می‌رسد؟\n",
            "پدرم چند سال پیش فوت کرد و در وصیت نامه خود مقدار دو میلیون تومان را جهت تهیه جهیزیه برای هر یک از دخترها در نظر گرفت. اکنون بعد از گذشت 13 سال اقدام به تقسیم اموال شده است؟ آیا  این پول به نرخ امروز در نظر گرفته می‌شود؟\n",
            "پدرم چند سال پیش فوت کرد و در وصیت نامه خود مقدار دو میلیون تومان را جهت تهیه جهیزیه برای هر یک از دخترها در نظر گرفت. اکنون بعد از گذشت 13 سال اقدام به تقسیم اموال شده است؟ آیا  این پول به نرخ امروز در نظر گرفته می‌شود؟\n",
            "پدرم چند سال پیش فوت کرد و در وصیت نامه خود مقدار دو میلیون تومان را جهت تهیه جهیزیه برای هر یک از دخترها در نظر گرفت. اکنون بعد از گذشت 13 سال اقدام به تقسیم اموال شده است؟ آیا  این پول به نرخ امروز در نظر گرفته می‌شود؟\n",
            "من برای کاری، مقداری طلا از خاله‌‌ام قرض گرفتم. روزی که مادرم پول طلا را برای تحویل به خاله‌ام برد. خاله‌‌ام قبول نکرد و گفت با این مبلغ نمی‌‌توان آن طلایی که داشتم را خریداری کرد. آیا باید قیمت امروز طلا را به او بر گردانیم؟\n",
            "پدرم کنتور برق را دست‌کاری می‌کند، آیا استفاده ما از برق منزل حرام است؟\n",
            "ما سرایدار هستیم و در مدرسه زندگی می‌کنیم مدتی پیش یکی از مدیران خواستار رفتن ما شد ولی پدرم زیر بار نرفت. حال، از نظر شرع ماندن ما در آنجا چه حکمی دارد؟\n",
            "یک مغازه و دو دانگ خانه و ده میلیون تومان از پدرم به من ارث رسیده است. مغازه را کرایه داده‌ام. آیا مغازه یا کرایه‌ی آن خمس دارد؟ آیا اموالی که پدرم برایم خریده هم خمس دارند؟\n",
            "اگر پولی از پدرم را بدون اجازه او در بانک گذاشته و سودی دریافت کنم، آیا می‌توانم از آن سود استفاده نمایم؟ \n",
            "بنده از طرف دانشگاه مأمور شدم تا کارت هدیه‌هایی را به دانشجویان تحویل دهم، اما بعد از مدتی متوجه شدم تعدادی از کارتها مفقود شده است. اکنون آیا نسبت به آنها مدیونم؟\n",
            "خودم در منزل متعلق به همسرم سکونت دارم و خانه خودم را برای سکونت به رایگان در اختیار پدر و مادرم قرار دادم. آیا به خانه‌ام خمس تعلق می‌گیرد؟\n",
            "در مغازه‌ای، بدون تعیین حقوق مشغول به کار شدم. در پایان، صاحب کار، خیلی پایین‌تر از آنچه تصور می‌کردم به من دستمزد داد به همین خاطر، گوشی صاحب‌کارم را برداشتم. بعد از مدتی دوباره برای کار پیش همان شخص رفتم و او از موضوع مطلع شد و حقوق چند روزی که کار کرده بودم را نداد. حال تکلیف من چیست؟\n",
            "در مغازه‌ای، بدون تعیین حقوق مشغول به کار شدم. در پایان، صاحب کار، خیلی پایین‌تر از آنچه تصور می‌کردم به من دستمزد داد به همین خاطر، گوشی صاحب‌کارم را برداشتم. بعد از مدتی دوباره برای کار پیش همان شخص رفتم و او از موضوع مطلع شد و حقوق چند روزی که کار کرده بودم را نداد. حال تکلیف من چیست؟\n"
          ]
        }
      ],
      "source": [
        "a=recommended_questions('دادن خمس سهام اهدایی به فرزند در زمان کودکی')"
      ]
    },
    {
      "cell_type": "code",
      "execution_count": null,
      "metadata": {
        "colab": {
          "base_uri": "https://localhost:8080/"
        },
        "id": "uoAd0OIZGLtg",
        "outputId": "f3284db1-51df-42d3-f633-7ab454c41300"
      },
      "outputs": [
        {
          "name": "stdout",
          "output_type": "stream",
          "text": [
            "{0: 'بنده از طرف دانشگاه مأمور شدم تا کارت هدیه\\u200cهایی را به دانشجویان تحویل دهم، اما بعد از مدتی متوجه شدم تعدادی از کارتها مفقود شده است. اکنون آیا نسبت به آنها مدیونم؟', 1: 'پدر ما دارای یک قطعه زمین بود که در زمان حیاتش به سه قسمت تقسیم شده بود و با رضایت خودش دو قسمت از آن سه قسمت توسط دو نفر از پسران ایشان ساخته شد که در آن زندگی می کردند.می خواهم بدانم که آیا در تقسیم میراث متوفی ، هر سه قطعه زمین باید محاسبه شود یا فقط همان یک قسمت باقیمانده باید طبق شرع بین دختران و پسران تقسیم شود؟', 2: 'پدرم درباره مصرف یک سوم از اموالش وصیتی داشت و مادرم می\\u200cگوید من وصی پدر هستم، آیا من می\\u200cتوانم سهم خود را از ثلث مطالبه کرده و با تشخیص خود صرف امور خیر کنم؟', 3: 'در مغازه\\u200cای، بدون تعیین حقوق مشغول به کار شدم. در پایان، صاحب کار، خیلی پایین\\u200cتر از آنچه تصور می\\u200cکردم به من دستمزد داد به همین خاطر، گوشی صاحب\\u200cکارم را برداشتم. بعد از مدتی دوباره برای کار پیش همان شخص رفتم و او از موضوع مطلع شد و حقوق چند روزی که کار کرده بودم را نداد. حال تکلیف من چیست؟', 4: 'در تصادفی که پدرم راننده و مقصر بود مادرم فوت کرد. دیه\\u200cای که بیمه خواهد داد به چه کسانی می\\u200cرسد؟', 5: 'پدرم چند سال پیش فوت کرد و در وصیت نامه خود مقدار دو میلیون تومان را جهت تهیه جهیزیه برای هر یک از دخترها در نظر گرفت. اکنون بعد از گذشت 13 سال اقدام به تقسیم اموال شده است؟ آیا  این پول به نرخ امروز در نظر گرفته می\\u200cشود؟', 6: 'من برای کاری، مقداری طلا از خاله\\u200c\\u200cام قرض گرفتم. روزی که مادرم پول طلا را برای تحویل به خاله\\u200cام برد. خاله\\u200c\\u200cام قبول نکرد و گفت با این مبلغ نمی\\u200c\\u200cتوان آن طلایی که داشتم را خریداری کرد. آیا باید قیمت امروز طلا را به او بر گردانیم؟', 7: 'ما سرایدار هستیم و در مدرسه زندگی می\\u200cکنیم مدتی پیش یکی از مدیران خواستار رفتن ما شد ولی پدرم زیر بار نرفت. حال، از نظر شرع ماندن ما در آنجا چه حکمی دارد؟', 8: 'یک مغازه و دو دانگ خانه و ده میلیون تومان از پدرم به من ارث رسیده است. مغازه را کرایه داده\\u200cام. آیا مغازه یا کرایه\\u200cی آن خمس دارد؟ آیا اموالی که پدرم برایم خریده هم خمس دارند؟', 9: 'اگر پولی از پدرم را بدون اجازه او در بانک گذاشته و سودی دریافت کنم، آیا می\\u200cتوانم از آن سود استفاده نمایم؟ ', 10: 'خودم در منزل متعلق به همسرم سکونت دارم و خانه خودم را برای سکونت به رایگان در اختیار پدر و مادرم قرار دادم. آیا به خانه\\u200cام خمس تعلق می\\u200cگیرد؟', 11: 'پدرم کنتور برق را دست\\u200cکاری می\\u200cکند، آیا استفاده ما از برق منزل حرام است؟', 12: 'پدرم زمینی را به همسر اولش هبه کرد و پس از فوت او این زمین را به نام من سند زد که از همسر دوم ایشان می باشم. آیا این عمل مشکل شرعی دارد؟  '}\n"
          ]
        }
      ],
      "source": [
        "print(a)"
      ]
    },
    {
      "cell_type": "code",
      "execution_count": null,
      "metadata": {
        "id": "CdidBkXuG0W1"
      },
      "outputs": [],
      "source": [
        "for i in range(len(a)):\n",
        "  a[i]=a[i].replace('\\u200c', ' ')\n",
        "\n"
      ]
    },
    {
      "cell_type": "code",
      "execution_count": null,
      "metadata": {
        "colab": {
          "base_uri": "https://localhost:8080/"
        },
        "id": "agxNgo0YG9mx",
        "outputId": "5a42fa4e-34bc-4cf4-9d3e-fd6d1c5ef79c"
      },
      "outputs": [
        {
          "name": "stdout",
          "output_type": "stream",
          "text": [
            "{0: 'بنده از طرف دانشگاه مأمور شدم تا کارت هدیه هایی را به دانشجویان تحویل دهم، اما بعد از مدتی متوجه شدم تعدادی از کارتها مفقود شده است. اکنون آیا نسبت به آنها مدیونم؟', 1: 'پدر ما دارای یک قطعه زمین بود که در زمان حیاتش به سه قسمت تقسیم شده بود و با رضایت خودش دو قسمت از آن سه قسمت توسط دو نفر از پسران ایشان ساخته شد که در آن زندگی می کردند.می خواهم بدانم که آیا در تقسیم میراث متوفی ، هر سه قطعه زمین باید محاسبه شود یا فقط همان یک قسمت باقیمانده باید طبق شرع بین دختران و پسران تقسیم شود؟', 2: 'پدرم درباره مصرف یک سوم از اموالش وصیتی داشت و مادرم می گوید من وصی پدر هستم، آیا من می توانم سهم خود را از ثلث مطالبه کرده و با تشخیص خود صرف امور خیر کنم؟', 3: 'در مغازه ای، بدون تعیین حقوق مشغول به کار شدم. در پایان، صاحب کار، خیلی پایین تر از آنچه تصور می کردم به من دستمزد داد به همین خاطر، گوشی صاحب کارم را برداشتم. بعد از مدتی دوباره برای کار پیش همان شخص رفتم و او از موضوع مطلع شد و حقوق چند روزی که کار کرده بودم را نداد. حال تکلیف من چیست؟', 4: 'در تصادفی که پدرم راننده و مقصر بود مادرم فوت کرد. دیه ای که بیمه خواهد داد به چه کسانی می رسد؟', 5: 'پدرم چند سال پیش فوت کرد و در وصیت نامه خود مقدار دو میلیون تومان را جهت تهیه جهیزیه برای هر یک از دخترها در نظر گرفت. اکنون بعد از گذشت 13 سال اقدام به تقسیم اموال شده است؟ آیا  این پول به نرخ امروز در نظر گرفته می شود؟', 6: 'من برای کاری، مقداری طلا از خاله  ام قرض گرفتم. روزی که مادرم پول طلا را برای تحویل به خاله ام برد. خاله  ام قبول نکرد و گفت با این مبلغ نمی  توان آن طلایی که داشتم را خریداری کرد. آیا باید قیمت امروز طلا را به او بر گردانیم؟', 7: 'ما سرایدار هستیم و در مدرسه زندگی می کنیم مدتی پیش یکی از مدیران خواستار رفتن ما شد ولی پدرم زیر بار نرفت. حال، از نظر شرع ماندن ما در آنجا چه حکمی دارد؟', 8: 'یک مغازه و دو دانگ خانه و ده میلیون تومان از پدرم به من ارث رسیده است. مغازه را کرایه داده ام. آیا مغازه یا کرایه ی آن خمس دارد؟ آیا اموالی که پدرم برایم خریده هم خمس دارند؟', 9: 'اگر پولی از پدرم را بدون اجازه او در بانک گذاشته و سودی دریافت کنم، آیا می توانم از آن سود استفاده نمایم؟ ', 10: 'خودم در منزل متعلق به همسرم سکونت دارم و خانه خودم را برای سکونت به رایگان در اختیار پدر و مادرم قرار دادم. آیا به خانه ام خمس تعلق می گیرد؟', 11: 'پدرم کنتور برق را دست کاری می کند، آیا استفاده ما از برق منزل حرام است؟', 12: 'پدرم زمینی را به همسر اولش هبه کرد و پس از فوت او این زمین را به نام من سند زد که از همسر دوم ایشان می باشم. آیا این عمل مشکل شرعی دارد؟  '}\n"
          ]
        }
      ],
      "source": [
        "print(a)"
      ]
    },
    {
      "cell_type": "code",
      "execution_count": null,
      "metadata": {
        "colab": {
          "base_uri": "https://localhost:8080/"
        },
        "id": "F9IQPe35GR-y",
        "outputId": "3e71b0ed-07ab-4ccb-86fa-8a353d0d58f8"
      },
      "outputs": [
        {
          "name": "stdout",
          "output_type": "stream",
          "text": [
            "بنده از طرف دانشگاه مأمور شدم تا کارت هدیه‌هایی را به دانشجویان تحویل دهم، اما بعد از مدتی متوجه شدم تعدادی از کارتها مفقود شده است. اکنون آیا نسبت به آنها مدیونم؟\n"
          ]
        }
      ],
      "source": [
        "print(a[0])"
      ]
    },
    {
      "cell_type": "code",
      "execution_count": null,
      "metadata": {
        "colab": {
          "base_uri": "https://localhost:8080/",
          "height": 847,
          "referenced_widgets": [
            "e1ee533888874d249ab8acabae26a296",
            "cc6b1d265f8d4755b2b0bdc24563ebc1",
            "c91f8efd9d1645cbba57b20aab3f5c06",
            "bffe16354a874e219a7105afd48c0822",
            "88dddf1d95324853a232332fb1ec90b0",
            "9fee9460a55144e6978b7c5601100a8b",
            "42853462f4fa434aa609fa08732f7370",
            "582fbfa22ae949dbbce4f1e2190156ba",
            "0a5c470a0c6b48988ff960b9b3582265",
            "079a830b92d14c9dbd43e54758040511",
            "f08f709add0b4781bcaa7082616d9757",
            "a1303b2cf3c2427f98ccfa0eecc46757",
            "33a832a94b0047d2844b9dc6448df13b",
            "c0bec553c8ea46e58f4c380086df1ad8",
            "29640f3a097d402ba978b69db1ff357c",
            "5418d092bb1a473391d040fa06f62883",
            "571e637cf02f43bc89fd5f3fbaf37075",
            "401d47848c794d1c86f2304c80123b27",
            "8e453b3c60414ce18bd01175311a01d9",
            "a946df0da2654ab5829d06ab94700624",
            "fee96fe7204c403e9a5d08fcfa3e76bf",
            "35c0ba8b495a40f3b651d138ca1d696b"
          ]
        },
        "id": "xDJ5ai1x4W5h",
        "outputId": "fa1d1833-571c-4668-889c-8f4ce34135ff"
      },
      "outputs": [
        {
          "output_type": "stream",
          "name": "stdout",
          "text": [
            "Public URL: http://c44c-34-136-62-38.ngrok.io\n"
          ]
        },
        {
          "output_type": "stream",
          "name": "stderr",
          "text": [
            "INFO:     Started server process [60]\n",
            "INFO:     Waiting for application startup.\n",
            "INFO:     Application startup complete.\n",
            "INFO:     Uvicorn running on http://127.0.0.1:8000 (Press CTRL+C to quit)\n"
          ]
        },
        {
          "output_type": "display_data",
          "data": {
            "text/plain": [
              "Batches:   0%|          | 0/1 [00:00<?, ?it/s]"
            ],
            "application/vnd.jupyter.widget-view+json": {
              "version_major": 2,
              "version_minor": 0,
              "model_id": "e1ee533888874d249ab8acabae26a296"
            }
          },
          "metadata": {}
        },
        {
          "output_type": "stream",
          "name": "stdout",
          "text": [
            "پدرم زمینی را به همسر اولش هبه کرد و پس از فوت او این زمین را به نام من سند زد که از همسر دوم ایشان می باشم. آیا این عمل مشکل شرعی دارد؟  \n",
            "پدرم درباره مصرف یک سوم از اموالش وصیتی داشت و مادرم می‌گوید من وصی پدر هستم، آیا من می‌توانم سهم خود را از ثلث مطالبه کرده و با تشخیص خود صرف امور خیر کنم؟\n",
            "پدر ما دارای یک قطعه زمین بود که در زمان حیاتش به سه قسمت تقسیم شده بود و با رضایت خودش دو قسمت از آن سه قسمت توسط دو نفر از پسران ایشان ساخته شد که در آن زندگی می کردند.می خواهم بدانم که آیا در تقسیم میراث متوفی ، هر سه قطعه زمین باید محاسبه شود یا فقط همان یک قسمت باقیمانده باید طبق شرع بین دختران و پسران تقسیم شود؟\n",
            "من برای کاری، مقداری طلا از خاله‌‌ام قرض گرفتم. روزی که مادرم پول طلا را برای تحویل به خاله‌ام برد. خاله‌‌ام قبول نکرد و گفت با این مبلغ نمی‌‌توان آن طلایی که داشتم را خریداری کرد. آیا باید قیمت امروز طلا را به او بر گردانیم؟\n",
            "در تصادفی که پدرم راننده و مقصر بود مادرم فوت کرد. دیه‌ای که بیمه خواهد داد به چه کسانی می‌رسد؟\n",
            "پدرم کنتور برق را دست‌کاری می‌کند، آیا استفاده ما از برق منزل حرام است؟\n",
            "پدرم چند سال پیش فوت کرد و در وصیت نامه خود مقدار دو میلیون تومان را جهت تهیه جهیزیه برای هر یک از دخترها در نظر گرفت. اکنون بعد از گذشت 13 سال اقدام به تقسیم اموال شده است؟ آیا  این پول به نرخ امروز در نظر گرفته می‌شود؟\n",
            "پدرم چند سال پیش فوت کرد و در وصیت نامه خود مقدار دو میلیون تومان را جهت تهیه جهیزیه برای هر یک از دخترها در نظر گرفت. اکنون بعد از گذشت 13 سال اقدام به تقسیم اموال شده است؟ آیا  این پول به نرخ امروز در نظر گرفته می‌شود؟\n",
            "پدرم چند سال پیش فوت کرد و در وصیت نامه خود مقدار دو میلیون تومان را جهت تهیه جهیزیه برای هر یک از دخترها در نظر گرفت. اکنون بعد از گذشت 13 سال اقدام به تقسیم اموال شده است؟ آیا  این پول به نرخ امروز در نظر گرفته می‌شود؟\n",
            "ما سرایدار هستیم و در مدرسه زندگی می‌کنیم مدتی پیش یکی از مدیران خواستار رفتن ما شد ولی پدرم زیر بار نرفت. حال، از نظر شرع ماندن ما در آنجا چه حکمی دارد؟\n",
            "یک مغازه و دو دانگ خانه و ده میلیون تومان از پدرم به من ارث رسیده است. مغازه را کرایه داده‌ام. آیا مغازه یا کرایه‌ی آن خمس دارد؟ آیا اموالی که پدرم برایم خریده هم خمس دارند؟\n",
            "به جهت شغل همسرم به تازگی در شهری ساکن شدیم که معمولاً ده روز متوالی در آنجا حضور نداریم. وضعیت روزه و نماز ما در آن شهر چگونه ‌است؟\n",
            "در مغازه‌ای، بدون تعیین حقوق مشغول به کار شدم. در پایان، صاحب کار، خیلی پایین‌تر از آنچه تصور می‌کردم به من دستمزد داد به همین خاطر، گوشی صاحب‌کارم را برداشتم. بعد از مدتی دوباره برای کار پیش همان شخص رفتم و او از موضوع مطلع شد و حقوق چند روزی که کار کرده بودم را نداد. حال تکلیف من چیست؟\n",
            "در مغازه‌ای، بدون تعیین حقوق مشغول به کار شدم. در پایان، صاحب کار، خیلی پایین‌تر از آنچه تصور می‌کردم به من دستمزد داد به همین خاطر، گوشی صاحب‌کارم را برداشتم. بعد از مدتی دوباره برای کار پیش همان شخص رفتم و او از موضوع مطلع شد و حقوق چند روزی که کار کرده بودم را نداد. حال تکلیف من چیست؟\n",
            "در مغازه‌ای، بدون تعیین حقوق مشغول به کار شدم. در پایان، صاحب کار، خیلی پایین‌تر از آنچه تصور می‌کردم به من دستمزد داد به همین خاطر، گوشی صاحب‌کارم را برداشتم. بعد از مدتی دوباره برای کار پیش همان شخص رفتم و او از موضوع مطلع شد و حقوق چند روزی که کار کرده بودم را نداد. حال تکلیف من چیست؟\n",
            "خودم در منزل متعلق به همسرم سکونت دارم و خانه خودم را برای سکونت به رایگان در اختیار پدر و مادرم قرار دادم. آیا به خانه‌ام خمس تعلق می‌گیرد؟\n",
            "INFO:     94.130.124.123:0 - \"GET /api/calculate?full_question_str=%D8%AF%D8%A7%D8%AF%D9%86%20%D8%AE%D9%85%D8%B3%20%D8%B3%D9%87%D8%A7%D9%85%20%D8%A7%D9%87%D8%AF%D8%A7%DB%8C%DB%8C%20%D8%A8%D9%87%20%D9%81%D8%B1%D8%B2%D9%86%D8%AF%20%D8%AF%D8%B1%20%D8%B2%D9%85%D8%A7%D9%86%20%DA%A9%D9%88%D8%AF%DA%A9%DB%8C%20%D8%A7%D9%88 HTTP/1.1\" 200 OK\n"
          ]
        },
        {
          "output_type": "display_data",
          "data": {
            "text/plain": [
              "Batches:   0%|          | 0/1 [00:00<?, ?it/s]"
            ],
            "application/vnd.jupyter.widget-view+json": {
              "version_major": 2,
              "version_minor": 0,
              "model_id": "a1303b2cf3c2427f98ccfa0eecc46757"
            }
          },
          "metadata": {}
        },
        {
          "output_type": "stream",
          "name": "stdout",
          "text": [
            "پدرم زمینی را به همسر اولش هبه کرد و پس از فوت او این زمین را به نام من سند زد که از همسر دوم ایشان می باشم. آیا این عمل مشکل شرعی دارد؟  \n",
            "پدرم درباره مصرف یک سوم از اموالش وصیتی داشت و مادرم می‌گوید من وصی پدر هستم، آیا من می‌توانم سهم خود را از ثلث مطالبه کرده و با تشخیص خود صرف امور خیر کنم؟\n",
            "پدر ما دارای یک قطعه زمین بود که در زمان حیاتش به سه قسمت تقسیم شده بود و با رضایت خودش دو قسمت از آن سه قسمت توسط دو نفر از پسران ایشان ساخته شد که در آن زندگی می کردند.می خواهم بدانم که آیا در تقسیم میراث متوفی ، هر سه قطعه زمین باید محاسبه شود یا فقط همان یک قسمت باقیمانده باید طبق شرع بین دختران و پسران تقسیم شود؟\n",
            "من برای کاری، مقداری طلا از خاله‌‌ام قرض گرفتم. روزی که مادرم پول طلا را برای تحویل به خاله‌ام برد. خاله‌‌ام قبول نکرد و گفت با این مبلغ نمی‌‌توان آن طلایی که داشتم را خریداری کرد. آیا باید قیمت امروز طلا را به او بر گردانیم؟\n",
            "در تصادفی که پدرم راننده و مقصر بود مادرم فوت کرد. دیه‌ای که بیمه خواهد داد به چه کسانی می‌رسد؟\n",
            "پدرم کنتور برق را دست‌کاری می‌کند، آیا استفاده ما از برق منزل حرام است؟\n",
            "پدرم چند سال پیش فوت کرد و در وصیت نامه خود مقدار دو میلیون تومان را جهت تهیه جهیزیه برای هر یک از دخترها در نظر گرفت. اکنون بعد از گذشت 13 سال اقدام به تقسیم اموال شده است؟ آیا  این پول به نرخ امروز در نظر گرفته می‌شود؟\n",
            "پدرم چند سال پیش فوت کرد و در وصیت نامه خود مقدار دو میلیون تومان را جهت تهیه جهیزیه برای هر یک از دخترها در نظر گرفت. اکنون بعد از گذشت 13 سال اقدام به تقسیم اموال شده است؟ آیا  این پول به نرخ امروز در نظر گرفته می‌شود؟\n",
            "پدرم چند سال پیش فوت کرد و در وصیت نامه خود مقدار دو میلیون تومان را جهت تهیه جهیزیه برای هر یک از دخترها در نظر گرفت. اکنون بعد از گذشت 13 سال اقدام به تقسیم اموال شده است؟ آیا  این پول به نرخ امروز در نظر گرفته می‌شود؟\n",
            "ما سرایدار هستیم و در مدرسه زندگی می‌کنیم مدتی پیش یکی از مدیران خواستار رفتن ما شد ولی پدرم زیر بار نرفت. حال، از نظر شرع ماندن ما در آنجا چه حکمی دارد؟\n",
            "یک مغازه و دو دانگ خانه و ده میلیون تومان از پدرم به من ارث رسیده است. مغازه را کرایه داده‌ام. آیا مغازه یا کرایه‌ی آن خمس دارد؟ آیا اموالی که پدرم برایم خریده هم خمس دارند؟\n",
            "به جهت شغل همسرم به تازگی در شهری ساکن شدیم که معمولاً ده روز متوالی در آنجا حضور نداریم. وضعیت روزه و نماز ما در آن شهر چگونه ‌است؟\n",
            "در مغازه‌ای، بدون تعیین حقوق مشغول به کار شدم. در پایان، صاحب کار، خیلی پایین‌تر از آنچه تصور می‌کردم به من دستمزد داد به همین خاطر، گوشی صاحب‌کارم را برداشتم. بعد از مدتی دوباره برای کار پیش همان شخص رفتم و او از موضوع مطلع شد و حقوق چند روزی که کار کرده بودم را نداد. حال تکلیف من چیست؟\n",
            "در مغازه‌ای، بدون تعیین حقوق مشغول به کار شدم. در پایان، صاحب کار، خیلی پایین‌تر از آنچه تصور می‌کردم به من دستمزد داد به همین خاطر، گوشی صاحب‌کارم را برداشتم. بعد از مدتی دوباره برای کار پیش همان شخص رفتم و او از موضوع مطلع شد و حقوق چند روزی که کار کرده بودم را نداد. حال تکلیف من چیست؟\n",
            "در مغازه‌ای، بدون تعیین حقوق مشغول به کار شدم. در پایان، صاحب کار، خیلی پایین‌تر از آنچه تصور می‌کردم به من دستمزد داد به همین خاطر، گوشی صاحب‌کارم را برداشتم. بعد از مدتی دوباره برای کار پیش همان شخص رفتم و او از موضوع مطلع شد و حقوق چند روزی که کار کرده بودم را نداد. حال تکلیف من چیست؟\n",
            "خودم در منزل متعلق به همسرم سکونت دارم و خانه خودم را برای سکونت به رایگان در اختیار پدر و مادرم قرار دادم. آیا به خانه‌ام خمس تعلق می‌گیرد؟\n",
            "INFO:     94.130.124.123:0 - \"GET /api/calculate?full_question_str=%D8%AF%D8%A7%D8%AF%D9%86%20%D8%AE%D9%85%D8%B3%20%D8%B3%D9%87%D8%A7%D9%85%20%D8%A7%D9%87%D8%AF%D8%A7%DB%8C%DB%8C%20%D8%A8%D9%87%20%D9%81%D8%B1%D8%B2%D9%86%D8%AF%20%D8%AF%D8%B1%20%D8%B2%D9%85%D8%A7%D9%86%20%DA%A9%D9%88%D8%AF%DA%A9%DB%8C%20%D8%A7%D9%88 HTTP/1.1\" 200 OK\n"
          ]
        },
        {
          "output_type": "stream",
          "name": "stderr",
          "text": [
            "INFO:     Shutting down\n",
            "INFO:     Waiting for application shutdown.\n",
            "INFO:     Application shutdown complete.\n",
            "INFO:     Finished server process [60]\n"
          ]
        }
      ],
      "source": [
        "import fastapi\n",
        "import nest_asyncio\n",
        "import uvicorn\n",
        "from pyngrok import ngrok\n",
        "\n",
        "api=fastapi.FastAPI()\n",
        "@api.get('/api/calculate')\n",
        "def recommended_questions(full_question_str):\n",
        "  full_question=[]\n",
        "  full_question.append(full_question_str)\n",
        "  embedding=corpus_embedding(full_question)\n",
        "  cluster_of_input_question=find_full_question_clusters(embedding)\n",
        "  recommended_list=find_most_similar_question_in_cluster(cluster_of_input_question,embedding)\n",
        "  result={}\n",
        "  for i in range(len(recommended_list)):\n",
        "    val=recommended_list[i]\n",
        "    val=val.replace('\\u200c', ' ')\n",
        "    result[i]=val\n",
        "  # listToStr = ' '.join(map(str, recommended_list))\n",
        "  # result={'value':listToStr}\n",
        "  return result\n",
        "\n",
        "ngrok_tunnel = ngrok.connect(8000)\n",
        "print('Public URL:', ngrok_tunnel.public_url)\n",
        "nest_asyncio.apply()\n",
        "uvicorn.run(api, port=8000)"
      ]
    },
    {
      "cell_type": "code",
      "execution_count": null,
      "metadata": {
        "colab": {
          "base_uri": "https://localhost:8080/"
        },
        "id": "XOK_LDDU0si2",
        "outputId": "083b4d5b-6c13-4e49-dd51-9fcc5d37696e"
      },
      "outputs": [
        {
          "name": "stdout",
          "output_type": "stream",
          "text": [
            "Public URL: http://d2c1-34-86-183-71.ngrok.io\n"
          ]
        },
        {
          "name": "stderr",
          "output_type": "stream",
          "text": [
            "INFO:     Started server process [60]\n",
            "INFO:     Waiting for application startup.\n",
            "INFO:     Application startup complete.\n",
            "INFO:     Uvicorn running on http://127.0.0.1:8000 (Press CTRL+C to quit)\n"
          ]
        },
        {
          "name": "stdout",
          "output_type": "stream",
          "text": [
            "INFO:     94.130.124.125:0 - \"GET / HTTP/1.1\" 200 OK\n",
            "INFO:     94.130.124.125:0 - \"GET /favicon.ico HTTP/1.1\" 404 Not Found\n",
            "INFO:     94.130.124.125:0 - \"GET /api/calculate?x=9&y=11 HTTP/1.1\" 200 OK\n",
            "INFO:     94.130.124.125:0 - \"GET /api/calculate?x=8&y=9 HTTP/1.1\" 200 OK\n"
          ]
        },
        {
          "name": "stderr",
          "output_type": "stream",
          "text": [
            "INFO:     Shutting down\n",
            "INFO:     Waiting for application shutdown.\n",
            "INFO:     Application shutdown complete.\n",
            "INFO:     Finished server process [60]\n"
          ]
        }
      ],
      "source": [
        "import fastapi\n",
        "import nest_asyncio\n",
        "import uvicorn\n",
        "from pyngrok import ngrok\n",
        "from typing import Optional\n",
        "\n",
        "api=fastapi.FastAPI()\n",
        "@api.get('/')\n",
        "def index():\n",
        "  body=\"<html>\"\\\n",
        "  \"<body style='padding: 10px;'>\"\\\n",
        "  \"<h1>Welcome to the API </h1>\"\\\n",
        "  \"<div>\"\\\n",
        "  \"try it: <a href='/api/calculate?x=9&y=11'>/api/calculate?x=9&y=11</a>\"\n",
        "  \"</div>\"\\\n",
        "  \"</body>\"\\\n",
        "  \"</html>\"\n",
        "  return fastapi.responses.HTMLResponse(content=body)\n",
        "\n",
        "\n",
        "@api.get('/api/calculate')\n",
        "def calculate(x: int, y: int, z:Optional[int]=None):\n",
        "  if z==0:\n",
        "    return fastapi.responses.JSONResponse(content={\"error\":\"error: Z cannot be zero\"},status_code=400)\n",
        "  value=x+y\n",
        "  if z is not None:\n",
        "    value/=z\n",
        "  result={'x':x,'y':y,'z':z,'value': value}\n",
        "  return result\n",
        "\n",
        "ngrok_tunnel = ngrok.connect(8000)\n",
        "print('Public URL:', ngrok_tunnel.public_url)\n",
        "nest_asyncio.apply()\n",
        "uvicorn.run(api, port=8000)"
      ]
    },
    {
      "cell_type": "code",
      "execution_count": null,
      "metadata": {
        "colab": {
          "base_uri": "https://localhost:8080/"
        },
        "id": "m9XzuA062vPA",
        "outputId": "f0291934-2a3c-450b-ce90-d828ec39c59c"
      },
      "outputs": [
        {
          "name": "stdout",
          "output_type": "stream",
          "text": [
            "Authtoken saved to configuration file: /root/.ngrok2/ngrok.yml\n"
          ]
        }
      ],
      "source": [
        "\n",
        "!ngrok authtoken 26H4CIRVJgm3Hhb1gzuTmTHAumw_2g41vUkYVGe2iEVHryDYi"
      ]
    },
    {
      "cell_type": "code",
      "execution_count": null,
      "metadata": {
        "colab": {
          "base_uri": "https://localhost:8080/"
        },
        "id": "Yp9Fbx-X21yH",
        "outputId": "0ee1cae4-cb2e-4980-94cc-012dbdfd8004"
      },
      "outputs": [
        {
          "name": "stdout",
          "output_type": "stream",
          "text": [
            " Python is easy  to learn. \n"
          ]
        }
      ],
      "source": [
        "a=\"به جهت شغل همسرم به تازگی در شهری ساکن شدیم که معمولاً ده روز متوالی در آنجا حضور نداریم. وضعیت روزه و نماز ما در آن شهر چگونه \\u200cاست"
      ]
    },
    {
      "cell_type": "code",
      "execution_count": null,
      "metadata": {
        "colab": {
          "base_uri": "https://localhost:8080/"
        },
        "id": "79G6CO03-FzA",
        "outputId": "0aa00103-1c77-4fb2-a046-41cfae6888d8"
      },
      "outputs": [
        {
          "name": "stdout",
          "output_type": "stream",
          "text": [
            "{0: 'a', 1: 'b'}\n"
          ]
        }
      ],
      "source": [
        "print(my_dic)"
      ]
    }
  ],
  "metadata": {
    "colab": {
      "provenance": [],
      "authorship_tag": "ABX9TyOfokbybvyqx+jS722iYBFw",
      "include_colab_link": true
    },
    "kernelspec": {
      "display_name": "Python 3",
      "name": "python3"
    },
    "language_info": {
      "name": "python"
    },
    "widgets": {
      "application/vnd.jupyter.widget-state+json": {
        "059d6992191e4e61bff9601a7b650352": {
          "model_module": "@jupyter-widgets/controls",
          "model_module_version": "1.5.0",
          "model_name": "DescriptionStyleModel",
          "state": {
            "_model_module": "@jupyter-widgets/controls",
            "_model_module_version": "1.5.0",
            "_model_name": "DescriptionStyleModel",
            "_view_count": null,
            "_view_module": "@jupyter-widgets/base",
            "_view_module_version": "1.2.0",
            "_view_name": "StyleView",
            "description_width": ""
          }
        },
        "0b0b60244e634a0790612b906a48700a": {
          "model_module": "@jupyter-widgets/controls",
          "model_module_version": "1.5.0",
          "model_name": "DescriptionStyleModel",
          "state": {
            "_model_module": "@jupyter-widgets/controls",
            "_model_module_version": "1.5.0",
            "_model_name": "DescriptionStyleModel",
            "_view_count": null,
            "_view_module": "@jupyter-widgets/base",
            "_view_module_version": "1.2.0",
            "_view_name": "StyleView",
            "description_width": ""
          }
        },
        "22de6170b64144f3926a6261540ea40a": {
          "model_module": "@jupyter-widgets/controls",
          "model_module_version": "1.5.0",
          "model_name": "FloatProgressModel",
          "state": {
            "_dom_classes": [],
            "_model_module": "@jupyter-widgets/controls",
            "_model_module_version": "1.5.0",
            "_model_name": "FloatProgressModel",
            "_view_count": null,
            "_view_module": "@jupyter-widgets/controls",
            "_view_module_version": "1.5.0",
            "_view_name": "ProgressView",
            "bar_style": "success",
            "description": "",
            "description_tooltip": null,
            "layout": "IPY_MODEL_712c86041f6249d48515df6fa600f860",
            "max": 1,
            "min": 0,
            "orientation": "horizontal",
            "style": "IPY_MODEL_6f16e06ecce142d1829ec005cf7d9fe1",
            "value": 1
          }
        },
        "57f81fd87a1044f6b6a3302863fe5965": {
          "model_module": "@jupyter-widgets/base",
          "model_module_version": "1.2.0",
          "model_name": "LayoutModel",
          "state": {
            "_model_module": "@jupyter-widgets/base",
            "_model_module_version": "1.2.0",
            "_model_name": "LayoutModel",
            "_view_count": null,
            "_view_module": "@jupyter-widgets/base",
            "_view_module_version": "1.2.0",
            "_view_name": "LayoutView",
            "align_content": null,
            "align_items": null,
            "align_self": null,
            "border": null,
            "bottom": null,
            "display": null,
            "flex": null,
            "flex_flow": null,
            "grid_area": null,
            "grid_auto_columns": null,
            "grid_auto_flow": null,
            "grid_auto_rows": null,
            "grid_column": null,
            "grid_gap": null,
            "grid_row": null,
            "grid_template_areas": null,
            "grid_template_columns": null,
            "grid_template_rows": null,
            "height": null,
            "justify_content": null,
            "justify_items": null,
            "left": null,
            "margin": null,
            "max_height": null,
            "max_width": null,
            "min_height": null,
            "min_width": null,
            "object_fit": null,
            "object_position": null,
            "order": null,
            "overflow": null,
            "overflow_x": null,
            "overflow_y": null,
            "padding": null,
            "right": null,
            "top": null,
            "visibility": null,
            "width": null
          }
        },
        "6bb9c297d49546fbb86cf9e1b45dde9e": {
          "model_module": "@jupyter-widgets/controls",
          "model_module_version": "1.5.0",
          "model_name": "HTMLModel",
          "state": {
            "_dom_classes": [],
            "_model_module": "@jupyter-widgets/controls",
            "_model_module_version": "1.5.0",
            "_model_name": "HTMLModel",
            "_view_count": null,
            "_view_module": "@jupyter-widgets/controls",
            "_view_module_version": "1.5.0",
            "_view_name": "HTMLView",
            "description": "",
            "description_tooltip": null,
            "layout": "IPY_MODEL_d983157b26eb43599412f19f33a00314",
            "placeholder": "​",
            "style": "IPY_MODEL_059d6992191e4e61bff9601a7b650352",
            "value": "Batches: 100%"
          }
        },
        "6f16e06ecce142d1829ec005cf7d9fe1": {
          "model_module": "@jupyter-widgets/controls",
          "model_module_version": "1.5.0",
          "model_name": "ProgressStyleModel",
          "state": {
            "_model_module": "@jupyter-widgets/controls",
            "_model_module_version": "1.5.0",
            "_model_name": "ProgressStyleModel",
            "_view_count": null,
            "_view_module": "@jupyter-widgets/base",
            "_view_module_version": "1.2.0",
            "_view_name": "StyleView",
            "bar_color": null,
            "description_width": ""
          }
        },
        "712c86041f6249d48515df6fa600f860": {
          "model_module": "@jupyter-widgets/base",
          "model_module_version": "1.2.0",
          "model_name": "LayoutModel",
          "state": {
            "_model_module": "@jupyter-widgets/base",
            "_model_module_version": "1.2.0",
            "_model_name": "LayoutModel",
            "_view_count": null,
            "_view_module": "@jupyter-widgets/base",
            "_view_module_version": "1.2.0",
            "_view_name": "LayoutView",
            "align_content": null,
            "align_items": null,
            "align_self": null,
            "border": null,
            "bottom": null,
            "display": null,
            "flex": null,
            "flex_flow": null,
            "grid_area": null,
            "grid_auto_columns": null,
            "grid_auto_flow": null,
            "grid_auto_rows": null,
            "grid_column": null,
            "grid_gap": null,
            "grid_row": null,
            "grid_template_areas": null,
            "grid_template_columns": null,
            "grid_template_rows": null,
            "height": null,
            "justify_content": null,
            "justify_items": null,
            "left": null,
            "margin": null,
            "max_height": null,
            "max_width": null,
            "min_height": null,
            "min_width": null,
            "object_fit": null,
            "object_position": null,
            "order": null,
            "overflow": null,
            "overflow_x": null,
            "overflow_y": null,
            "padding": null,
            "right": null,
            "top": null,
            "visibility": null,
            "width": null
          }
        },
        "9204a92f5c914b33ad76376a32c5a94e": {
          "model_module": "@jupyter-widgets/base",
          "model_module_version": "1.2.0",
          "model_name": "LayoutModel",
          "state": {
            "_model_module": "@jupyter-widgets/base",
            "_model_module_version": "1.2.0",
            "_model_name": "LayoutModel",
            "_view_count": null,
            "_view_module": "@jupyter-widgets/base",
            "_view_module_version": "1.2.0",
            "_view_name": "LayoutView",
            "align_content": null,
            "align_items": null,
            "align_self": null,
            "border": null,
            "bottom": null,
            "display": null,
            "flex": null,
            "flex_flow": null,
            "grid_area": null,
            "grid_auto_columns": null,
            "grid_auto_flow": null,
            "grid_auto_rows": null,
            "grid_column": null,
            "grid_gap": null,
            "grid_row": null,
            "grid_template_areas": null,
            "grid_template_columns": null,
            "grid_template_rows": null,
            "height": null,
            "justify_content": null,
            "justify_items": null,
            "left": null,
            "margin": null,
            "max_height": null,
            "max_width": null,
            "min_height": null,
            "min_width": null,
            "object_fit": null,
            "object_position": null,
            "order": null,
            "overflow": null,
            "overflow_x": null,
            "overflow_y": null,
            "padding": null,
            "right": null,
            "top": null,
            "visibility": null,
            "width": null
          }
        },
        "9d72ef25782b46c19da0f85f0e71c889": {
          "model_module": "@jupyter-widgets/controls",
          "model_module_version": "1.5.0",
          "model_name": "HTMLModel",
          "state": {
            "_dom_classes": [],
            "_model_module": "@jupyter-widgets/controls",
            "_model_module_version": "1.5.0",
            "_model_name": "HTMLModel",
            "_view_count": null,
            "_view_module": "@jupyter-widgets/controls",
            "_view_module_version": "1.5.0",
            "_view_name": "HTMLView",
            "description": "",
            "description_tooltip": null,
            "layout": "IPY_MODEL_9204a92f5c914b33ad76376a32c5a94e",
            "placeholder": "​",
            "style": "IPY_MODEL_0b0b60244e634a0790612b906a48700a",
            "value": " 1/1 [00:00&lt;00:00,  3.57it/s]"
          }
        },
        "a783e629a62d45fba8628f1afa5e221b": {
          "model_module": "@jupyter-widgets/controls",
          "model_module_version": "1.5.0",
          "model_name": "HBoxModel",
          "state": {
            "_dom_classes": [],
            "_model_module": "@jupyter-widgets/controls",
            "_model_module_version": "1.5.0",
            "_model_name": "HBoxModel",
            "_view_count": null,
            "_view_module": "@jupyter-widgets/controls",
            "_view_module_version": "1.5.0",
            "_view_name": "HBoxView",
            "box_style": "",
            "children": [
              "IPY_MODEL_6bb9c297d49546fbb86cf9e1b45dde9e",
              "IPY_MODEL_22de6170b64144f3926a6261540ea40a",
              "IPY_MODEL_9d72ef25782b46c19da0f85f0e71c889"
            ],
            "layout": "IPY_MODEL_57f81fd87a1044f6b6a3302863fe5965"
          }
        },
        "d983157b26eb43599412f19f33a00314": {
          "model_module": "@jupyter-widgets/base",
          "model_module_version": "1.2.0",
          "model_name": "LayoutModel",
          "state": {
            "_model_module": "@jupyter-widgets/base",
            "_model_module_version": "1.2.0",
            "_model_name": "LayoutModel",
            "_view_count": null,
            "_view_module": "@jupyter-widgets/base",
            "_view_module_version": "1.2.0",
            "_view_name": "LayoutView",
            "align_content": null,
            "align_items": null,
            "align_self": null,
            "border": null,
            "bottom": null,
            "display": null,
            "flex": null,
            "flex_flow": null,
            "grid_area": null,
            "grid_auto_columns": null,
            "grid_auto_flow": null,
            "grid_auto_rows": null,
            "grid_column": null,
            "grid_gap": null,
            "grid_row": null,
            "grid_template_areas": null,
            "grid_template_columns": null,
            "grid_template_rows": null,
            "height": null,
            "justify_content": null,
            "justify_items": null,
            "left": null,
            "margin": null,
            "max_height": null,
            "max_width": null,
            "min_height": null,
            "min_width": null,
            "object_fit": null,
            "object_position": null,
            "order": null,
            "overflow": null,
            "overflow_x": null,
            "overflow_y": null,
            "padding": null,
            "right": null,
            "top": null,
            "visibility": null,
            "width": null
          }
        },
        "e598e2a164d041d9a88c17e89aaa8434": {
          "model_module": "@jupyter-widgets/controls",
          "model_name": "HBoxModel",
          "model_module_version": "1.5.0",
          "state": {
            "_dom_classes": [],
            "_model_module": "@jupyter-widgets/controls",
            "_model_module_version": "1.5.0",
            "_model_name": "HBoxModel",
            "_view_count": null,
            "_view_module": "@jupyter-widgets/controls",
            "_view_module_version": "1.5.0",
            "_view_name": "HBoxView",
            "box_style": "",
            "children": [
              "IPY_MODEL_1f236d3f8a8f46918a7d8faf4eb9c4df",
              "IPY_MODEL_f632c05ea63346d2918411d53091dd60",
              "IPY_MODEL_ef0abfca921e4332bc2e11d175d7ca59"
            ],
            "layout": "IPY_MODEL_2eb8e716f39241e7a551edec89cdcdf4"
          }
        },
        "1f236d3f8a8f46918a7d8faf4eb9c4df": {
          "model_module": "@jupyter-widgets/controls",
          "model_name": "HTMLModel",
          "model_module_version": "1.5.0",
          "state": {
            "_dom_classes": [],
            "_model_module": "@jupyter-widgets/controls",
            "_model_module_version": "1.5.0",
            "_model_name": "HTMLModel",
            "_view_count": null,
            "_view_module": "@jupyter-widgets/controls",
            "_view_module_version": "1.5.0",
            "_view_name": "HTMLView",
            "description": "",
            "description_tooltip": null,
            "layout": "IPY_MODEL_82cf4b76ed6747c58274fa89fc362307",
            "placeholder": "​",
            "style": "IPY_MODEL_5b64acc8f91c41e6b9a75548cb7680ef",
            "value": "Downloading: 100%"
          }
        },
        "f632c05ea63346d2918411d53091dd60": {
          "model_module": "@jupyter-widgets/controls",
          "model_name": "FloatProgressModel",
          "model_module_version": "1.5.0",
          "state": {
            "_dom_classes": [],
            "_model_module": "@jupyter-widgets/controls",
            "_model_module_version": "1.5.0",
            "_model_name": "FloatProgressModel",
            "_view_count": null,
            "_view_module": "@jupyter-widgets/controls",
            "_view_module_version": "1.5.0",
            "_view_name": "ProgressView",
            "bar_style": "success",
            "description": "",
            "description_tooltip": null,
            "layout": "IPY_MODEL_de9ce36211a7421fb59696fbb61dbc89",
            "max": 519,
            "min": 0,
            "orientation": "horizontal",
            "style": "IPY_MODEL_c47cbd636ea247bbbdb995ec8aed4073",
            "value": 519
          }
        },
        "ef0abfca921e4332bc2e11d175d7ca59": {
          "model_module": "@jupyter-widgets/controls",
          "model_name": "HTMLModel",
          "model_module_version": "1.5.0",
          "state": {
            "_dom_classes": [],
            "_model_module": "@jupyter-widgets/controls",
            "_model_module_version": "1.5.0",
            "_model_name": "HTMLModel",
            "_view_count": null,
            "_view_module": "@jupyter-widgets/controls",
            "_view_module_version": "1.5.0",
            "_view_name": "HTMLView",
            "description": "",
            "description_tooltip": null,
            "layout": "IPY_MODEL_f1043504585d477fbe63bf7e94b157c7",
            "placeholder": "​",
            "style": "IPY_MODEL_f42c3bc3874a4fee9995bffddcbc5c03",
            "value": " 519/519 [00:00&lt;00:00, 8.78kB/s]"
          }
        },
        "2eb8e716f39241e7a551edec89cdcdf4": {
          "model_module": "@jupyter-widgets/base",
          "model_name": "LayoutModel",
          "model_module_version": "1.2.0",
          "state": {
            "_model_module": "@jupyter-widgets/base",
            "_model_module_version": "1.2.0",
            "_model_name": "LayoutModel",
            "_view_count": null,
            "_view_module": "@jupyter-widgets/base",
            "_view_module_version": "1.2.0",
            "_view_name": "LayoutView",
            "align_content": null,
            "align_items": null,
            "align_self": null,
            "border": null,
            "bottom": null,
            "display": null,
            "flex": null,
            "flex_flow": null,
            "grid_area": null,
            "grid_auto_columns": null,
            "grid_auto_flow": null,
            "grid_auto_rows": null,
            "grid_column": null,
            "grid_gap": null,
            "grid_row": null,
            "grid_template_areas": null,
            "grid_template_columns": null,
            "grid_template_rows": null,
            "height": null,
            "justify_content": null,
            "justify_items": null,
            "left": null,
            "margin": null,
            "max_height": null,
            "max_width": null,
            "min_height": null,
            "min_width": null,
            "object_fit": null,
            "object_position": null,
            "order": null,
            "overflow": null,
            "overflow_x": null,
            "overflow_y": null,
            "padding": null,
            "right": null,
            "top": null,
            "visibility": null,
            "width": null
          }
        },
        "82cf4b76ed6747c58274fa89fc362307": {
          "model_module": "@jupyter-widgets/base",
          "model_name": "LayoutModel",
          "model_module_version": "1.2.0",
          "state": {
            "_model_module": "@jupyter-widgets/base",
            "_model_module_version": "1.2.0",
            "_model_name": "LayoutModel",
            "_view_count": null,
            "_view_module": "@jupyter-widgets/base",
            "_view_module_version": "1.2.0",
            "_view_name": "LayoutView",
            "align_content": null,
            "align_items": null,
            "align_self": null,
            "border": null,
            "bottom": null,
            "display": null,
            "flex": null,
            "flex_flow": null,
            "grid_area": null,
            "grid_auto_columns": null,
            "grid_auto_flow": null,
            "grid_auto_rows": null,
            "grid_column": null,
            "grid_gap": null,
            "grid_row": null,
            "grid_template_areas": null,
            "grid_template_columns": null,
            "grid_template_rows": null,
            "height": null,
            "justify_content": null,
            "justify_items": null,
            "left": null,
            "margin": null,
            "max_height": null,
            "max_width": null,
            "min_height": null,
            "min_width": null,
            "object_fit": null,
            "object_position": null,
            "order": null,
            "overflow": null,
            "overflow_x": null,
            "overflow_y": null,
            "padding": null,
            "right": null,
            "top": null,
            "visibility": null,
            "width": null
          }
        },
        "5b64acc8f91c41e6b9a75548cb7680ef": {
          "model_module": "@jupyter-widgets/controls",
          "model_name": "DescriptionStyleModel",
          "model_module_version": "1.5.0",
          "state": {
            "_model_module": "@jupyter-widgets/controls",
            "_model_module_version": "1.5.0",
            "_model_name": "DescriptionStyleModel",
            "_view_count": null,
            "_view_module": "@jupyter-widgets/base",
            "_view_module_version": "1.2.0",
            "_view_name": "StyleView",
            "description_width": ""
          }
        },
        "de9ce36211a7421fb59696fbb61dbc89": {
          "model_module": "@jupyter-widgets/base",
          "model_name": "LayoutModel",
          "model_module_version": "1.2.0",
          "state": {
            "_model_module": "@jupyter-widgets/base",
            "_model_module_version": "1.2.0",
            "_model_name": "LayoutModel",
            "_view_count": null,
            "_view_module": "@jupyter-widgets/base",
            "_view_module_version": "1.2.0",
            "_view_name": "LayoutView",
            "align_content": null,
            "align_items": null,
            "align_self": null,
            "border": null,
            "bottom": null,
            "display": null,
            "flex": null,
            "flex_flow": null,
            "grid_area": null,
            "grid_auto_columns": null,
            "grid_auto_flow": null,
            "grid_auto_rows": null,
            "grid_column": null,
            "grid_gap": null,
            "grid_row": null,
            "grid_template_areas": null,
            "grid_template_columns": null,
            "grid_template_rows": null,
            "height": null,
            "justify_content": null,
            "justify_items": null,
            "left": null,
            "margin": null,
            "max_height": null,
            "max_width": null,
            "min_height": null,
            "min_width": null,
            "object_fit": null,
            "object_position": null,
            "order": null,
            "overflow": null,
            "overflow_x": null,
            "overflow_y": null,
            "padding": null,
            "right": null,
            "top": null,
            "visibility": null,
            "width": null
          }
        },
        "c47cbd636ea247bbbdb995ec8aed4073": {
          "model_module": "@jupyter-widgets/controls",
          "model_name": "ProgressStyleModel",
          "model_module_version": "1.5.0",
          "state": {
            "_model_module": "@jupyter-widgets/controls",
            "_model_module_version": "1.5.0",
            "_model_name": "ProgressStyleModel",
            "_view_count": null,
            "_view_module": "@jupyter-widgets/base",
            "_view_module_version": "1.2.0",
            "_view_name": "StyleView",
            "bar_color": null,
            "description_width": ""
          }
        },
        "f1043504585d477fbe63bf7e94b157c7": {
          "model_module": "@jupyter-widgets/base",
          "model_name": "LayoutModel",
          "model_module_version": "1.2.0",
          "state": {
            "_model_module": "@jupyter-widgets/base",
            "_model_module_version": "1.2.0",
            "_model_name": "LayoutModel",
            "_view_count": null,
            "_view_module": "@jupyter-widgets/base",
            "_view_module_version": "1.2.0",
            "_view_name": "LayoutView",
            "align_content": null,
            "align_items": null,
            "align_self": null,
            "border": null,
            "bottom": null,
            "display": null,
            "flex": null,
            "flex_flow": null,
            "grid_area": null,
            "grid_auto_columns": null,
            "grid_auto_flow": null,
            "grid_auto_rows": null,
            "grid_column": null,
            "grid_gap": null,
            "grid_row": null,
            "grid_template_areas": null,
            "grid_template_columns": null,
            "grid_template_rows": null,
            "height": null,
            "justify_content": null,
            "justify_items": null,
            "left": null,
            "margin": null,
            "max_height": null,
            "max_width": null,
            "min_height": null,
            "min_width": null,
            "object_fit": null,
            "object_position": null,
            "order": null,
            "overflow": null,
            "overflow_x": null,
            "overflow_y": null,
            "padding": null,
            "right": null,
            "top": null,
            "visibility": null,
            "width": null
          }
        },
        "f42c3bc3874a4fee9995bffddcbc5c03": {
          "model_module": "@jupyter-widgets/controls",
          "model_name": "DescriptionStyleModel",
          "model_module_version": "1.5.0",
          "state": {
            "_model_module": "@jupyter-widgets/controls",
            "_model_module_version": "1.5.0",
            "_model_name": "DescriptionStyleModel",
            "_view_count": null,
            "_view_module": "@jupyter-widgets/base",
            "_view_module_version": "1.2.0",
            "_view_name": "StyleView",
            "description_width": ""
          }
        },
        "eee424821bda4998bb47db05b4b56a4a": {
          "model_module": "@jupyter-widgets/controls",
          "model_name": "HBoxModel",
          "model_module_version": "1.5.0",
          "state": {
            "_dom_classes": [],
            "_model_module": "@jupyter-widgets/controls",
            "_model_module_version": "1.5.0",
            "_model_name": "HBoxModel",
            "_view_count": null,
            "_view_module": "@jupyter-widgets/controls",
            "_view_module_version": "1.5.0",
            "_view_name": "HBoxView",
            "box_style": "",
            "children": [
              "IPY_MODEL_6b21ab86ed074ee2bb9b94463662ad2d",
              "IPY_MODEL_5295dfcaa542427baca2fb2d0e28f191",
              "IPY_MODEL_ab0828624158430a82fd8eb9852a0906"
            ],
            "layout": "IPY_MODEL_1c88d0f5d9554a178a6d965252909252"
          }
        },
        "6b21ab86ed074ee2bb9b94463662ad2d": {
          "model_module": "@jupyter-widgets/controls",
          "model_name": "HTMLModel",
          "model_module_version": "1.5.0",
          "state": {
            "_dom_classes": [],
            "_model_module": "@jupyter-widgets/controls",
            "_model_module_version": "1.5.0",
            "_model_name": "HTMLModel",
            "_view_count": null,
            "_view_module": "@jupyter-widgets/controls",
            "_view_module_version": "1.5.0",
            "_view_name": "HTMLView",
            "description": "",
            "description_tooltip": null,
            "layout": "IPY_MODEL_6b70949cca7c4fccbb5773ee2d105ded",
            "placeholder": "​",
            "style": "IPY_MODEL_0ffd4a7a9a034da3960b7df324af8324",
            "value": "Downloading: 100%"
          }
        },
        "5295dfcaa542427baca2fb2d0e28f191": {
          "model_module": "@jupyter-widgets/controls",
          "model_name": "FloatProgressModel",
          "model_module_version": "1.5.0",
          "state": {
            "_dom_classes": [],
            "_model_module": "@jupyter-widgets/controls",
            "_model_module_version": "1.5.0",
            "_model_name": "FloatProgressModel",
            "_view_count": null,
            "_view_module": "@jupyter-widgets/controls",
            "_view_module_version": "1.5.0",
            "_view_name": "ProgressView",
            "bar_style": "success",
            "description": "",
            "description_tooltip": null,
            "layout": "IPY_MODEL_08f72618ead848cf8f0f317e68c44496",
            "max": 651449935,
            "min": 0,
            "orientation": "horizontal",
            "style": "IPY_MODEL_9d61c526c84c45fb9fb346451023d698",
            "value": 651449935
          }
        },
        "ab0828624158430a82fd8eb9852a0906": {
          "model_module": "@jupyter-widgets/controls",
          "model_name": "HTMLModel",
          "model_module_version": "1.5.0",
          "state": {
            "_dom_classes": [],
            "_model_module": "@jupyter-widgets/controls",
            "_model_module_version": "1.5.0",
            "_model_name": "HTMLModel",
            "_view_count": null,
            "_view_module": "@jupyter-widgets/controls",
            "_view_module_version": "1.5.0",
            "_view_name": "HTMLView",
            "description": "",
            "description_tooltip": null,
            "layout": "IPY_MODEL_224412e97d594b92a5c1c02669eef554",
            "placeholder": "​",
            "style": "IPY_MODEL_f2667df77fab409bbb605082d13d3b9a",
            "value": " 621M/621M [00:14&lt;00:00, 49.4MB/s]"
          }
        },
        "1c88d0f5d9554a178a6d965252909252": {
          "model_module": "@jupyter-widgets/base",
          "model_name": "LayoutModel",
          "model_module_version": "1.2.0",
          "state": {
            "_model_module": "@jupyter-widgets/base",
            "_model_module_version": "1.2.0",
            "_model_name": "LayoutModel",
            "_view_count": null,
            "_view_module": "@jupyter-widgets/base",
            "_view_module_version": "1.2.0",
            "_view_name": "LayoutView",
            "align_content": null,
            "align_items": null,
            "align_self": null,
            "border": null,
            "bottom": null,
            "display": null,
            "flex": null,
            "flex_flow": null,
            "grid_area": null,
            "grid_auto_columns": null,
            "grid_auto_flow": null,
            "grid_auto_rows": null,
            "grid_column": null,
            "grid_gap": null,
            "grid_row": null,
            "grid_template_areas": null,
            "grid_template_columns": null,
            "grid_template_rows": null,
            "height": null,
            "justify_content": null,
            "justify_items": null,
            "left": null,
            "margin": null,
            "max_height": null,
            "max_width": null,
            "min_height": null,
            "min_width": null,
            "object_fit": null,
            "object_position": null,
            "order": null,
            "overflow": null,
            "overflow_x": null,
            "overflow_y": null,
            "padding": null,
            "right": null,
            "top": null,
            "visibility": null,
            "width": null
          }
        },
        "6b70949cca7c4fccbb5773ee2d105ded": {
          "model_module": "@jupyter-widgets/base",
          "model_name": "LayoutModel",
          "model_module_version": "1.2.0",
          "state": {
            "_model_module": "@jupyter-widgets/base",
            "_model_module_version": "1.2.0",
            "_model_name": "LayoutModel",
            "_view_count": null,
            "_view_module": "@jupyter-widgets/base",
            "_view_module_version": "1.2.0",
            "_view_name": "LayoutView",
            "align_content": null,
            "align_items": null,
            "align_self": null,
            "border": null,
            "bottom": null,
            "display": null,
            "flex": null,
            "flex_flow": null,
            "grid_area": null,
            "grid_auto_columns": null,
            "grid_auto_flow": null,
            "grid_auto_rows": null,
            "grid_column": null,
            "grid_gap": null,
            "grid_row": null,
            "grid_template_areas": null,
            "grid_template_columns": null,
            "grid_template_rows": null,
            "height": null,
            "justify_content": null,
            "justify_items": null,
            "left": null,
            "margin": null,
            "max_height": null,
            "max_width": null,
            "min_height": null,
            "min_width": null,
            "object_fit": null,
            "object_position": null,
            "order": null,
            "overflow": null,
            "overflow_x": null,
            "overflow_y": null,
            "padding": null,
            "right": null,
            "top": null,
            "visibility": null,
            "width": null
          }
        },
        "0ffd4a7a9a034da3960b7df324af8324": {
          "model_module": "@jupyter-widgets/controls",
          "model_name": "DescriptionStyleModel",
          "model_module_version": "1.5.0",
          "state": {
            "_model_module": "@jupyter-widgets/controls",
            "_model_module_version": "1.5.0",
            "_model_name": "DescriptionStyleModel",
            "_view_count": null,
            "_view_module": "@jupyter-widgets/base",
            "_view_module_version": "1.2.0",
            "_view_name": "StyleView",
            "description_width": ""
          }
        },
        "08f72618ead848cf8f0f317e68c44496": {
          "model_module": "@jupyter-widgets/base",
          "model_name": "LayoutModel",
          "model_module_version": "1.2.0",
          "state": {
            "_model_module": "@jupyter-widgets/base",
            "_model_module_version": "1.2.0",
            "_model_name": "LayoutModel",
            "_view_count": null,
            "_view_module": "@jupyter-widgets/base",
            "_view_module_version": "1.2.0",
            "_view_name": "LayoutView",
            "align_content": null,
            "align_items": null,
            "align_self": null,
            "border": null,
            "bottom": null,
            "display": null,
            "flex": null,
            "flex_flow": null,
            "grid_area": null,
            "grid_auto_columns": null,
            "grid_auto_flow": null,
            "grid_auto_rows": null,
            "grid_column": null,
            "grid_gap": null,
            "grid_row": null,
            "grid_template_areas": null,
            "grid_template_columns": null,
            "grid_template_rows": null,
            "height": null,
            "justify_content": null,
            "justify_items": null,
            "left": null,
            "margin": null,
            "max_height": null,
            "max_width": null,
            "min_height": null,
            "min_width": null,
            "object_fit": null,
            "object_position": null,
            "order": null,
            "overflow": null,
            "overflow_x": null,
            "overflow_y": null,
            "padding": null,
            "right": null,
            "top": null,
            "visibility": null,
            "width": null
          }
        },
        "9d61c526c84c45fb9fb346451023d698": {
          "model_module": "@jupyter-widgets/controls",
          "model_name": "ProgressStyleModel",
          "model_module_version": "1.5.0",
          "state": {
            "_model_module": "@jupyter-widgets/controls",
            "_model_module_version": "1.5.0",
            "_model_name": "ProgressStyleModel",
            "_view_count": null,
            "_view_module": "@jupyter-widgets/base",
            "_view_module_version": "1.2.0",
            "_view_name": "StyleView",
            "bar_color": null,
            "description_width": ""
          }
        },
        "224412e97d594b92a5c1c02669eef554": {
          "model_module": "@jupyter-widgets/base",
          "model_name": "LayoutModel",
          "model_module_version": "1.2.0",
          "state": {
            "_model_module": "@jupyter-widgets/base",
            "_model_module_version": "1.2.0",
            "_model_name": "LayoutModel",
            "_view_count": null,
            "_view_module": "@jupyter-widgets/base",
            "_view_module_version": "1.2.0",
            "_view_name": "LayoutView",
            "align_content": null,
            "align_items": null,
            "align_self": null,
            "border": null,
            "bottom": null,
            "display": null,
            "flex": null,
            "flex_flow": null,
            "grid_area": null,
            "grid_auto_columns": null,
            "grid_auto_flow": null,
            "grid_auto_rows": null,
            "grid_column": null,
            "grid_gap": null,
            "grid_row": null,
            "grid_template_areas": null,
            "grid_template_columns": null,
            "grid_template_rows": null,
            "height": null,
            "justify_content": null,
            "justify_items": null,
            "left": null,
            "margin": null,
            "max_height": null,
            "max_width": null,
            "min_height": null,
            "min_width": null,
            "object_fit": null,
            "object_position": null,
            "order": null,
            "overflow": null,
            "overflow_x": null,
            "overflow_y": null,
            "padding": null,
            "right": null,
            "top": null,
            "visibility": null,
            "width": null
          }
        },
        "f2667df77fab409bbb605082d13d3b9a": {
          "model_module": "@jupyter-widgets/controls",
          "model_name": "DescriptionStyleModel",
          "model_module_version": "1.5.0",
          "state": {
            "_model_module": "@jupyter-widgets/controls",
            "_model_module_version": "1.5.0",
            "_model_name": "DescriptionStyleModel",
            "_view_count": null,
            "_view_module": "@jupyter-widgets/base",
            "_view_module_version": "1.2.0",
            "_view_name": "StyleView",
            "description_width": ""
          }
        },
        "93c4a1eef4cd41e7bde6c7793d1746f6": {
          "model_module": "@jupyter-widgets/controls",
          "model_name": "HBoxModel",
          "model_module_version": "1.5.0",
          "state": {
            "_dom_classes": [],
            "_model_module": "@jupyter-widgets/controls",
            "_model_module_version": "1.5.0",
            "_model_name": "HBoxModel",
            "_view_count": null,
            "_view_module": "@jupyter-widgets/controls",
            "_view_module_version": "1.5.0",
            "_view_name": "HBoxView",
            "box_style": "",
            "children": [
              "IPY_MODEL_d8e272038b014606b1b0fd9e038b8d02",
              "IPY_MODEL_1a99a35c060f4e6485988febbc5b22b2",
              "IPY_MODEL_f08307e100584eb99077c7a2b8f6f072"
            ],
            "layout": "IPY_MODEL_b5c12e5a5189432eace40593054a5b32"
          }
        },
        "d8e272038b014606b1b0fd9e038b8d02": {
          "model_module": "@jupyter-widgets/controls",
          "model_name": "HTMLModel",
          "model_module_version": "1.5.0",
          "state": {
            "_dom_classes": [],
            "_model_module": "@jupyter-widgets/controls",
            "_model_module_version": "1.5.0",
            "_model_name": "HTMLModel",
            "_view_count": null,
            "_view_module": "@jupyter-widgets/controls",
            "_view_module_version": "1.5.0",
            "_view_name": "HTMLView",
            "description": "",
            "description_tooltip": null,
            "layout": "IPY_MODEL_d202c9c05044418dbca5ae73d4440f7c",
            "placeholder": "​",
            "style": "IPY_MODEL_444604de41884994921dae82b4a4d600",
            "value": "Downloading: 100%"
          }
        },
        "1a99a35c060f4e6485988febbc5b22b2": {
          "model_module": "@jupyter-widgets/controls",
          "model_name": "FloatProgressModel",
          "model_module_version": "1.5.0",
          "state": {
            "_dom_classes": [],
            "_model_module": "@jupyter-widgets/controls",
            "_model_module_version": "1.5.0",
            "_model_name": "FloatProgressModel",
            "_view_count": null,
            "_view_module": "@jupyter-widgets/controls",
            "_view_module_version": "1.5.0",
            "_view_name": "ProgressView",
            "bar_style": "success",
            "description": "",
            "description_tooltip": null,
            "layout": "IPY_MODEL_74cc5da00f814759bcefad84c76bccf8",
            "max": 404,
            "min": 0,
            "orientation": "horizontal",
            "style": "IPY_MODEL_969fe59531204f1b9286f474eac81d4b",
            "value": 404
          }
        },
        "f08307e100584eb99077c7a2b8f6f072": {
          "model_module": "@jupyter-widgets/controls",
          "model_name": "HTMLModel",
          "model_module_version": "1.5.0",
          "state": {
            "_dom_classes": [],
            "_model_module": "@jupyter-widgets/controls",
            "_model_module_version": "1.5.0",
            "_model_name": "HTMLModel",
            "_view_count": null,
            "_view_module": "@jupyter-widgets/controls",
            "_view_module_version": "1.5.0",
            "_view_name": "HTMLView",
            "description": "",
            "description_tooltip": null,
            "layout": "IPY_MODEL_4dc621b930e344ddad8df1c6f20d3e6a",
            "placeholder": "​",
            "style": "IPY_MODEL_4ad369606825407d852e1c8fa6a978e1",
            "value": " 404/404 [00:00&lt;00:00, 8.43kB/s]"
          }
        },
        "b5c12e5a5189432eace40593054a5b32": {
          "model_module": "@jupyter-widgets/base",
          "model_name": "LayoutModel",
          "model_module_version": "1.2.0",
          "state": {
            "_model_module": "@jupyter-widgets/base",
            "_model_module_version": "1.2.0",
            "_model_name": "LayoutModel",
            "_view_count": null,
            "_view_module": "@jupyter-widgets/base",
            "_view_module_version": "1.2.0",
            "_view_name": "LayoutView",
            "align_content": null,
            "align_items": null,
            "align_self": null,
            "border": null,
            "bottom": null,
            "display": null,
            "flex": null,
            "flex_flow": null,
            "grid_area": null,
            "grid_auto_columns": null,
            "grid_auto_flow": null,
            "grid_auto_rows": null,
            "grid_column": null,
            "grid_gap": null,
            "grid_row": null,
            "grid_template_areas": null,
            "grid_template_columns": null,
            "grid_template_rows": null,
            "height": null,
            "justify_content": null,
            "justify_items": null,
            "left": null,
            "margin": null,
            "max_height": null,
            "max_width": null,
            "min_height": null,
            "min_width": null,
            "object_fit": null,
            "object_position": null,
            "order": null,
            "overflow": null,
            "overflow_x": null,
            "overflow_y": null,
            "padding": null,
            "right": null,
            "top": null,
            "visibility": null,
            "width": null
          }
        },
        "d202c9c05044418dbca5ae73d4440f7c": {
          "model_module": "@jupyter-widgets/base",
          "model_name": "LayoutModel",
          "model_module_version": "1.2.0",
          "state": {
            "_model_module": "@jupyter-widgets/base",
            "_model_module_version": "1.2.0",
            "_model_name": "LayoutModel",
            "_view_count": null,
            "_view_module": "@jupyter-widgets/base",
            "_view_module_version": "1.2.0",
            "_view_name": "LayoutView",
            "align_content": null,
            "align_items": null,
            "align_self": null,
            "border": null,
            "bottom": null,
            "display": null,
            "flex": null,
            "flex_flow": null,
            "grid_area": null,
            "grid_auto_columns": null,
            "grid_auto_flow": null,
            "grid_auto_rows": null,
            "grid_column": null,
            "grid_gap": null,
            "grid_row": null,
            "grid_template_areas": null,
            "grid_template_columns": null,
            "grid_template_rows": null,
            "height": null,
            "justify_content": null,
            "justify_items": null,
            "left": null,
            "margin": null,
            "max_height": null,
            "max_width": null,
            "min_height": null,
            "min_width": null,
            "object_fit": null,
            "object_position": null,
            "order": null,
            "overflow": null,
            "overflow_x": null,
            "overflow_y": null,
            "padding": null,
            "right": null,
            "top": null,
            "visibility": null,
            "width": null
          }
        },
        "444604de41884994921dae82b4a4d600": {
          "model_module": "@jupyter-widgets/controls",
          "model_name": "DescriptionStyleModel",
          "model_module_version": "1.5.0",
          "state": {
            "_model_module": "@jupyter-widgets/controls",
            "_model_module_version": "1.5.0",
            "_model_name": "DescriptionStyleModel",
            "_view_count": null,
            "_view_module": "@jupyter-widgets/base",
            "_view_module_version": "1.2.0",
            "_view_name": "StyleView",
            "description_width": ""
          }
        },
        "74cc5da00f814759bcefad84c76bccf8": {
          "model_module": "@jupyter-widgets/base",
          "model_name": "LayoutModel",
          "model_module_version": "1.2.0",
          "state": {
            "_model_module": "@jupyter-widgets/base",
            "_model_module_version": "1.2.0",
            "_model_name": "LayoutModel",
            "_view_count": null,
            "_view_module": "@jupyter-widgets/base",
            "_view_module_version": "1.2.0",
            "_view_name": "LayoutView",
            "align_content": null,
            "align_items": null,
            "align_self": null,
            "border": null,
            "bottom": null,
            "display": null,
            "flex": null,
            "flex_flow": null,
            "grid_area": null,
            "grid_auto_columns": null,
            "grid_auto_flow": null,
            "grid_auto_rows": null,
            "grid_column": null,
            "grid_gap": null,
            "grid_row": null,
            "grid_template_areas": null,
            "grid_template_columns": null,
            "grid_template_rows": null,
            "height": null,
            "justify_content": null,
            "justify_items": null,
            "left": null,
            "margin": null,
            "max_height": null,
            "max_width": null,
            "min_height": null,
            "min_width": null,
            "object_fit": null,
            "object_position": null,
            "order": null,
            "overflow": null,
            "overflow_x": null,
            "overflow_y": null,
            "padding": null,
            "right": null,
            "top": null,
            "visibility": null,
            "width": null
          }
        },
        "969fe59531204f1b9286f474eac81d4b": {
          "model_module": "@jupyter-widgets/controls",
          "model_name": "ProgressStyleModel",
          "model_module_version": "1.5.0",
          "state": {
            "_model_module": "@jupyter-widgets/controls",
            "_model_module_version": "1.5.0",
            "_model_name": "ProgressStyleModel",
            "_view_count": null,
            "_view_module": "@jupyter-widgets/base",
            "_view_module_version": "1.2.0",
            "_view_name": "StyleView",
            "bar_color": null,
            "description_width": ""
          }
        },
        "4dc621b930e344ddad8df1c6f20d3e6a": {
          "model_module": "@jupyter-widgets/base",
          "model_name": "LayoutModel",
          "model_module_version": "1.2.0",
          "state": {
            "_model_module": "@jupyter-widgets/base",
            "_model_module_version": "1.2.0",
            "_model_name": "LayoutModel",
            "_view_count": null,
            "_view_module": "@jupyter-widgets/base",
            "_view_module_version": "1.2.0",
            "_view_name": "LayoutView",
            "align_content": null,
            "align_items": null,
            "align_self": null,
            "border": null,
            "bottom": null,
            "display": null,
            "flex": null,
            "flex_flow": null,
            "grid_area": null,
            "grid_auto_columns": null,
            "grid_auto_flow": null,
            "grid_auto_rows": null,
            "grid_column": null,
            "grid_gap": null,
            "grid_row": null,
            "grid_template_areas": null,
            "grid_template_columns": null,
            "grid_template_rows": null,
            "height": null,
            "justify_content": null,
            "justify_items": null,
            "left": null,
            "margin": null,
            "max_height": null,
            "max_width": null,
            "min_height": null,
            "min_width": null,
            "object_fit": null,
            "object_position": null,
            "order": null,
            "overflow": null,
            "overflow_x": null,
            "overflow_y": null,
            "padding": null,
            "right": null,
            "top": null,
            "visibility": null,
            "width": null
          }
        },
        "4ad369606825407d852e1c8fa6a978e1": {
          "model_module": "@jupyter-widgets/controls",
          "model_name": "DescriptionStyleModel",
          "model_module_version": "1.5.0",
          "state": {
            "_model_module": "@jupyter-widgets/controls",
            "_model_module_version": "1.5.0",
            "_model_name": "DescriptionStyleModel",
            "_view_count": null,
            "_view_module": "@jupyter-widgets/base",
            "_view_module_version": "1.2.0",
            "_view_name": "StyleView",
            "description_width": ""
          }
        },
        "e4144f9000844fdc9d076fd36bd8d957": {
          "model_module": "@jupyter-widgets/controls",
          "model_name": "HBoxModel",
          "model_module_version": "1.5.0",
          "state": {
            "_dom_classes": [],
            "_model_module": "@jupyter-widgets/controls",
            "_model_module_version": "1.5.0",
            "_model_name": "HBoxModel",
            "_view_count": null,
            "_view_module": "@jupyter-widgets/controls",
            "_view_module_version": "1.5.0",
            "_view_name": "HBoxView",
            "box_style": "",
            "children": [
              "IPY_MODEL_9f0a16e25c034c1c88bdaab9530d4cce",
              "IPY_MODEL_2e46e611190a478299424e05b62b34e4",
              "IPY_MODEL_505c710a525d4064bbf9d9db9fd79e86"
            ],
            "layout": "IPY_MODEL_9fc2d3e7cf2d4bcea3d1ebb2d30c89d9"
          }
        },
        "9f0a16e25c034c1c88bdaab9530d4cce": {
          "model_module": "@jupyter-widgets/controls",
          "model_name": "HTMLModel",
          "model_module_version": "1.5.0",
          "state": {
            "_dom_classes": [],
            "_model_module": "@jupyter-widgets/controls",
            "_model_module_version": "1.5.0",
            "_model_name": "HTMLModel",
            "_view_count": null,
            "_view_module": "@jupyter-widgets/controls",
            "_view_module_version": "1.5.0",
            "_view_name": "HTMLView",
            "description": "",
            "description_tooltip": null,
            "layout": "IPY_MODEL_c62d417c7378408d9da32ed1ac9ea41b",
            "placeholder": "​",
            "style": "IPY_MODEL_26cc6a12b95b423289f130cc06e20bfd",
            "value": "Downloading: 100%"
          }
        },
        "2e46e611190a478299424e05b62b34e4": {
          "model_module": "@jupyter-widgets/controls",
          "model_name": "FloatProgressModel",
          "model_module_version": "1.5.0",
          "state": {
            "_dom_classes": [],
            "_model_module": "@jupyter-widgets/controls",
            "_model_module_version": "1.5.0",
            "_model_name": "FloatProgressModel",
            "_view_count": null,
            "_view_module": "@jupyter-widgets/controls",
            "_view_module_version": "1.5.0",
            "_view_name": "ProgressView",
            "bar_style": "success",
            "description": "",
            "description_tooltip": null,
            "layout": "IPY_MODEL_444b0c19009845bd867f6394ca732ce8",
            "max": 1198122,
            "min": 0,
            "orientation": "horizontal",
            "style": "IPY_MODEL_ae423476b2a449ab96ea29ee8253ab78",
            "value": 1198122
          }
        },
        "505c710a525d4064bbf9d9db9fd79e86": {
          "model_module": "@jupyter-widgets/controls",
          "model_name": "HTMLModel",
          "model_module_version": "1.5.0",
          "state": {
            "_dom_classes": [],
            "_model_module": "@jupyter-widgets/controls",
            "_model_module_version": "1.5.0",
            "_model_name": "HTMLModel",
            "_view_count": null,
            "_view_module": "@jupyter-widgets/controls",
            "_view_module_version": "1.5.0",
            "_view_name": "HTMLView",
            "description": "",
            "description_tooltip": null,
            "layout": "IPY_MODEL_f059052068cd48f381271487776d28c9",
            "placeholder": "​",
            "style": "IPY_MODEL_e4bf096308f944fb92d32e53d1e8b610",
            "value": " 1.14M/1.14M [00:00&lt;00:00, 1.48MB/s]"
          }
        },
        "9fc2d3e7cf2d4bcea3d1ebb2d30c89d9": {
          "model_module": "@jupyter-widgets/base",
          "model_name": "LayoutModel",
          "model_module_version": "1.2.0",
          "state": {
            "_model_module": "@jupyter-widgets/base",
            "_model_module_version": "1.2.0",
            "_model_name": "LayoutModel",
            "_view_count": null,
            "_view_module": "@jupyter-widgets/base",
            "_view_module_version": "1.2.0",
            "_view_name": "LayoutView",
            "align_content": null,
            "align_items": null,
            "align_self": null,
            "border": null,
            "bottom": null,
            "display": null,
            "flex": null,
            "flex_flow": null,
            "grid_area": null,
            "grid_auto_columns": null,
            "grid_auto_flow": null,
            "grid_auto_rows": null,
            "grid_column": null,
            "grid_gap": null,
            "grid_row": null,
            "grid_template_areas": null,
            "grid_template_columns": null,
            "grid_template_rows": null,
            "height": null,
            "justify_content": null,
            "justify_items": null,
            "left": null,
            "margin": null,
            "max_height": null,
            "max_width": null,
            "min_height": null,
            "min_width": null,
            "object_fit": null,
            "object_position": null,
            "order": null,
            "overflow": null,
            "overflow_x": null,
            "overflow_y": null,
            "padding": null,
            "right": null,
            "top": null,
            "visibility": null,
            "width": null
          }
        },
        "c62d417c7378408d9da32ed1ac9ea41b": {
          "model_module": "@jupyter-widgets/base",
          "model_name": "LayoutModel",
          "model_module_version": "1.2.0",
          "state": {
            "_model_module": "@jupyter-widgets/base",
            "_model_module_version": "1.2.0",
            "_model_name": "LayoutModel",
            "_view_count": null,
            "_view_module": "@jupyter-widgets/base",
            "_view_module_version": "1.2.0",
            "_view_name": "LayoutView",
            "align_content": null,
            "align_items": null,
            "align_self": null,
            "border": null,
            "bottom": null,
            "display": null,
            "flex": null,
            "flex_flow": null,
            "grid_area": null,
            "grid_auto_columns": null,
            "grid_auto_flow": null,
            "grid_auto_rows": null,
            "grid_column": null,
            "grid_gap": null,
            "grid_row": null,
            "grid_template_areas": null,
            "grid_template_columns": null,
            "grid_template_rows": null,
            "height": null,
            "justify_content": null,
            "justify_items": null,
            "left": null,
            "margin": null,
            "max_height": null,
            "max_width": null,
            "min_height": null,
            "min_width": null,
            "object_fit": null,
            "object_position": null,
            "order": null,
            "overflow": null,
            "overflow_x": null,
            "overflow_y": null,
            "padding": null,
            "right": null,
            "top": null,
            "visibility": null,
            "width": null
          }
        },
        "26cc6a12b95b423289f130cc06e20bfd": {
          "model_module": "@jupyter-widgets/controls",
          "model_name": "DescriptionStyleModel",
          "model_module_version": "1.5.0",
          "state": {
            "_model_module": "@jupyter-widgets/controls",
            "_model_module_version": "1.5.0",
            "_model_name": "DescriptionStyleModel",
            "_view_count": null,
            "_view_module": "@jupyter-widgets/base",
            "_view_module_version": "1.2.0",
            "_view_name": "StyleView",
            "description_width": ""
          }
        },
        "444b0c19009845bd867f6394ca732ce8": {
          "model_module": "@jupyter-widgets/base",
          "model_name": "LayoutModel",
          "model_module_version": "1.2.0",
          "state": {
            "_model_module": "@jupyter-widgets/base",
            "_model_module_version": "1.2.0",
            "_model_name": "LayoutModel",
            "_view_count": null,
            "_view_module": "@jupyter-widgets/base",
            "_view_module_version": "1.2.0",
            "_view_name": "LayoutView",
            "align_content": null,
            "align_items": null,
            "align_self": null,
            "border": null,
            "bottom": null,
            "display": null,
            "flex": null,
            "flex_flow": null,
            "grid_area": null,
            "grid_auto_columns": null,
            "grid_auto_flow": null,
            "grid_auto_rows": null,
            "grid_column": null,
            "grid_gap": null,
            "grid_row": null,
            "grid_template_areas": null,
            "grid_template_columns": null,
            "grid_template_rows": null,
            "height": null,
            "justify_content": null,
            "justify_items": null,
            "left": null,
            "margin": null,
            "max_height": null,
            "max_width": null,
            "min_height": null,
            "min_width": null,
            "object_fit": null,
            "object_position": null,
            "order": null,
            "overflow": null,
            "overflow_x": null,
            "overflow_y": null,
            "padding": null,
            "right": null,
            "top": null,
            "visibility": null,
            "width": null
          }
        },
        "ae423476b2a449ab96ea29ee8253ab78": {
          "model_module": "@jupyter-widgets/controls",
          "model_name": "ProgressStyleModel",
          "model_module_version": "1.5.0",
          "state": {
            "_model_module": "@jupyter-widgets/controls",
            "_model_module_version": "1.5.0",
            "_model_name": "ProgressStyleModel",
            "_view_count": null,
            "_view_module": "@jupyter-widgets/base",
            "_view_module_version": "1.2.0",
            "_view_name": "StyleView",
            "bar_color": null,
            "description_width": ""
          }
        },
        "f059052068cd48f381271487776d28c9": {
          "model_module": "@jupyter-widgets/base",
          "model_name": "LayoutModel",
          "model_module_version": "1.2.0",
          "state": {
            "_model_module": "@jupyter-widgets/base",
            "_model_module_version": "1.2.0",
            "_model_name": "LayoutModel",
            "_view_count": null,
            "_view_module": "@jupyter-widgets/base",
            "_view_module_version": "1.2.0",
            "_view_name": "LayoutView",
            "align_content": null,
            "align_items": null,
            "align_self": null,
            "border": null,
            "bottom": null,
            "display": null,
            "flex": null,
            "flex_flow": null,
            "grid_area": null,
            "grid_auto_columns": null,
            "grid_auto_flow": null,
            "grid_auto_rows": null,
            "grid_column": null,
            "grid_gap": null,
            "grid_row": null,
            "grid_template_areas": null,
            "grid_template_columns": null,
            "grid_template_rows": null,
            "height": null,
            "justify_content": null,
            "justify_items": null,
            "left": null,
            "margin": null,
            "max_height": null,
            "max_width": null,
            "min_height": null,
            "min_width": null,
            "object_fit": null,
            "object_position": null,
            "order": null,
            "overflow": null,
            "overflow_x": null,
            "overflow_y": null,
            "padding": null,
            "right": null,
            "top": null,
            "visibility": null,
            "width": null
          }
        },
        "e4bf096308f944fb92d32e53d1e8b610": {
          "model_module": "@jupyter-widgets/controls",
          "model_name": "DescriptionStyleModel",
          "model_module_version": "1.5.0",
          "state": {
            "_model_module": "@jupyter-widgets/controls",
            "_model_module_version": "1.5.0",
            "_model_name": "DescriptionStyleModel",
            "_view_count": null,
            "_view_module": "@jupyter-widgets/base",
            "_view_module_version": "1.2.0",
            "_view_name": "StyleView",
            "description_width": ""
          }
        },
        "9f8e8374e18c4322a73d69c6159c23c3": {
          "model_module": "@jupyter-widgets/controls",
          "model_name": "HBoxModel",
          "model_module_version": "1.5.0",
          "state": {
            "_dom_classes": [],
            "_model_module": "@jupyter-widgets/controls",
            "_model_module_version": "1.5.0",
            "_model_name": "HBoxModel",
            "_view_count": null,
            "_view_module": "@jupyter-widgets/controls",
            "_view_module_version": "1.5.0",
            "_view_name": "HBoxView",
            "box_style": "",
            "children": [
              "IPY_MODEL_4f903a5c760e4874a527c574f53fd300",
              "IPY_MODEL_1d7aa17b15c549b9a35bbfe5e0a044d7",
              "IPY_MODEL_fd589f9e169340d09b6c81b59407abbe"
            ],
            "layout": "IPY_MODEL_8a9ec05a27e04fe59b1afa6e4bb61e3d"
          }
        },
        "4f903a5c760e4874a527c574f53fd300": {
          "model_module": "@jupyter-widgets/controls",
          "model_name": "HTMLModel",
          "model_module_version": "1.5.0",
          "state": {
            "_dom_classes": [],
            "_model_module": "@jupyter-widgets/controls",
            "_model_module_version": "1.5.0",
            "_model_name": "HTMLModel",
            "_view_count": null,
            "_view_module": "@jupyter-widgets/controls",
            "_view_module_version": "1.5.0",
            "_view_name": "HTMLView",
            "description": "",
            "description_tooltip": null,
            "layout": "IPY_MODEL_f007290342ba490fbaffc729b5ff361f",
            "placeholder": "​",
            "style": "IPY_MODEL_b091b227b4ee44b6886c8c22893563b8",
            "value": "Downloading: 100%"
          }
        },
        "1d7aa17b15c549b9a35bbfe5e0a044d7": {
          "model_module": "@jupyter-widgets/controls",
          "model_name": "FloatProgressModel",
          "model_module_version": "1.5.0",
          "state": {
            "_dom_classes": [],
            "_model_module": "@jupyter-widgets/controls",
            "_model_module_version": "1.5.0",
            "_model_name": "FloatProgressModel",
            "_view_count": null,
            "_view_module": "@jupyter-widgets/controls",
            "_view_module_version": "1.5.0",
            "_view_name": "ProgressView",
            "bar_style": "success",
            "description": "",
            "description_tooltip": null,
            "layout": "IPY_MODEL_1c27cfb8a80f4c24817b5df7c4c48d64",
            "max": 112,
            "min": 0,
            "orientation": "horizontal",
            "style": "IPY_MODEL_3927c2ac7aa6472abf409a033aa5485e",
            "value": 112
          }
        },
        "fd589f9e169340d09b6c81b59407abbe": {
          "model_module": "@jupyter-widgets/controls",
          "model_name": "HTMLModel",
          "model_module_version": "1.5.0",
          "state": {
            "_dom_classes": [],
            "_model_module": "@jupyter-widgets/controls",
            "_model_module_version": "1.5.0",
            "_model_name": "HTMLModel",
            "_view_count": null,
            "_view_module": "@jupyter-widgets/controls",
            "_view_module_version": "1.5.0",
            "_view_name": "HTMLView",
            "description": "",
            "description_tooltip": null,
            "layout": "IPY_MODEL_7c05631e26a74845a80a677af049aa40",
            "placeholder": "​",
            "style": "IPY_MODEL_90bf41efb08e4b20a651bc90b50ae5bf",
            "value": " 112/112 [00:00&lt;00:00, 2.73kB/s]"
          }
        },
        "8a9ec05a27e04fe59b1afa6e4bb61e3d": {
          "model_module": "@jupyter-widgets/base",
          "model_name": "LayoutModel",
          "model_module_version": "1.2.0",
          "state": {
            "_model_module": "@jupyter-widgets/base",
            "_model_module_version": "1.2.0",
            "_model_name": "LayoutModel",
            "_view_count": null,
            "_view_module": "@jupyter-widgets/base",
            "_view_module_version": "1.2.0",
            "_view_name": "LayoutView",
            "align_content": null,
            "align_items": null,
            "align_self": null,
            "border": null,
            "bottom": null,
            "display": null,
            "flex": null,
            "flex_flow": null,
            "grid_area": null,
            "grid_auto_columns": null,
            "grid_auto_flow": null,
            "grid_auto_rows": null,
            "grid_column": null,
            "grid_gap": null,
            "grid_row": null,
            "grid_template_areas": null,
            "grid_template_columns": null,
            "grid_template_rows": null,
            "height": null,
            "justify_content": null,
            "justify_items": null,
            "left": null,
            "margin": null,
            "max_height": null,
            "max_width": null,
            "min_height": null,
            "min_width": null,
            "object_fit": null,
            "object_position": null,
            "order": null,
            "overflow": null,
            "overflow_x": null,
            "overflow_y": null,
            "padding": null,
            "right": null,
            "top": null,
            "visibility": null,
            "width": null
          }
        },
        "f007290342ba490fbaffc729b5ff361f": {
          "model_module": "@jupyter-widgets/base",
          "model_name": "LayoutModel",
          "model_module_version": "1.2.0",
          "state": {
            "_model_module": "@jupyter-widgets/base",
            "_model_module_version": "1.2.0",
            "_model_name": "LayoutModel",
            "_view_count": null,
            "_view_module": "@jupyter-widgets/base",
            "_view_module_version": "1.2.0",
            "_view_name": "LayoutView",
            "align_content": null,
            "align_items": null,
            "align_self": null,
            "border": null,
            "bottom": null,
            "display": null,
            "flex": null,
            "flex_flow": null,
            "grid_area": null,
            "grid_auto_columns": null,
            "grid_auto_flow": null,
            "grid_auto_rows": null,
            "grid_column": null,
            "grid_gap": null,
            "grid_row": null,
            "grid_template_areas": null,
            "grid_template_columns": null,
            "grid_template_rows": null,
            "height": null,
            "justify_content": null,
            "justify_items": null,
            "left": null,
            "margin": null,
            "max_height": null,
            "max_width": null,
            "min_height": null,
            "min_width": null,
            "object_fit": null,
            "object_position": null,
            "order": null,
            "overflow": null,
            "overflow_x": null,
            "overflow_y": null,
            "padding": null,
            "right": null,
            "top": null,
            "visibility": null,
            "width": null
          }
        },
        "b091b227b4ee44b6886c8c22893563b8": {
          "model_module": "@jupyter-widgets/controls",
          "model_name": "DescriptionStyleModel",
          "model_module_version": "1.5.0",
          "state": {
            "_model_module": "@jupyter-widgets/controls",
            "_model_module_version": "1.5.0",
            "_model_name": "DescriptionStyleModel",
            "_view_count": null,
            "_view_module": "@jupyter-widgets/base",
            "_view_module_version": "1.2.0",
            "_view_name": "StyleView",
            "description_width": ""
          }
        },
        "1c27cfb8a80f4c24817b5df7c4c48d64": {
          "model_module": "@jupyter-widgets/base",
          "model_name": "LayoutModel",
          "model_module_version": "1.2.0",
          "state": {
            "_model_module": "@jupyter-widgets/base",
            "_model_module_version": "1.2.0",
            "_model_name": "LayoutModel",
            "_view_count": null,
            "_view_module": "@jupyter-widgets/base",
            "_view_module_version": "1.2.0",
            "_view_name": "LayoutView",
            "align_content": null,
            "align_items": null,
            "align_self": null,
            "border": null,
            "bottom": null,
            "display": null,
            "flex": null,
            "flex_flow": null,
            "grid_area": null,
            "grid_auto_columns": null,
            "grid_auto_flow": null,
            "grid_auto_rows": null,
            "grid_column": null,
            "grid_gap": null,
            "grid_row": null,
            "grid_template_areas": null,
            "grid_template_columns": null,
            "grid_template_rows": null,
            "height": null,
            "justify_content": null,
            "justify_items": null,
            "left": null,
            "margin": null,
            "max_height": null,
            "max_width": null,
            "min_height": null,
            "min_width": null,
            "object_fit": null,
            "object_position": null,
            "order": null,
            "overflow": null,
            "overflow_x": null,
            "overflow_y": null,
            "padding": null,
            "right": null,
            "top": null,
            "visibility": null,
            "width": null
          }
        },
        "3927c2ac7aa6472abf409a033aa5485e": {
          "model_module": "@jupyter-widgets/controls",
          "model_name": "ProgressStyleModel",
          "model_module_version": "1.5.0",
          "state": {
            "_model_module": "@jupyter-widgets/controls",
            "_model_module_version": "1.5.0",
            "_model_name": "ProgressStyleModel",
            "_view_count": null,
            "_view_module": "@jupyter-widgets/base",
            "_view_module_version": "1.2.0",
            "_view_name": "StyleView",
            "bar_color": null,
            "description_width": ""
          }
        },
        "7c05631e26a74845a80a677af049aa40": {
          "model_module": "@jupyter-widgets/base",
          "model_name": "LayoutModel",
          "model_module_version": "1.2.0",
          "state": {
            "_model_module": "@jupyter-widgets/base",
            "_model_module_version": "1.2.0",
            "_model_name": "LayoutModel",
            "_view_count": null,
            "_view_module": "@jupyter-widgets/base",
            "_view_module_version": "1.2.0",
            "_view_name": "LayoutView",
            "align_content": null,
            "align_items": null,
            "align_self": null,
            "border": null,
            "bottom": null,
            "display": null,
            "flex": null,
            "flex_flow": null,
            "grid_area": null,
            "grid_auto_columns": null,
            "grid_auto_flow": null,
            "grid_auto_rows": null,
            "grid_column": null,
            "grid_gap": null,
            "grid_row": null,
            "grid_template_areas": null,
            "grid_template_columns": null,
            "grid_template_rows": null,
            "height": null,
            "justify_content": null,
            "justify_items": null,
            "left": null,
            "margin": null,
            "max_height": null,
            "max_width": null,
            "min_height": null,
            "min_width": null,
            "object_fit": null,
            "object_position": null,
            "order": null,
            "overflow": null,
            "overflow_x": null,
            "overflow_y": null,
            "padding": null,
            "right": null,
            "top": null,
            "visibility": null,
            "width": null
          }
        },
        "90bf41efb08e4b20a651bc90b50ae5bf": {
          "model_module": "@jupyter-widgets/controls",
          "model_name": "DescriptionStyleModel",
          "model_module_version": "1.5.0",
          "state": {
            "_model_module": "@jupyter-widgets/controls",
            "_model_module_version": "1.5.0",
            "_model_name": "DescriptionStyleModel",
            "_view_count": null,
            "_view_module": "@jupyter-widgets/base",
            "_view_module_version": "1.2.0",
            "_view_name": "StyleView",
            "description_width": ""
          }
        },
        "e1ee533888874d249ab8acabae26a296": {
          "model_module": "@jupyter-widgets/controls",
          "model_name": "HBoxModel",
          "model_module_version": "1.5.0",
          "state": {
            "_dom_classes": [],
            "_model_module": "@jupyter-widgets/controls",
            "_model_module_version": "1.5.0",
            "_model_name": "HBoxModel",
            "_view_count": null,
            "_view_module": "@jupyter-widgets/controls",
            "_view_module_version": "1.5.0",
            "_view_name": "HBoxView",
            "box_style": "",
            "children": [
              "IPY_MODEL_cc6b1d265f8d4755b2b0bdc24563ebc1",
              "IPY_MODEL_c91f8efd9d1645cbba57b20aab3f5c06",
              "IPY_MODEL_bffe16354a874e219a7105afd48c0822"
            ],
            "layout": "IPY_MODEL_88dddf1d95324853a232332fb1ec90b0"
          }
        },
        "cc6b1d265f8d4755b2b0bdc24563ebc1": {
          "model_module": "@jupyter-widgets/controls",
          "model_name": "HTMLModel",
          "model_module_version": "1.5.0",
          "state": {
            "_dom_classes": [],
            "_model_module": "@jupyter-widgets/controls",
            "_model_module_version": "1.5.0",
            "_model_name": "HTMLModel",
            "_view_count": null,
            "_view_module": "@jupyter-widgets/controls",
            "_view_module_version": "1.5.0",
            "_view_name": "HTMLView",
            "description": "",
            "description_tooltip": null,
            "layout": "IPY_MODEL_9fee9460a55144e6978b7c5601100a8b",
            "placeholder": "​",
            "style": "IPY_MODEL_42853462f4fa434aa609fa08732f7370",
            "value": "Batches: 100%"
          }
        },
        "c91f8efd9d1645cbba57b20aab3f5c06": {
          "model_module": "@jupyter-widgets/controls",
          "model_name": "FloatProgressModel",
          "model_module_version": "1.5.0",
          "state": {
            "_dom_classes": [],
            "_model_module": "@jupyter-widgets/controls",
            "_model_module_version": "1.5.0",
            "_model_name": "FloatProgressModel",
            "_view_count": null,
            "_view_module": "@jupyter-widgets/controls",
            "_view_module_version": "1.5.0",
            "_view_name": "ProgressView",
            "bar_style": "success",
            "description": "",
            "description_tooltip": null,
            "layout": "IPY_MODEL_582fbfa22ae949dbbce4f1e2190156ba",
            "max": 1,
            "min": 0,
            "orientation": "horizontal",
            "style": "IPY_MODEL_0a5c470a0c6b48988ff960b9b3582265",
            "value": 1
          }
        },
        "bffe16354a874e219a7105afd48c0822": {
          "model_module": "@jupyter-widgets/controls",
          "model_name": "HTMLModel",
          "model_module_version": "1.5.0",
          "state": {
            "_dom_classes": [],
            "_model_module": "@jupyter-widgets/controls",
            "_model_module_version": "1.5.0",
            "_model_name": "HTMLModel",
            "_view_count": null,
            "_view_module": "@jupyter-widgets/controls",
            "_view_module_version": "1.5.0",
            "_view_name": "HTMLView",
            "description": "",
            "description_tooltip": null,
            "layout": "IPY_MODEL_079a830b92d14c9dbd43e54758040511",
            "placeholder": "​",
            "style": "IPY_MODEL_f08f709add0b4781bcaa7082616d9757",
            "value": " 1/1 [00:00&lt;00:00,  3.50it/s]"
          }
        },
        "88dddf1d95324853a232332fb1ec90b0": {
          "model_module": "@jupyter-widgets/base",
          "model_name": "LayoutModel",
          "model_module_version": "1.2.0",
          "state": {
            "_model_module": "@jupyter-widgets/base",
            "_model_module_version": "1.2.0",
            "_model_name": "LayoutModel",
            "_view_count": null,
            "_view_module": "@jupyter-widgets/base",
            "_view_module_version": "1.2.0",
            "_view_name": "LayoutView",
            "align_content": null,
            "align_items": null,
            "align_self": null,
            "border": null,
            "bottom": null,
            "display": null,
            "flex": null,
            "flex_flow": null,
            "grid_area": null,
            "grid_auto_columns": null,
            "grid_auto_flow": null,
            "grid_auto_rows": null,
            "grid_column": null,
            "grid_gap": null,
            "grid_row": null,
            "grid_template_areas": null,
            "grid_template_columns": null,
            "grid_template_rows": null,
            "height": null,
            "justify_content": null,
            "justify_items": null,
            "left": null,
            "margin": null,
            "max_height": null,
            "max_width": null,
            "min_height": null,
            "min_width": null,
            "object_fit": null,
            "object_position": null,
            "order": null,
            "overflow": null,
            "overflow_x": null,
            "overflow_y": null,
            "padding": null,
            "right": null,
            "top": null,
            "visibility": null,
            "width": null
          }
        },
        "9fee9460a55144e6978b7c5601100a8b": {
          "model_module": "@jupyter-widgets/base",
          "model_name": "LayoutModel",
          "model_module_version": "1.2.0",
          "state": {
            "_model_module": "@jupyter-widgets/base",
            "_model_module_version": "1.2.0",
            "_model_name": "LayoutModel",
            "_view_count": null,
            "_view_module": "@jupyter-widgets/base",
            "_view_module_version": "1.2.0",
            "_view_name": "LayoutView",
            "align_content": null,
            "align_items": null,
            "align_self": null,
            "border": null,
            "bottom": null,
            "display": null,
            "flex": null,
            "flex_flow": null,
            "grid_area": null,
            "grid_auto_columns": null,
            "grid_auto_flow": null,
            "grid_auto_rows": null,
            "grid_column": null,
            "grid_gap": null,
            "grid_row": null,
            "grid_template_areas": null,
            "grid_template_columns": null,
            "grid_template_rows": null,
            "height": null,
            "justify_content": null,
            "justify_items": null,
            "left": null,
            "margin": null,
            "max_height": null,
            "max_width": null,
            "min_height": null,
            "min_width": null,
            "object_fit": null,
            "object_position": null,
            "order": null,
            "overflow": null,
            "overflow_x": null,
            "overflow_y": null,
            "padding": null,
            "right": null,
            "top": null,
            "visibility": null,
            "width": null
          }
        },
        "42853462f4fa434aa609fa08732f7370": {
          "model_module": "@jupyter-widgets/controls",
          "model_name": "DescriptionStyleModel",
          "model_module_version": "1.5.0",
          "state": {
            "_model_module": "@jupyter-widgets/controls",
            "_model_module_version": "1.5.0",
            "_model_name": "DescriptionStyleModel",
            "_view_count": null,
            "_view_module": "@jupyter-widgets/base",
            "_view_module_version": "1.2.0",
            "_view_name": "StyleView",
            "description_width": ""
          }
        },
        "582fbfa22ae949dbbce4f1e2190156ba": {
          "model_module": "@jupyter-widgets/base",
          "model_name": "LayoutModel",
          "model_module_version": "1.2.0",
          "state": {
            "_model_module": "@jupyter-widgets/base",
            "_model_module_version": "1.2.0",
            "_model_name": "LayoutModel",
            "_view_count": null,
            "_view_module": "@jupyter-widgets/base",
            "_view_module_version": "1.2.0",
            "_view_name": "LayoutView",
            "align_content": null,
            "align_items": null,
            "align_self": null,
            "border": null,
            "bottom": null,
            "display": null,
            "flex": null,
            "flex_flow": null,
            "grid_area": null,
            "grid_auto_columns": null,
            "grid_auto_flow": null,
            "grid_auto_rows": null,
            "grid_column": null,
            "grid_gap": null,
            "grid_row": null,
            "grid_template_areas": null,
            "grid_template_columns": null,
            "grid_template_rows": null,
            "height": null,
            "justify_content": null,
            "justify_items": null,
            "left": null,
            "margin": null,
            "max_height": null,
            "max_width": null,
            "min_height": null,
            "min_width": null,
            "object_fit": null,
            "object_position": null,
            "order": null,
            "overflow": null,
            "overflow_x": null,
            "overflow_y": null,
            "padding": null,
            "right": null,
            "top": null,
            "visibility": null,
            "width": null
          }
        },
        "0a5c470a0c6b48988ff960b9b3582265": {
          "model_module": "@jupyter-widgets/controls",
          "model_name": "ProgressStyleModel",
          "model_module_version": "1.5.0",
          "state": {
            "_model_module": "@jupyter-widgets/controls",
            "_model_module_version": "1.5.0",
            "_model_name": "ProgressStyleModel",
            "_view_count": null,
            "_view_module": "@jupyter-widgets/base",
            "_view_module_version": "1.2.0",
            "_view_name": "StyleView",
            "bar_color": null,
            "description_width": ""
          }
        },
        "079a830b92d14c9dbd43e54758040511": {
          "model_module": "@jupyter-widgets/base",
          "model_name": "LayoutModel",
          "model_module_version": "1.2.0",
          "state": {
            "_model_module": "@jupyter-widgets/base",
            "_model_module_version": "1.2.0",
            "_model_name": "LayoutModel",
            "_view_count": null,
            "_view_module": "@jupyter-widgets/base",
            "_view_module_version": "1.2.0",
            "_view_name": "LayoutView",
            "align_content": null,
            "align_items": null,
            "align_self": null,
            "border": null,
            "bottom": null,
            "display": null,
            "flex": null,
            "flex_flow": null,
            "grid_area": null,
            "grid_auto_columns": null,
            "grid_auto_flow": null,
            "grid_auto_rows": null,
            "grid_column": null,
            "grid_gap": null,
            "grid_row": null,
            "grid_template_areas": null,
            "grid_template_columns": null,
            "grid_template_rows": null,
            "height": null,
            "justify_content": null,
            "justify_items": null,
            "left": null,
            "margin": null,
            "max_height": null,
            "max_width": null,
            "min_height": null,
            "min_width": null,
            "object_fit": null,
            "object_position": null,
            "order": null,
            "overflow": null,
            "overflow_x": null,
            "overflow_y": null,
            "padding": null,
            "right": null,
            "top": null,
            "visibility": null,
            "width": null
          }
        },
        "f08f709add0b4781bcaa7082616d9757": {
          "model_module": "@jupyter-widgets/controls",
          "model_name": "DescriptionStyleModel",
          "model_module_version": "1.5.0",
          "state": {
            "_model_module": "@jupyter-widgets/controls",
            "_model_module_version": "1.5.0",
            "_model_name": "DescriptionStyleModel",
            "_view_count": null,
            "_view_module": "@jupyter-widgets/base",
            "_view_module_version": "1.2.0",
            "_view_name": "StyleView",
            "description_width": ""
          }
        },
        "a1303b2cf3c2427f98ccfa0eecc46757": {
          "model_module": "@jupyter-widgets/controls",
          "model_name": "HBoxModel",
          "model_module_version": "1.5.0",
          "state": {
            "_dom_classes": [],
            "_model_module": "@jupyter-widgets/controls",
            "_model_module_version": "1.5.0",
            "_model_name": "HBoxModel",
            "_view_count": null,
            "_view_module": "@jupyter-widgets/controls",
            "_view_module_version": "1.5.0",
            "_view_name": "HBoxView",
            "box_style": "",
            "children": [
              "IPY_MODEL_33a832a94b0047d2844b9dc6448df13b",
              "IPY_MODEL_c0bec553c8ea46e58f4c380086df1ad8",
              "IPY_MODEL_29640f3a097d402ba978b69db1ff357c"
            ],
            "layout": "IPY_MODEL_5418d092bb1a473391d040fa06f62883"
          }
        },
        "33a832a94b0047d2844b9dc6448df13b": {
          "model_module": "@jupyter-widgets/controls",
          "model_name": "HTMLModel",
          "model_module_version": "1.5.0",
          "state": {
            "_dom_classes": [],
            "_model_module": "@jupyter-widgets/controls",
            "_model_module_version": "1.5.0",
            "_model_name": "HTMLModel",
            "_view_count": null,
            "_view_module": "@jupyter-widgets/controls",
            "_view_module_version": "1.5.0",
            "_view_name": "HTMLView",
            "description": "",
            "description_tooltip": null,
            "layout": "IPY_MODEL_571e637cf02f43bc89fd5f3fbaf37075",
            "placeholder": "​",
            "style": "IPY_MODEL_401d47848c794d1c86f2304c80123b27",
            "value": "Batches: 100%"
          }
        },
        "c0bec553c8ea46e58f4c380086df1ad8": {
          "model_module": "@jupyter-widgets/controls",
          "model_name": "FloatProgressModel",
          "model_module_version": "1.5.0",
          "state": {
            "_dom_classes": [],
            "_model_module": "@jupyter-widgets/controls",
            "_model_module_version": "1.5.0",
            "_model_name": "FloatProgressModel",
            "_view_count": null,
            "_view_module": "@jupyter-widgets/controls",
            "_view_module_version": "1.5.0",
            "_view_name": "ProgressView",
            "bar_style": "success",
            "description": "",
            "description_tooltip": null,
            "layout": "IPY_MODEL_8e453b3c60414ce18bd01175311a01d9",
            "max": 1,
            "min": 0,
            "orientation": "horizontal",
            "style": "IPY_MODEL_a946df0da2654ab5829d06ab94700624",
            "value": 1
          }
        },
        "29640f3a097d402ba978b69db1ff357c": {
          "model_module": "@jupyter-widgets/controls",
          "model_name": "HTMLModel",
          "model_module_version": "1.5.0",
          "state": {
            "_dom_classes": [],
            "_model_module": "@jupyter-widgets/controls",
            "_model_module_version": "1.5.0",
            "_model_name": "HTMLModel",
            "_view_count": null,
            "_view_module": "@jupyter-widgets/controls",
            "_view_module_version": "1.5.0",
            "_view_name": "HTMLView",
            "description": "",
            "description_tooltip": null,
            "layout": "IPY_MODEL_fee96fe7204c403e9a5d08fcfa3e76bf",
            "placeholder": "​",
            "style": "IPY_MODEL_35c0ba8b495a40f3b651d138ca1d696b",
            "value": " 1/1 [00:00&lt;00:00,  6.36it/s]"
          }
        },
        "5418d092bb1a473391d040fa06f62883": {
          "model_module": "@jupyter-widgets/base",
          "model_name": "LayoutModel",
          "model_module_version": "1.2.0",
          "state": {
            "_model_module": "@jupyter-widgets/base",
            "_model_module_version": "1.2.0",
            "_model_name": "LayoutModel",
            "_view_count": null,
            "_view_module": "@jupyter-widgets/base",
            "_view_module_version": "1.2.0",
            "_view_name": "LayoutView",
            "align_content": null,
            "align_items": null,
            "align_self": null,
            "border": null,
            "bottom": null,
            "display": null,
            "flex": null,
            "flex_flow": null,
            "grid_area": null,
            "grid_auto_columns": null,
            "grid_auto_flow": null,
            "grid_auto_rows": null,
            "grid_column": null,
            "grid_gap": null,
            "grid_row": null,
            "grid_template_areas": null,
            "grid_template_columns": null,
            "grid_template_rows": null,
            "height": null,
            "justify_content": null,
            "justify_items": null,
            "left": null,
            "margin": null,
            "max_height": null,
            "max_width": null,
            "min_height": null,
            "min_width": null,
            "object_fit": null,
            "object_position": null,
            "order": null,
            "overflow": null,
            "overflow_x": null,
            "overflow_y": null,
            "padding": null,
            "right": null,
            "top": null,
            "visibility": null,
            "width": null
          }
        },
        "571e637cf02f43bc89fd5f3fbaf37075": {
          "model_module": "@jupyter-widgets/base",
          "model_name": "LayoutModel",
          "model_module_version": "1.2.0",
          "state": {
            "_model_module": "@jupyter-widgets/base",
            "_model_module_version": "1.2.0",
            "_model_name": "LayoutModel",
            "_view_count": null,
            "_view_module": "@jupyter-widgets/base",
            "_view_module_version": "1.2.0",
            "_view_name": "LayoutView",
            "align_content": null,
            "align_items": null,
            "align_self": null,
            "border": null,
            "bottom": null,
            "display": null,
            "flex": null,
            "flex_flow": null,
            "grid_area": null,
            "grid_auto_columns": null,
            "grid_auto_flow": null,
            "grid_auto_rows": null,
            "grid_column": null,
            "grid_gap": null,
            "grid_row": null,
            "grid_template_areas": null,
            "grid_template_columns": null,
            "grid_template_rows": null,
            "height": null,
            "justify_content": null,
            "justify_items": null,
            "left": null,
            "margin": null,
            "max_height": null,
            "max_width": null,
            "min_height": null,
            "min_width": null,
            "object_fit": null,
            "object_position": null,
            "order": null,
            "overflow": null,
            "overflow_x": null,
            "overflow_y": null,
            "padding": null,
            "right": null,
            "top": null,
            "visibility": null,
            "width": null
          }
        },
        "401d47848c794d1c86f2304c80123b27": {
          "model_module": "@jupyter-widgets/controls",
          "model_name": "DescriptionStyleModel",
          "model_module_version": "1.5.0",
          "state": {
            "_model_module": "@jupyter-widgets/controls",
            "_model_module_version": "1.5.0",
            "_model_name": "DescriptionStyleModel",
            "_view_count": null,
            "_view_module": "@jupyter-widgets/base",
            "_view_module_version": "1.2.0",
            "_view_name": "StyleView",
            "description_width": ""
          }
        },
        "8e453b3c60414ce18bd01175311a01d9": {
          "model_module": "@jupyter-widgets/base",
          "model_name": "LayoutModel",
          "model_module_version": "1.2.0",
          "state": {
            "_model_module": "@jupyter-widgets/base",
            "_model_module_version": "1.2.0",
            "_model_name": "LayoutModel",
            "_view_count": null,
            "_view_module": "@jupyter-widgets/base",
            "_view_module_version": "1.2.0",
            "_view_name": "LayoutView",
            "align_content": null,
            "align_items": null,
            "align_self": null,
            "border": null,
            "bottom": null,
            "display": null,
            "flex": null,
            "flex_flow": null,
            "grid_area": null,
            "grid_auto_columns": null,
            "grid_auto_flow": null,
            "grid_auto_rows": null,
            "grid_column": null,
            "grid_gap": null,
            "grid_row": null,
            "grid_template_areas": null,
            "grid_template_columns": null,
            "grid_template_rows": null,
            "height": null,
            "justify_content": null,
            "justify_items": null,
            "left": null,
            "margin": null,
            "max_height": null,
            "max_width": null,
            "min_height": null,
            "min_width": null,
            "object_fit": null,
            "object_position": null,
            "order": null,
            "overflow": null,
            "overflow_x": null,
            "overflow_y": null,
            "padding": null,
            "right": null,
            "top": null,
            "visibility": null,
            "width": null
          }
        },
        "a946df0da2654ab5829d06ab94700624": {
          "model_module": "@jupyter-widgets/controls",
          "model_name": "ProgressStyleModel",
          "model_module_version": "1.5.0",
          "state": {
            "_model_module": "@jupyter-widgets/controls",
            "_model_module_version": "1.5.0",
            "_model_name": "ProgressStyleModel",
            "_view_count": null,
            "_view_module": "@jupyter-widgets/base",
            "_view_module_version": "1.2.0",
            "_view_name": "StyleView",
            "bar_color": null,
            "description_width": ""
          }
        },
        "fee96fe7204c403e9a5d08fcfa3e76bf": {
          "model_module": "@jupyter-widgets/base",
          "model_name": "LayoutModel",
          "model_module_version": "1.2.0",
          "state": {
            "_model_module": "@jupyter-widgets/base",
            "_model_module_version": "1.2.0",
            "_model_name": "LayoutModel",
            "_view_count": null,
            "_view_module": "@jupyter-widgets/base",
            "_view_module_version": "1.2.0",
            "_view_name": "LayoutView",
            "align_content": null,
            "align_items": null,
            "align_self": null,
            "border": null,
            "bottom": null,
            "display": null,
            "flex": null,
            "flex_flow": null,
            "grid_area": null,
            "grid_auto_columns": null,
            "grid_auto_flow": null,
            "grid_auto_rows": null,
            "grid_column": null,
            "grid_gap": null,
            "grid_row": null,
            "grid_template_areas": null,
            "grid_template_columns": null,
            "grid_template_rows": null,
            "height": null,
            "justify_content": null,
            "justify_items": null,
            "left": null,
            "margin": null,
            "max_height": null,
            "max_width": null,
            "min_height": null,
            "min_width": null,
            "object_fit": null,
            "object_position": null,
            "order": null,
            "overflow": null,
            "overflow_x": null,
            "overflow_y": null,
            "padding": null,
            "right": null,
            "top": null,
            "visibility": null,
            "width": null
          }
        },
        "35c0ba8b495a40f3b651d138ca1d696b": {
          "model_module": "@jupyter-widgets/controls",
          "model_name": "DescriptionStyleModel",
          "model_module_version": "1.5.0",
          "state": {
            "_model_module": "@jupyter-widgets/controls",
            "_model_module_version": "1.5.0",
            "_model_name": "DescriptionStyleModel",
            "_view_count": null,
            "_view_module": "@jupyter-widgets/base",
            "_view_module_version": "1.2.0",
            "_view_name": "StyleView",
            "description_width": ""
          }
        }
      }
    }
  },
  "nbformat": 4,
  "nbformat_minor": 0
}